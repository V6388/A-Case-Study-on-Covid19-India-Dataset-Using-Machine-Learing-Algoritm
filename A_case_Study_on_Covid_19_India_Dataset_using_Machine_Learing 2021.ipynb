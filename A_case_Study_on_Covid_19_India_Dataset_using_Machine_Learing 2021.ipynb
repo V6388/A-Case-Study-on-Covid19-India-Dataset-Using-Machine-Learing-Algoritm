{
  "nbformat": 4,
  "nbformat_minor": 0,
  "metadata": {
    "colab": {
      "name": "A case Study on Covid 19  India Dataset using Machine Learing",
      "provenance": [],
      "authorship_tag": "ABX9TyPedJWHXATMUA1sAY9d/wHO",
      "include_colab_link": true
    },
    "kernelspec": {
      "name": "python3",
      "display_name": "Python 3"
    },
    "language_info": {
      "name": "python"
    }
  },
  "cells": [
    {
      "cell_type": "markdown",
      "metadata": {
        "id": "view-in-github",
        "colab_type": "text"
      },
      "source": [
        "<a href=\"https://colab.research.google.com/github/V6388/A-Case-Study-on-Covid19-India-Dataset-Using-Machine-Learing-Algoritm/blob/main/A_case_Study_on_Covid_19_India_Dataset_using_Machine_Learing%202021.ipynb\" target=\"_parent\"><img src=\"https://colab.research.google.com/assets/colab-badge.svg\" alt=\"Open In Colab\"/></a>"
      ]
    },
    {
      "cell_type": "code",
      "metadata": {
        "id": "xS1qet5DfPWV"
      },
      "source": [
        "import pandas as pd\n",
        "import numpy as np\n",
        "import requests\n",
        "import json\n",
        "from sklearn.metrics import mean_absolute_error"
      ],
      "execution_count": 353,
      "outputs": []
    },
    {
      "cell_type": "code",
      "metadata": {
        "id": "V5uASOzIfyBX"
      },
      "source": [
        "df22 = pd.read_csv(\"https://data.covid19india.org/csv/latest/raw_data22.csv\")\n",
        "df23 = pd.read_csv(\"https://data.covid19india.org/csv/latest/raw_data23.csv\")\n",
        "df24 = pd.read_csv(\"https://data.covid19india.org/csv/latest/raw_data24.csv\")\n",
        "df25 = pd.read_csv(\"https://data.covid19india.org/csv/latest/raw_data25.csv\")\n",
        "df26 = pd.read_csv(\"https://data.covid19india.org/csv/latest/raw_data26.csv\")\n",
        "df27 = pd.read_csv(\"https://data.covid19india.org/csv/latest/raw_data27.csv\")\n",
        "df28 = pd.read_csv(\"https://data.covid19india.org/csv/latest/raw_data28.csv\")\n",
        "df29 = pd.read_csv(\"https://data.covid19india.org/csv/latest/raw_data29.csv\")\n",
        "df30 = pd.read_csv(\"https://data.covid19india.org/csv/latest/raw_data30.csv\")\n",
        "df31= pd.read_csv(\"https://data.covid19india.org/csv/latest/raw_data31.csv\")\n",
        "df32= pd.read_csv(\"https://data.covid19india.org/csv/latest/raw_data32.csv\")\n",
        "df33= pd.read_csv(\"https://data.covid19india.org/csv/latest/raw_data33.csv\")"
      ],
      "execution_count": 206,
      "outputs": []
    },
    {
      "cell_type": "code",
      "metadata": {
        "colab": {
          "base_uri": "https://localhost:8080/"
        },
        "id": "bE8bjGbegDwK",
        "outputId": "423f8e70-99de-4c05-b083-6ef2947f734f"
      },
      "source": [
        "df22.info()"
      ],
      "execution_count": 207,
      "outputs": [
        {
          "output_type": "stream",
          "name": "stdout",
          "text": [
            "<class 'pandas.core.frame.DataFrame'>\n",
            "RangeIndex: 25791 entries, 0 to 25790\n",
            "Data columns (total 20 columns):\n",
            " #   Column                                     Non-Null Count  Dtype  \n",
            "---  ------                                     --------------  -----  \n",
            " 0   Entry_ID                                   25791 non-null  int64  \n",
            " 1   State Patient Number                       0 non-null      float64\n",
            " 2   Date Announced                             25791 non-null  object \n",
            " 3   Age Bracket                                15 non-null     float64\n",
            " 4   Gender                                     15 non-null     object \n",
            " 5   Detected City                              1 non-null      object \n",
            " 6   Detected District                          25425 non-null  object \n",
            " 7   Detected State                             25791 non-null  object \n",
            " 8   State code                                 25791 non-null  object \n",
            " 9   Num Cases                                  25791 non-null  int64  \n",
            " 10  Current Status                             25791 non-null  object \n",
            " 11  Contracted from which Patient (Suspected)  0 non-null      float64\n",
            " 12  Notes                                      39 non-null     object \n",
            " 13  Source_1                                   25210 non-null  object \n",
            " 14  Source_2                                   1615 non-null   object \n",
            " 15  Source_3                                   0 non-null      float64\n",
            " 16  Nationality                                0 non-null      float64\n",
            " 17  Type of transmission                       0 non-null      float64\n",
            " 18  Status Change Date                         0 non-null      float64\n",
            " 19  Patient Number                             0 non-null      float64\n",
            "dtypes: float64(8), int64(2), object(10)\n",
            "memory usage: 3.9+ MB\n"
          ]
        }
      ]
    },
    {
      "cell_type": "code",
      "metadata": {
        "id": "65uuYaeqhEYS"
      },
      "source": [
        "df=df22.append([df23,df24,df25,df26,df27,df28,df29,df30,df31,df32,df33])"
      ],
      "execution_count": 208,
      "outputs": []
    },
    {
      "cell_type": "code",
      "metadata": {
        "colab": {
          "base_uri": "https://localhost:8080/",
          "height": 504
        },
        "id": "zyflc3Kulqh5",
        "outputId": "89da2aea-ddc2-47b8-ca9e-53820897f54f"
      },
      "source": [
        "df"
      ],
      "execution_count": 209,
      "outputs": [
        {
          "output_type": "execute_result",
          "data": {
            "text/html": [
              "<div>\n",
              "<style scoped>\n",
              "    .dataframe tbody tr th:only-of-type {\n",
              "        vertical-align: middle;\n",
              "    }\n",
              "\n",
              "    .dataframe tbody tr th {\n",
              "        vertical-align: top;\n",
              "    }\n",
              "\n",
              "    .dataframe thead th {\n",
              "        text-align: right;\n",
              "    }\n",
              "</style>\n",
              "<table border=\"1\" class=\"dataframe\">\n",
              "  <thead>\n",
              "    <tr style=\"text-align: right;\">\n",
              "      <th></th>\n",
              "      <th>Entry_ID</th>\n",
              "      <th>State Patient Number</th>\n",
              "      <th>Date Announced</th>\n",
              "      <th>Age Bracket</th>\n",
              "      <th>Gender</th>\n",
              "      <th>Detected City</th>\n",
              "      <th>Detected District</th>\n",
              "      <th>Detected State</th>\n",
              "      <th>State code</th>\n",
              "      <th>Num Cases</th>\n",
              "      <th>Current Status</th>\n",
              "      <th>Contracted from which Patient (Suspected)</th>\n",
              "      <th>Notes</th>\n",
              "      <th>Source_1</th>\n",
              "      <th>Source_2</th>\n",
              "      <th>Source_3</th>\n",
              "      <th>Nationality</th>\n",
              "      <th>Type of transmission</th>\n",
              "      <th>Status Change Date</th>\n",
              "      <th>Patient Number</th>\n",
              "      <th>Unnamed: 5</th>\n",
              "    </tr>\n",
              "  </thead>\n",
              "  <tbody>\n",
              "    <tr>\n",
              "      <th>0</th>\n",
              "      <td>453529</td>\n",
              "      <td>NaN</td>\n",
              "      <td>09/01/2021</td>\n",
              "      <td>NaN</td>\n",
              "      <td>NaN</td>\n",
              "      <td>NaN</td>\n",
              "      <td>NaN</td>\n",
              "      <td>Telangana</td>\n",
              "      <td>TG</td>\n",
              "      <td>474.0</td>\n",
              "      <td>Recovered</td>\n",
              "      <td>NaN</td>\n",
              "      <td>NaN</td>\n",
              "      <td>http://twitter.com/drgsrao/status/134775880790...</td>\n",
              "      <td>NaN</td>\n",
              "      <td>NaN</td>\n",
              "      <td>NaN</td>\n",
              "      <td>NaN</td>\n",
              "      <td>NaN</td>\n",
              "      <td>NaN</td>\n",
              "      <td>NaN</td>\n",
              "    </tr>\n",
              "    <tr>\n",
              "      <th>1</th>\n",
              "      <td>453530</td>\n",
              "      <td>NaN</td>\n",
              "      <td>09/01/2021</td>\n",
              "      <td>NaN</td>\n",
              "      <td>NaN</td>\n",
              "      <td>NaN</td>\n",
              "      <td>NaN</td>\n",
              "      <td>Telangana</td>\n",
              "      <td>TG</td>\n",
              "      <td>2.0</td>\n",
              "      <td>Deceased</td>\n",
              "      <td>NaN</td>\n",
              "      <td>NaN</td>\n",
              "      <td>http://twitter.com/drgsrao/status/134775880790...</td>\n",
              "      <td>NaN</td>\n",
              "      <td>NaN</td>\n",
              "      <td>NaN</td>\n",
              "      <td>NaN</td>\n",
              "      <td>NaN</td>\n",
              "      <td>NaN</td>\n",
              "      <td>NaN</td>\n",
              "    </tr>\n",
              "    <tr>\n",
              "      <th>2</th>\n",
              "      <td>453531</td>\n",
              "      <td>NaN</td>\n",
              "      <td>09/01/2021</td>\n",
              "      <td>NaN</td>\n",
              "      <td>NaN</td>\n",
              "      <td>NaN</td>\n",
              "      <td>Adilabad</td>\n",
              "      <td>Telangana</td>\n",
              "      <td>TG</td>\n",
              "      <td>4.0</td>\n",
              "      <td>Hospitalized</td>\n",
              "      <td>NaN</td>\n",
              "      <td>NaN</td>\n",
              "      <td>http://twitter.com/drgsrao/status/134775880790...</td>\n",
              "      <td>NaN</td>\n",
              "      <td>NaN</td>\n",
              "      <td>NaN</td>\n",
              "      <td>NaN</td>\n",
              "      <td>NaN</td>\n",
              "      <td>NaN</td>\n",
              "      <td>NaN</td>\n",
              "    </tr>\n",
              "    <tr>\n",
              "      <th>3</th>\n",
              "      <td>453532</td>\n",
              "      <td>NaN</td>\n",
              "      <td>09/01/2021</td>\n",
              "      <td>NaN</td>\n",
              "      <td>NaN</td>\n",
              "      <td>NaN</td>\n",
              "      <td>Bhadradri Kothagudem</td>\n",
              "      <td>Telangana</td>\n",
              "      <td>TG</td>\n",
              "      <td>8.0</td>\n",
              "      <td>Hospitalized</td>\n",
              "      <td>NaN</td>\n",
              "      <td>NaN</td>\n",
              "      <td>http://twitter.com/drgsrao/status/134775880790...</td>\n",
              "      <td>NaN</td>\n",
              "      <td>NaN</td>\n",
              "      <td>NaN</td>\n",
              "      <td>NaN</td>\n",
              "      <td>NaN</td>\n",
              "      <td>NaN</td>\n",
              "      <td>NaN</td>\n",
              "    </tr>\n",
              "    <tr>\n",
              "      <th>4</th>\n",
              "      <td>453533</td>\n",
              "      <td>NaN</td>\n",
              "      <td>09/01/2021</td>\n",
              "      <td>NaN</td>\n",
              "      <td>NaN</td>\n",
              "      <td>NaN</td>\n",
              "      <td>Hyderabad</td>\n",
              "      <td>Telangana</td>\n",
              "      <td>TG</td>\n",
              "      <td>61.0</td>\n",
              "      <td>Hospitalized</td>\n",
              "      <td>NaN</td>\n",
              "      <td>NaN</td>\n",
              "      <td>http://twitter.com/drgsrao/status/134775880790...</td>\n",
              "      <td>NaN</td>\n",
              "      <td>NaN</td>\n",
              "      <td>NaN</td>\n",
              "      <td>NaN</td>\n",
              "      <td>NaN</td>\n",
              "      <td>NaN</td>\n",
              "      <td>NaN</td>\n",
              "    </tr>\n",
              "    <tr>\n",
              "      <th>...</th>\n",
              "      <td>...</td>\n",
              "      <td>...</td>\n",
              "      <td>...</td>\n",
              "      <td>...</td>\n",
              "      <td>...</td>\n",
              "      <td>...</td>\n",
              "      <td>...</td>\n",
              "      <td>...</td>\n",
              "      <td>...</td>\n",
              "      <td>...</td>\n",
              "      <td>...</td>\n",
              "      <td>...</td>\n",
              "      <td>...</td>\n",
              "      <td>...</td>\n",
              "      <td>...</td>\n",
              "      <td>...</td>\n",
              "      <td>...</td>\n",
              "      <td>...</td>\n",
              "      <td>...</td>\n",
              "      <td>...</td>\n",
              "      <td>...</td>\n",
              "    </tr>\n",
              "    <tr>\n",
              "      <th>21093</th>\n",
              "      <td>772181</td>\n",
              "      <td>NaN</td>\n",
              "      <td>07/09/2021</td>\n",
              "      <td>NaN</td>\n",
              "      <td>NaN</td>\n",
              "      <td>NaN</td>\n",
              "      <td>NaN</td>\n",
              "      <td>NaN</td>\n",
              "      <td>NaN</td>\n",
              "      <td>NaN</td>\n",
              "      <td>NaN</td>\n",
              "      <td>NaN</td>\n",
              "      <td>NaN</td>\n",
              "      <td>NaN</td>\n",
              "      <td>NaN</td>\n",
              "      <td>NaN</td>\n",
              "      <td>NaN</td>\n",
              "      <td>NaN</td>\n",
              "      <td>NaN</td>\n",
              "      <td>NaN</td>\n",
              "      <td>NaN</td>\n",
              "    </tr>\n",
              "    <tr>\n",
              "      <th>21094</th>\n",
              "      <td>772182</td>\n",
              "      <td>NaN</td>\n",
              "      <td>07/09/2021</td>\n",
              "      <td>NaN</td>\n",
              "      <td>NaN</td>\n",
              "      <td>NaN</td>\n",
              "      <td>NaN</td>\n",
              "      <td>NaN</td>\n",
              "      <td>NaN</td>\n",
              "      <td>NaN</td>\n",
              "      <td>NaN</td>\n",
              "      <td>NaN</td>\n",
              "      <td>NaN</td>\n",
              "      <td>NaN</td>\n",
              "      <td>NaN</td>\n",
              "      <td>NaN</td>\n",
              "      <td>NaN</td>\n",
              "      <td>NaN</td>\n",
              "      <td>NaN</td>\n",
              "      <td>NaN</td>\n",
              "      <td>NaN</td>\n",
              "    </tr>\n",
              "    <tr>\n",
              "      <th>21095</th>\n",
              "      <td>772183</td>\n",
              "      <td>NaN</td>\n",
              "      <td>07/09/2021</td>\n",
              "      <td>NaN</td>\n",
              "      <td>NaN</td>\n",
              "      <td>NaN</td>\n",
              "      <td>NaN</td>\n",
              "      <td>NaN</td>\n",
              "      <td>NaN</td>\n",
              "      <td>NaN</td>\n",
              "      <td>NaN</td>\n",
              "      <td>NaN</td>\n",
              "      <td>NaN</td>\n",
              "      <td>NaN</td>\n",
              "      <td>NaN</td>\n",
              "      <td>NaN</td>\n",
              "      <td>NaN</td>\n",
              "      <td>NaN</td>\n",
              "      <td>NaN</td>\n",
              "      <td>NaN</td>\n",
              "      <td>NaN</td>\n",
              "    </tr>\n",
              "    <tr>\n",
              "      <th>21096</th>\n",
              "      <td>772184</td>\n",
              "      <td>NaN</td>\n",
              "      <td>07/09/2021</td>\n",
              "      <td>NaN</td>\n",
              "      <td>NaN</td>\n",
              "      <td>NaN</td>\n",
              "      <td>NaN</td>\n",
              "      <td>NaN</td>\n",
              "      <td>NaN</td>\n",
              "      <td>NaN</td>\n",
              "      <td>NaN</td>\n",
              "      <td>NaN</td>\n",
              "      <td>NaN</td>\n",
              "      <td>NaN</td>\n",
              "      <td>NaN</td>\n",
              "      <td>NaN</td>\n",
              "      <td>NaN</td>\n",
              "      <td>NaN</td>\n",
              "      <td>NaN</td>\n",
              "      <td>NaN</td>\n",
              "      <td>NaN</td>\n",
              "    </tr>\n",
              "    <tr>\n",
              "      <th>21097</th>\n",
              "      <td>772185</td>\n",
              "      <td>NaN</td>\n",
              "      <td>07/09/2021</td>\n",
              "      <td>NaN</td>\n",
              "      <td>NaN</td>\n",
              "      <td>NaN</td>\n",
              "      <td>NaN</td>\n",
              "      <td>NaN</td>\n",
              "      <td>NaN</td>\n",
              "      <td>NaN</td>\n",
              "      <td>NaN</td>\n",
              "      <td>NaN</td>\n",
              "      <td>NaN</td>\n",
              "      <td>NaN</td>\n",
              "      <td>NaN</td>\n",
              "      <td>NaN</td>\n",
              "      <td>NaN</td>\n",
              "      <td>NaN</td>\n",
              "      <td>NaN</td>\n",
              "      <td>NaN</td>\n",
              "      <td>NaN</td>\n",
              "    </tr>\n",
              "  </tbody>\n",
              "</table>\n",
              "<p>318194 rows × 21 columns</p>\n",
              "</div>"
            ],
            "text/plain": [
              "       Entry_ID  State Patient Number  ... Patient Number  Unnamed: 5\n",
              "0        453529                   NaN  ...            NaN         NaN\n",
              "1        453530                   NaN  ...            NaN         NaN\n",
              "2        453531                   NaN  ...            NaN         NaN\n",
              "3        453532                   NaN  ...            NaN         NaN\n",
              "4        453533                   NaN  ...            NaN         NaN\n",
              "...         ...                   ...  ...            ...         ...\n",
              "21093    772181                   NaN  ...            NaN         NaN\n",
              "21094    772182                   NaN  ...            NaN         NaN\n",
              "21095    772183                   NaN  ...            NaN         NaN\n",
              "21096    772184                   NaN  ...            NaN         NaN\n",
              "21097    772185                   NaN  ...            NaN         NaN\n",
              "\n",
              "[318194 rows x 21 columns]"
            ]
          },
          "metadata": {},
          "execution_count": 209
        }
      ]
    },
    {
      "cell_type": "code",
      "metadata": {
        "colab": {
          "base_uri": "https://localhost:8080/"
        },
        "id": "fZEpBIINluyU",
        "outputId": "53a42020-5fab-4d1e-98a6-81facd02d3d5"
      },
      "source": [
        "df.columns"
      ],
      "execution_count": 210,
      "outputs": [
        {
          "output_type": "execute_result",
          "data": {
            "text/plain": [
              "Index(['Entry_ID', 'State Patient Number', 'Date Announced', 'Age Bracket',\n",
              "       'Gender', 'Detected City', 'Detected District', 'Detected State',\n",
              "       'State code', 'Num Cases', 'Current Status',\n",
              "       'Contracted from which Patient (Suspected)', 'Notes', 'Source_1',\n",
              "       'Source_2', 'Source_3', 'Nationality', 'Type of transmission',\n",
              "       'Status Change Date', 'Patient Number', 'Unnamed: 5'],\n",
              "      dtype='object')"
            ]
          },
          "metadata": {},
          "execution_count": 210
        }
      ]
    },
    {
      "cell_type": "code",
      "metadata": {
        "id": "5kiYwxVyl_rl"
      },
      "source": [
        "df1=df.loc[:,['Num Cases','Date Announced','Age Bracket', 'Gender', 'Detected City',\n",
        "       'Detected District', 'Detected State','Current Status']]"
      ],
      "execution_count": 211,
      "outputs": []
    },
    {
      "cell_type": "code",
      "metadata": {
        "id": "dtt8PPFZmuni"
      },
      "source": [
        "df.to_csv('Covid19India Dataset till 6 setember2021from 9 january 2021')"
      ],
      "execution_count": 212,
      "outputs": []
    },
    {
      "cell_type": "code",
      "metadata": {
        "colab": {
          "base_uri": "https://localhost:8080/",
          "height": 417
        },
        "id": "ZOrFCtdOnz2l",
        "outputId": "9c5a943f-3c7b-4f37-85c0-726666beb053"
      },
      "source": [
        "Date = df['Date Announced'].str.split('/',expand=True)\n",
        "Date.columns = ['Day','Month','Year']\n",
        "Date"
      ],
      "execution_count": 213,
      "outputs": [
        {
          "output_type": "execute_result",
          "data": {
            "text/html": [
              "<div>\n",
              "<style scoped>\n",
              "    .dataframe tbody tr th:only-of-type {\n",
              "        vertical-align: middle;\n",
              "    }\n",
              "\n",
              "    .dataframe tbody tr th {\n",
              "        vertical-align: top;\n",
              "    }\n",
              "\n",
              "    .dataframe thead th {\n",
              "        text-align: right;\n",
              "    }\n",
              "</style>\n",
              "<table border=\"1\" class=\"dataframe\">\n",
              "  <thead>\n",
              "    <tr style=\"text-align: right;\">\n",
              "      <th></th>\n",
              "      <th>Day</th>\n",
              "      <th>Month</th>\n",
              "      <th>Year</th>\n",
              "    </tr>\n",
              "  </thead>\n",
              "  <tbody>\n",
              "    <tr>\n",
              "      <th>0</th>\n",
              "      <td>09</td>\n",
              "      <td>01</td>\n",
              "      <td>2021</td>\n",
              "    </tr>\n",
              "    <tr>\n",
              "      <th>1</th>\n",
              "      <td>09</td>\n",
              "      <td>01</td>\n",
              "      <td>2021</td>\n",
              "    </tr>\n",
              "    <tr>\n",
              "      <th>2</th>\n",
              "      <td>09</td>\n",
              "      <td>01</td>\n",
              "      <td>2021</td>\n",
              "    </tr>\n",
              "    <tr>\n",
              "      <th>3</th>\n",
              "      <td>09</td>\n",
              "      <td>01</td>\n",
              "      <td>2021</td>\n",
              "    </tr>\n",
              "    <tr>\n",
              "      <th>4</th>\n",
              "      <td>09</td>\n",
              "      <td>01</td>\n",
              "      <td>2021</td>\n",
              "    </tr>\n",
              "    <tr>\n",
              "      <th>...</th>\n",
              "      <td>...</td>\n",
              "      <td>...</td>\n",
              "      <td>...</td>\n",
              "    </tr>\n",
              "    <tr>\n",
              "      <th>21093</th>\n",
              "      <td>07</td>\n",
              "      <td>09</td>\n",
              "      <td>2021</td>\n",
              "    </tr>\n",
              "    <tr>\n",
              "      <th>21094</th>\n",
              "      <td>07</td>\n",
              "      <td>09</td>\n",
              "      <td>2021</td>\n",
              "    </tr>\n",
              "    <tr>\n",
              "      <th>21095</th>\n",
              "      <td>07</td>\n",
              "      <td>09</td>\n",
              "      <td>2021</td>\n",
              "    </tr>\n",
              "    <tr>\n",
              "      <th>21096</th>\n",
              "      <td>07</td>\n",
              "      <td>09</td>\n",
              "      <td>2021</td>\n",
              "    </tr>\n",
              "    <tr>\n",
              "      <th>21097</th>\n",
              "      <td>07</td>\n",
              "      <td>09</td>\n",
              "      <td>2021</td>\n",
              "    </tr>\n",
              "  </tbody>\n",
              "</table>\n",
              "<p>318194 rows × 3 columns</p>\n",
              "</div>"
            ],
            "text/plain": [
              "      Day Month  Year\n",
              "0      09    01  2021\n",
              "1      09    01  2021\n",
              "2      09    01  2021\n",
              "3      09    01  2021\n",
              "4      09    01  2021\n",
              "...    ..   ...   ...\n",
              "21093  07    09  2021\n",
              "21094  07    09  2021\n",
              "21095  07    09  2021\n",
              "21096  07    09  2021\n",
              "21097  07    09  2021\n",
              "\n",
              "[318194 rows x 3 columns]"
            ]
          },
          "metadata": {},
          "execution_count": 213
        }
      ]
    },
    {
      "cell_type": "code",
      "metadata": {
        "colab": {
          "base_uri": "https://localhost:8080/",
          "height": 417
        },
        "id": "ErMhTQXKowxw",
        "outputId": "58fb81e3-fb75-4c93-a818-51281c27fc4e"
      },
      "source": [
        "df=pd.concat([df1,Date],axis =1)\n",
        "df"
      ],
      "execution_count": 214,
      "outputs": [
        {
          "output_type": "execute_result",
          "data": {
            "text/html": [
              "<div>\n",
              "<style scoped>\n",
              "    .dataframe tbody tr th:only-of-type {\n",
              "        vertical-align: middle;\n",
              "    }\n",
              "\n",
              "    .dataframe tbody tr th {\n",
              "        vertical-align: top;\n",
              "    }\n",
              "\n",
              "    .dataframe thead th {\n",
              "        text-align: right;\n",
              "    }\n",
              "</style>\n",
              "<table border=\"1\" class=\"dataframe\">\n",
              "  <thead>\n",
              "    <tr style=\"text-align: right;\">\n",
              "      <th></th>\n",
              "      <th>Num Cases</th>\n",
              "      <th>Date Announced</th>\n",
              "      <th>Age Bracket</th>\n",
              "      <th>Gender</th>\n",
              "      <th>Detected City</th>\n",
              "      <th>Detected District</th>\n",
              "      <th>Detected State</th>\n",
              "      <th>Current Status</th>\n",
              "      <th>Day</th>\n",
              "      <th>Month</th>\n",
              "      <th>Year</th>\n",
              "    </tr>\n",
              "  </thead>\n",
              "  <tbody>\n",
              "    <tr>\n",
              "      <th>0</th>\n",
              "      <td>474.0</td>\n",
              "      <td>09/01/2021</td>\n",
              "      <td>NaN</td>\n",
              "      <td>NaN</td>\n",
              "      <td>NaN</td>\n",
              "      <td>NaN</td>\n",
              "      <td>Telangana</td>\n",
              "      <td>Recovered</td>\n",
              "      <td>09</td>\n",
              "      <td>01</td>\n",
              "      <td>2021</td>\n",
              "    </tr>\n",
              "    <tr>\n",
              "      <th>1</th>\n",
              "      <td>2.0</td>\n",
              "      <td>09/01/2021</td>\n",
              "      <td>NaN</td>\n",
              "      <td>NaN</td>\n",
              "      <td>NaN</td>\n",
              "      <td>NaN</td>\n",
              "      <td>Telangana</td>\n",
              "      <td>Deceased</td>\n",
              "      <td>09</td>\n",
              "      <td>01</td>\n",
              "      <td>2021</td>\n",
              "    </tr>\n",
              "    <tr>\n",
              "      <th>2</th>\n",
              "      <td>4.0</td>\n",
              "      <td>09/01/2021</td>\n",
              "      <td>NaN</td>\n",
              "      <td>NaN</td>\n",
              "      <td>NaN</td>\n",
              "      <td>Adilabad</td>\n",
              "      <td>Telangana</td>\n",
              "      <td>Hospitalized</td>\n",
              "      <td>09</td>\n",
              "      <td>01</td>\n",
              "      <td>2021</td>\n",
              "    </tr>\n",
              "    <tr>\n",
              "      <th>3</th>\n",
              "      <td>8.0</td>\n",
              "      <td>09/01/2021</td>\n",
              "      <td>NaN</td>\n",
              "      <td>NaN</td>\n",
              "      <td>NaN</td>\n",
              "      <td>Bhadradri Kothagudem</td>\n",
              "      <td>Telangana</td>\n",
              "      <td>Hospitalized</td>\n",
              "      <td>09</td>\n",
              "      <td>01</td>\n",
              "      <td>2021</td>\n",
              "    </tr>\n",
              "    <tr>\n",
              "      <th>4</th>\n",
              "      <td>61.0</td>\n",
              "      <td>09/01/2021</td>\n",
              "      <td>NaN</td>\n",
              "      <td>NaN</td>\n",
              "      <td>NaN</td>\n",
              "      <td>Hyderabad</td>\n",
              "      <td>Telangana</td>\n",
              "      <td>Hospitalized</td>\n",
              "      <td>09</td>\n",
              "      <td>01</td>\n",
              "      <td>2021</td>\n",
              "    </tr>\n",
              "    <tr>\n",
              "      <th>...</th>\n",
              "      <td>...</td>\n",
              "      <td>...</td>\n",
              "      <td>...</td>\n",
              "      <td>...</td>\n",
              "      <td>...</td>\n",
              "      <td>...</td>\n",
              "      <td>...</td>\n",
              "      <td>...</td>\n",
              "      <td>...</td>\n",
              "      <td>...</td>\n",
              "      <td>...</td>\n",
              "    </tr>\n",
              "    <tr>\n",
              "      <th>21093</th>\n",
              "      <td>NaN</td>\n",
              "      <td>07/09/2021</td>\n",
              "      <td>NaN</td>\n",
              "      <td>NaN</td>\n",
              "      <td>NaN</td>\n",
              "      <td>NaN</td>\n",
              "      <td>NaN</td>\n",
              "      <td>NaN</td>\n",
              "      <td>07</td>\n",
              "      <td>09</td>\n",
              "      <td>2021</td>\n",
              "    </tr>\n",
              "    <tr>\n",
              "      <th>21094</th>\n",
              "      <td>NaN</td>\n",
              "      <td>07/09/2021</td>\n",
              "      <td>NaN</td>\n",
              "      <td>NaN</td>\n",
              "      <td>NaN</td>\n",
              "      <td>NaN</td>\n",
              "      <td>NaN</td>\n",
              "      <td>NaN</td>\n",
              "      <td>07</td>\n",
              "      <td>09</td>\n",
              "      <td>2021</td>\n",
              "    </tr>\n",
              "    <tr>\n",
              "      <th>21095</th>\n",
              "      <td>NaN</td>\n",
              "      <td>07/09/2021</td>\n",
              "      <td>NaN</td>\n",
              "      <td>NaN</td>\n",
              "      <td>NaN</td>\n",
              "      <td>NaN</td>\n",
              "      <td>NaN</td>\n",
              "      <td>NaN</td>\n",
              "      <td>07</td>\n",
              "      <td>09</td>\n",
              "      <td>2021</td>\n",
              "    </tr>\n",
              "    <tr>\n",
              "      <th>21096</th>\n",
              "      <td>NaN</td>\n",
              "      <td>07/09/2021</td>\n",
              "      <td>NaN</td>\n",
              "      <td>NaN</td>\n",
              "      <td>NaN</td>\n",
              "      <td>NaN</td>\n",
              "      <td>NaN</td>\n",
              "      <td>NaN</td>\n",
              "      <td>07</td>\n",
              "      <td>09</td>\n",
              "      <td>2021</td>\n",
              "    </tr>\n",
              "    <tr>\n",
              "      <th>21097</th>\n",
              "      <td>NaN</td>\n",
              "      <td>07/09/2021</td>\n",
              "      <td>NaN</td>\n",
              "      <td>NaN</td>\n",
              "      <td>NaN</td>\n",
              "      <td>NaN</td>\n",
              "      <td>NaN</td>\n",
              "      <td>NaN</td>\n",
              "      <td>07</td>\n",
              "      <td>09</td>\n",
              "      <td>2021</td>\n",
              "    </tr>\n",
              "  </tbody>\n",
              "</table>\n",
              "<p>318194 rows × 11 columns</p>\n",
              "</div>"
            ],
            "text/plain": [
              "       Num Cases Date Announced  Age Bracket  ... Day Month  Year\n",
              "0          474.0     09/01/2021          NaN  ...  09    01  2021\n",
              "1            2.0     09/01/2021          NaN  ...  09    01  2021\n",
              "2            4.0     09/01/2021          NaN  ...  09    01  2021\n",
              "3            8.0     09/01/2021          NaN  ...  09    01  2021\n",
              "4           61.0     09/01/2021          NaN  ...  09    01  2021\n",
              "...          ...            ...          ...  ...  ..   ...   ...\n",
              "21093        NaN     07/09/2021          NaN  ...  07    09  2021\n",
              "21094        NaN     07/09/2021          NaN  ...  07    09  2021\n",
              "21095        NaN     07/09/2021          NaN  ...  07    09  2021\n",
              "21096        NaN     07/09/2021          NaN  ...  07    09  2021\n",
              "21097        NaN     07/09/2021          NaN  ...  07    09  2021\n",
              "\n",
              "[318194 rows x 11 columns]"
            ]
          },
          "metadata": {},
          "execution_count": 214
        }
      ]
    },
    {
      "cell_type": "code",
      "metadata": {
        "id": "emJUvyykpG-X"
      },
      "source": [
        "df.to_csv('covid19India.csv')"
      ],
      "execution_count": 215,
      "outputs": []
    },
    {
      "cell_type": "code",
      "metadata": {
        "colab": {
          "base_uri": "https://localhost:8080/",
          "height": 450
        },
        "id": "nuOUfU5EppMy",
        "outputId": "599b4b4b-ec16-471c-9fd1-3a1c1ea9a3fc"
      },
      "source": [
        "df=pd.read_csv('covid19India.csv')\n",
        "df"
      ],
      "execution_count": 216,
      "outputs": [
        {
          "output_type": "stream",
          "name": "stderr",
          "text": [
            "/usr/local/lib/python3.7/dist-packages/IPython/core/interactiveshell.py:2718: DtypeWarning: Columns (5) have mixed types.Specify dtype option on import or set low_memory=False.\n",
            "  interactivity=interactivity, compiler=compiler, result=result)\n"
          ]
        },
        {
          "output_type": "execute_result",
          "data": {
            "text/html": [
              "<div>\n",
              "<style scoped>\n",
              "    .dataframe tbody tr th:only-of-type {\n",
              "        vertical-align: middle;\n",
              "    }\n",
              "\n",
              "    .dataframe tbody tr th {\n",
              "        vertical-align: top;\n",
              "    }\n",
              "\n",
              "    .dataframe thead th {\n",
              "        text-align: right;\n",
              "    }\n",
              "</style>\n",
              "<table border=\"1\" class=\"dataframe\">\n",
              "  <thead>\n",
              "    <tr style=\"text-align: right;\">\n",
              "      <th></th>\n",
              "      <th>Unnamed: 0</th>\n",
              "      <th>Num Cases</th>\n",
              "      <th>Date Announced</th>\n",
              "      <th>Age Bracket</th>\n",
              "      <th>Gender</th>\n",
              "      <th>Detected City</th>\n",
              "      <th>Detected District</th>\n",
              "      <th>Detected State</th>\n",
              "      <th>Current Status</th>\n",
              "      <th>Day</th>\n",
              "      <th>Month</th>\n",
              "      <th>Year</th>\n",
              "    </tr>\n",
              "  </thead>\n",
              "  <tbody>\n",
              "    <tr>\n",
              "      <th>0</th>\n",
              "      <td>0</td>\n",
              "      <td>474.0</td>\n",
              "      <td>09/01/2021</td>\n",
              "      <td>NaN</td>\n",
              "      <td>NaN</td>\n",
              "      <td>NaN</td>\n",
              "      <td>NaN</td>\n",
              "      <td>Telangana</td>\n",
              "      <td>Recovered</td>\n",
              "      <td>9</td>\n",
              "      <td>1</td>\n",
              "      <td>2021</td>\n",
              "    </tr>\n",
              "    <tr>\n",
              "      <th>1</th>\n",
              "      <td>1</td>\n",
              "      <td>2.0</td>\n",
              "      <td>09/01/2021</td>\n",
              "      <td>NaN</td>\n",
              "      <td>NaN</td>\n",
              "      <td>NaN</td>\n",
              "      <td>NaN</td>\n",
              "      <td>Telangana</td>\n",
              "      <td>Deceased</td>\n",
              "      <td>9</td>\n",
              "      <td>1</td>\n",
              "      <td>2021</td>\n",
              "    </tr>\n",
              "    <tr>\n",
              "      <th>2</th>\n",
              "      <td>2</td>\n",
              "      <td>4.0</td>\n",
              "      <td>09/01/2021</td>\n",
              "      <td>NaN</td>\n",
              "      <td>NaN</td>\n",
              "      <td>NaN</td>\n",
              "      <td>Adilabad</td>\n",
              "      <td>Telangana</td>\n",
              "      <td>Hospitalized</td>\n",
              "      <td>9</td>\n",
              "      <td>1</td>\n",
              "      <td>2021</td>\n",
              "    </tr>\n",
              "    <tr>\n",
              "      <th>3</th>\n",
              "      <td>3</td>\n",
              "      <td>8.0</td>\n",
              "      <td>09/01/2021</td>\n",
              "      <td>NaN</td>\n",
              "      <td>NaN</td>\n",
              "      <td>NaN</td>\n",
              "      <td>Bhadradri Kothagudem</td>\n",
              "      <td>Telangana</td>\n",
              "      <td>Hospitalized</td>\n",
              "      <td>9</td>\n",
              "      <td>1</td>\n",
              "      <td>2021</td>\n",
              "    </tr>\n",
              "    <tr>\n",
              "      <th>4</th>\n",
              "      <td>4</td>\n",
              "      <td>61.0</td>\n",
              "      <td>09/01/2021</td>\n",
              "      <td>NaN</td>\n",
              "      <td>NaN</td>\n",
              "      <td>NaN</td>\n",
              "      <td>Hyderabad</td>\n",
              "      <td>Telangana</td>\n",
              "      <td>Hospitalized</td>\n",
              "      <td>9</td>\n",
              "      <td>1</td>\n",
              "      <td>2021</td>\n",
              "    </tr>\n",
              "    <tr>\n",
              "      <th>...</th>\n",
              "      <td>...</td>\n",
              "      <td>...</td>\n",
              "      <td>...</td>\n",
              "      <td>...</td>\n",
              "      <td>...</td>\n",
              "      <td>...</td>\n",
              "      <td>...</td>\n",
              "      <td>...</td>\n",
              "      <td>...</td>\n",
              "      <td>...</td>\n",
              "      <td>...</td>\n",
              "      <td>...</td>\n",
              "    </tr>\n",
              "    <tr>\n",
              "      <th>318189</th>\n",
              "      <td>21093</td>\n",
              "      <td>NaN</td>\n",
              "      <td>07/09/2021</td>\n",
              "      <td>NaN</td>\n",
              "      <td>NaN</td>\n",
              "      <td>NaN</td>\n",
              "      <td>NaN</td>\n",
              "      <td>NaN</td>\n",
              "      <td>NaN</td>\n",
              "      <td>7</td>\n",
              "      <td>9</td>\n",
              "      <td>2021</td>\n",
              "    </tr>\n",
              "    <tr>\n",
              "      <th>318190</th>\n",
              "      <td>21094</td>\n",
              "      <td>NaN</td>\n",
              "      <td>07/09/2021</td>\n",
              "      <td>NaN</td>\n",
              "      <td>NaN</td>\n",
              "      <td>NaN</td>\n",
              "      <td>NaN</td>\n",
              "      <td>NaN</td>\n",
              "      <td>NaN</td>\n",
              "      <td>7</td>\n",
              "      <td>9</td>\n",
              "      <td>2021</td>\n",
              "    </tr>\n",
              "    <tr>\n",
              "      <th>318191</th>\n",
              "      <td>21095</td>\n",
              "      <td>NaN</td>\n",
              "      <td>07/09/2021</td>\n",
              "      <td>NaN</td>\n",
              "      <td>NaN</td>\n",
              "      <td>NaN</td>\n",
              "      <td>NaN</td>\n",
              "      <td>NaN</td>\n",
              "      <td>NaN</td>\n",
              "      <td>7</td>\n",
              "      <td>9</td>\n",
              "      <td>2021</td>\n",
              "    </tr>\n",
              "    <tr>\n",
              "      <th>318192</th>\n",
              "      <td>21096</td>\n",
              "      <td>NaN</td>\n",
              "      <td>07/09/2021</td>\n",
              "      <td>NaN</td>\n",
              "      <td>NaN</td>\n",
              "      <td>NaN</td>\n",
              "      <td>NaN</td>\n",
              "      <td>NaN</td>\n",
              "      <td>NaN</td>\n",
              "      <td>7</td>\n",
              "      <td>9</td>\n",
              "      <td>2021</td>\n",
              "    </tr>\n",
              "    <tr>\n",
              "      <th>318193</th>\n",
              "      <td>21097</td>\n",
              "      <td>NaN</td>\n",
              "      <td>07/09/2021</td>\n",
              "      <td>NaN</td>\n",
              "      <td>NaN</td>\n",
              "      <td>NaN</td>\n",
              "      <td>NaN</td>\n",
              "      <td>NaN</td>\n",
              "      <td>NaN</td>\n",
              "      <td>7</td>\n",
              "      <td>9</td>\n",
              "      <td>2021</td>\n",
              "    </tr>\n",
              "  </tbody>\n",
              "</table>\n",
              "<p>318194 rows × 12 columns</p>\n",
              "</div>"
            ],
            "text/plain": [
              "        Unnamed: 0  Num Cases Date Announced  ...  Day Month  Year\n",
              "0                0      474.0     09/01/2021  ...    9     1  2021\n",
              "1                1        2.0     09/01/2021  ...    9     1  2021\n",
              "2                2        4.0     09/01/2021  ...    9     1  2021\n",
              "3                3        8.0     09/01/2021  ...    9     1  2021\n",
              "4                4       61.0     09/01/2021  ...    9     1  2021\n",
              "...            ...        ...            ...  ...  ...   ...   ...\n",
              "318189       21093        NaN     07/09/2021  ...    7     9  2021\n",
              "318190       21094        NaN     07/09/2021  ...    7     9  2021\n",
              "318191       21095        NaN     07/09/2021  ...    7     9  2021\n",
              "318192       21096        NaN     07/09/2021  ...    7     9  2021\n",
              "318193       21097        NaN     07/09/2021  ...    7     9  2021\n",
              "\n",
              "[318194 rows x 12 columns]"
            ]
          },
          "metadata": {},
          "execution_count": 216
        }
      ]
    },
    {
      "cell_type": "code",
      "metadata": {
        "id": "SIT-sYV8rKjQ"
      },
      "source": [
        ""
      ],
      "execution_count": 216,
      "outputs": []
    },
    {
      "cell_type": "code",
      "metadata": {
        "id": "8P1epuISrWSP"
      },
      "source": [
        "import matplotlib.pyplot as plt\n"
      ],
      "execution_count": 217,
      "outputs": []
    },
    {
      "cell_type": "code",
      "metadata": {
        "colab": {
          "base_uri": "https://localhost:8080/"
        },
        "id": "ev9jNq4rCzXA",
        "outputId": "2df458d9-6e9e-43bf-c68c-b1d2eaa816bd"
      },
      "source": [
        "n=data[data['Year']=='2021'].groupby('Year')['Num Cases'].sum()\n",
        "n"
      ],
      "execution_count": 218,
      "outputs": [
        {
          "output_type": "execute_result",
          "data": {
            "text/plain": [
              "Series([], Name: Num Cases, dtype: float64)"
            ]
          },
          "metadata": {},
          "execution_count": 218
        }
      ]
    },
    {
      "cell_type": "code",
      "metadata": {
        "colab": {
          "base_uri": "https://localhost:8080/",
          "height": 417
        },
        "id": "dYFWDu9pH-CC",
        "outputId": "032c2f14-e98c-46f8-c6af-754fddb43eb4"
      },
      "source": [
        "data=df.iloc[:,1:]\n",
        "data"
      ],
      "execution_count": 219,
      "outputs": [
        {
          "output_type": "execute_result",
          "data": {
            "text/html": [
              "<div>\n",
              "<style scoped>\n",
              "    .dataframe tbody tr th:only-of-type {\n",
              "        vertical-align: middle;\n",
              "    }\n",
              "\n",
              "    .dataframe tbody tr th {\n",
              "        vertical-align: top;\n",
              "    }\n",
              "\n",
              "    .dataframe thead th {\n",
              "        text-align: right;\n",
              "    }\n",
              "</style>\n",
              "<table border=\"1\" class=\"dataframe\">\n",
              "  <thead>\n",
              "    <tr style=\"text-align: right;\">\n",
              "      <th></th>\n",
              "      <th>Num Cases</th>\n",
              "      <th>Date Announced</th>\n",
              "      <th>Age Bracket</th>\n",
              "      <th>Gender</th>\n",
              "      <th>Detected City</th>\n",
              "      <th>Detected District</th>\n",
              "      <th>Detected State</th>\n",
              "      <th>Current Status</th>\n",
              "      <th>Day</th>\n",
              "      <th>Month</th>\n",
              "      <th>Year</th>\n",
              "    </tr>\n",
              "  </thead>\n",
              "  <tbody>\n",
              "    <tr>\n",
              "      <th>0</th>\n",
              "      <td>474.0</td>\n",
              "      <td>09/01/2021</td>\n",
              "      <td>NaN</td>\n",
              "      <td>NaN</td>\n",
              "      <td>NaN</td>\n",
              "      <td>NaN</td>\n",
              "      <td>Telangana</td>\n",
              "      <td>Recovered</td>\n",
              "      <td>9</td>\n",
              "      <td>1</td>\n",
              "      <td>2021</td>\n",
              "    </tr>\n",
              "    <tr>\n",
              "      <th>1</th>\n",
              "      <td>2.0</td>\n",
              "      <td>09/01/2021</td>\n",
              "      <td>NaN</td>\n",
              "      <td>NaN</td>\n",
              "      <td>NaN</td>\n",
              "      <td>NaN</td>\n",
              "      <td>Telangana</td>\n",
              "      <td>Deceased</td>\n",
              "      <td>9</td>\n",
              "      <td>1</td>\n",
              "      <td>2021</td>\n",
              "    </tr>\n",
              "    <tr>\n",
              "      <th>2</th>\n",
              "      <td>4.0</td>\n",
              "      <td>09/01/2021</td>\n",
              "      <td>NaN</td>\n",
              "      <td>NaN</td>\n",
              "      <td>NaN</td>\n",
              "      <td>Adilabad</td>\n",
              "      <td>Telangana</td>\n",
              "      <td>Hospitalized</td>\n",
              "      <td>9</td>\n",
              "      <td>1</td>\n",
              "      <td>2021</td>\n",
              "    </tr>\n",
              "    <tr>\n",
              "      <th>3</th>\n",
              "      <td>8.0</td>\n",
              "      <td>09/01/2021</td>\n",
              "      <td>NaN</td>\n",
              "      <td>NaN</td>\n",
              "      <td>NaN</td>\n",
              "      <td>Bhadradri Kothagudem</td>\n",
              "      <td>Telangana</td>\n",
              "      <td>Hospitalized</td>\n",
              "      <td>9</td>\n",
              "      <td>1</td>\n",
              "      <td>2021</td>\n",
              "    </tr>\n",
              "    <tr>\n",
              "      <th>4</th>\n",
              "      <td>61.0</td>\n",
              "      <td>09/01/2021</td>\n",
              "      <td>NaN</td>\n",
              "      <td>NaN</td>\n",
              "      <td>NaN</td>\n",
              "      <td>Hyderabad</td>\n",
              "      <td>Telangana</td>\n",
              "      <td>Hospitalized</td>\n",
              "      <td>9</td>\n",
              "      <td>1</td>\n",
              "      <td>2021</td>\n",
              "    </tr>\n",
              "    <tr>\n",
              "      <th>...</th>\n",
              "      <td>...</td>\n",
              "      <td>...</td>\n",
              "      <td>...</td>\n",
              "      <td>...</td>\n",
              "      <td>...</td>\n",
              "      <td>...</td>\n",
              "      <td>...</td>\n",
              "      <td>...</td>\n",
              "      <td>...</td>\n",
              "      <td>...</td>\n",
              "      <td>...</td>\n",
              "    </tr>\n",
              "    <tr>\n",
              "      <th>318189</th>\n",
              "      <td>NaN</td>\n",
              "      <td>07/09/2021</td>\n",
              "      <td>NaN</td>\n",
              "      <td>NaN</td>\n",
              "      <td>NaN</td>\n",
              "      <td>NaN</td>\n",
              "      <td>NaN</td>\n",
              "      <td>NaN</td>\n",
              "      <td>7</td>\n",
              "      <td>9</td>\n",
              "      <td>2021</td>\n",
              "    </tr>\n",
              "    <tr>\n",
              "      <th>318190</th>\n",
              "      <td>NaN</td>\n",
              "      <td>07/09/2021</td>\n",
              "      <td>NaN</td>\n",
              "      <td>NaN</td>\n",
              "      <td>NaN</td>\n",
              "      <td>NaN</td>\n",
              "      <td>NaN</td>\n",
              "      <td>NaN</td>\n",
              "      <td>7</td>\n",
              "      <td>9</td>\n",
              "      <td>2021</td>\n",
              "    </tr>\n",
              "    <tr>\n",
              "      <th>318191</th>\n",
              "      <td>NaN</td>\n",
              "      <td>07/09/2021</td>\n",
              "      <td>NaN</td>\n",
              "      <td>NaN</td>\n",
              "      <td>NaN</td>\n",
              "      <td>NaN</td>\n",
              "      <td>NaN</td>\n",
              "      <td>NaN</td>\n",
              "      <td>7</td>\n",
              "      <td>9</td>\n",
              "      <td>2021</td>\n",
              "    </tr>\n",
              "    <tr>\n",
              "      <th>318192</th>\n",
              "      <td>NaN</td>\n",
              "      <td>07/09/2021</td>\n",
              "      <td>NaN</td>\n",
              "      <td>NaN</td>\n",
              "      <td>NaN</td>\n",
              "      <td>NaN</td>\n",
              "      <td>NaN</td>\n",
              "      <td>NaN</td>\n",
              "      <td>7</td>\n",
              "      <td>9</td>\n",
              "      <td>2021</td>\n",
              "    </tr>\n",
              "    <tr>\n",
              "      <th>318193</th>\n",
              "      <td>NaN</td>\n",
              "      <td>07/09/2021</td>\n",
              "      <td>NaN</td>\n",
              "      <td>NaN</td>\n",
              "      <td>NaN</td>\n",
              "      <td>NaN</td>\n",
              "      <td>NaN</td>\n",
              "      <td>NaN</td>\n",
              "      <td>7</td>\n",
              "      <td>9</td>\n",
              "      <td>2021</td>\n",
              "    </tr>\n",
              "  </tbody>\n",
              "</table>\n",
              "<p>318194 rows × 11 columns</p>\n",
              "</div>"
            ],
            "text/plain": [
              "        Num Cases Date Announced  Age Bracket  ... Day Month  Year\n",
              "0           474.0     09/01/2021          NaN  ...   9     1  2021\n",
              "1             2.0     09/01/2021          NaN  ...   9     1  2021\n",
              "2             4.0     09/01/2021          NaN  ...   9     1  2021\n",
              "3             8.0     09/01/2021          NaN  ...   9     1  2021\n",
              "4            61.0     09/01/2021          NaN  ...   9     1  2021\n",
              "...           ...            ...          ...  ...  ..   ...   ...\n",
              "318189        NaN     07/09/2021          NaN  ...   7     9  2021\n",
              "318190        NaN     07/09/2021          NaN  ...   7     9  2021\n",
              "318191        NaN     07/09/2021          NaN  ...   7     9  2021\n",
              "318192        NaN     07/09/2021          NaN  ...   7     9  2021\n",
              "318193        NaN     07/09/2021          NaN  ...   7     9  2021\n",
              "\n",
              "[318194 rows x 11 columns]"
            ]
          },
          "metadata": {},
          "execution_count": 219
        }
      ]
    },
    {
      "cell_type": "code",
      "metadata": {
        "colab": {
          "base_uri": "https://localhost:8080/"
        },
        "id": "guo4JlUxI3sQ",
        "outputId": "e86bdb02-4542-4859-918b-483aa871a834"
      },
      "source": [
        "data.info()"
      ],
      "execution_count": 220,
      "outputs": [
        {
          "output_type": "stream",
          "name": "stdout",
          "text": [
            "<class 'pandas.core.frame.DataFrame'>\n",
            "RangeIndex: 318194 entries, 0 to 318193\n",
            "Data columns (total 11 columns):\n",
            " #   Column             Non-Null Count   Dtype  \n",
            "---  ------             --------------   -----  \n",
            " 0   Num Cases          317795 non-null  float64\n",
            " 1   Date Announced     318194 non-null  object \n",
            " 2   Age Bracket        18503 non-null   float64\n",
            " 3   Gender             18501 non-null   object \n",
            " 4   Detected City      10 non-null      object \n",
            " 5   Detected District  314211 non-null  object \n",
            " 6   Detected State     317800 non-null  object \n",
            " 7   Current Status     317800 non-null  object \n",
            " 8   Day                318194 non-null  int64  \n",
            " 9   Month              318194 non-null  int64  \n",
            " 10  Year               318194 non-null  int64  \n",
            "dtypes: float64(2), int64(3), object(6)\n",
            "memory usage: 26.7+ MB\n"
          ]
        }
      ]
    },
    {
      "cell_type": "code",
      "metadata": {
        "colab": {
          "base_uri": "https://localhost:8080/"
        },
        "id": "8qI2G03rI-nl",
        "outputId": "7af2db9a-f4e2-45c5-da7e-2e6407d60e5d"
      },
      "source": [
        "data.isnull().sum().sort_values()"
      ],
      "execution_count": 221,
      "outputs": [
        {
          "output_type": "execute_result",
          "data": {
            "text/plain": [
              "Date Announced            0\n",
              "Day                       0\n",
              "Month                     0\n",
              "Year                      0\n",
              "Detected State          394\n",
              "Current Status          394\n",
              "Num Cases               399\n",
              "Detected District      3983\n",
              "Age Bracket          299691\n",
              "Gender               299693\n",
              "Detected City        318184\n",
              "dtype: int64"
            ]
          },
          "metadata": {},
          "execution_count": 221
        }
      ]
    },
    {
      "cell_type": "code",
      "metadata": {
        "colab": {
          "base_uri": "https://localhost:8080/"
        },
        "id": "1yvrTPmzJL2T",
        "outputId": "c99f20e8-c04d-4fb7-d799-208ea555e787"
      },
      "source": [
        "data.isnull().sum(axis=1).sort_values()\n"
      ],
      "execution_count": 222,
      "outputs": [
        {
          "output_type": "execute_result",
          "data": {
            "text/plain": [
              "4809      0\n",
              "158853    1\n",
              "146674    1\n",
              "146675    1\n",
              "146676    1\n",
              "         ..\n",
              "317926    7\n",
              "317925    7\n",
              "317924    7\n",
              "317922    7\n",
              "318193    7\n",
              "Length: 318194, dtype: int64"
            ]
          },
          "metadata": {},
          "execution_count": 222
        }
      ]
    },
    {
      "cell_type": "code",
      "metadata": {
        "colab": {
          "base_uri": "https://localhost:8080/"
        },
        "id": "R5cCLX-IKCS4",
        "outputId": "d3cd9865-5bb4-4331-9dde-d785f174ec58"
      },
      "source": [
        "data.groupby('Month')['Num Cases'].sum()"
      ],
      "execution_count": 223,
      "outputs": [
        {
          "output_type": "execute_result",
          "data": {
            "text/plain": [
              "Month\n",
              "1      707966.0\n",
              "2      706824.0\n",
              "3     1802650.0\n",
              "4    11189565.0\n",
              "5    19406242.0\n",
              "6     5847222.0\n",
              "7     2600631.0\n",
              "8     2344218.0\n",
              "9      482226.0\n",
              "Name: Num Cases, dtype: float64"
            ]
          },
          "metadata": {},
          "execution_count": 223
        }
      ]
    },
    {
      "cell_type": "code",
      "metadata": {
        "colab": {
          "base_uri": "https://localhost:8080/"
        },
        "id": "lxXW0c52Kj39",
        "outputId": "d1027614-991a-4205-85ad-33846f57f104"
      },
      "source": [
        "M=data[data['Current Status']=='Hospitalized'].groupby('Month')['Num Cases'].sum()\n",
        "M"
      ],
      "execution_count": 224,
      "outputs": [
        {
          "output_type": "execute_result",
          "data": {
            "text/plain": [
              "Month\n",
              "1     326101.0\n",
              "2     353426.0\n",
              "3    1108660.0\n",
              "4    6936479.0\n",
              "5    9016687.0\n",
              "6    2236885.0\n",
              "7    1243973.0\n",
              "8    1156007.0\n",
              "9     248862.0\n",
              "Name: Num Cases, dtype: float64"
            ]
          },
          "metadata": {},
          "execution_count": 224
        }
      ]
    },
    {
      "cell_type": "code",
      "metadata": {
        "colab": {
          "base_uri": "https://localhost:8080/",
          "height": 287
        },
        "id": "8uZzMh5UL0gU",
        "outputId": "53e581a0-0b76-4567-f05b-496b5add6c3d"
      },
      "source": [
        "M.plot.bar()\n",
        "plt.show()"
      ],
      "execution_count": 225,
      "outputs": [
        {
          "output_type": "display_data",
          "data": {
            "image/png": "[encoded data removed]",
            "text/plain": [
              "<Figure size 432x288 with 1 Axes>"
            ]
          },
          "metadata": {
            "needs_background": "light"
          }
        }
      ]
    },
    {
      "cell_type": "code",
      "metadata": {
        "colab": {
          "base_uri": "https://localhost:8080/"
        },
        "id": "QnXCEmDzM2p-",
        "outputId": "faf71add-80b3-4ef9-a5be-8f80d211852e"
      },
      "source": [
        "data.groupby('Gender')['Num Cases'].sum()"
      ],
      "execution_count": 226,
      "outputs": [
        {
          "output_type": "execute_result",
          "data": {
            "text/plain": [
              "Gender\n",
              " M                1.0\n",
              "-                 1.0\n",
              "F              8149.0\n",
              "F                 6.0\n",
              "Fal               1.0\n",
              "M             12001.0\n",
              "M                 6.0\n",
              "Non-Binary        1.0\n",
              "gf                1.0\n",
              "Name: Num Cases, dtype: float64"
            ]
          },
          "metadata": {},
          "execution_count": 226
        }
      ]
    },
    {
      "cell_type": "code",
      "metadata": {
        "colab": {
          "base_uri": "https://localhost:8080/"
        },
        "id": "LeLp5Vx0NFz_",
        "outputId": "de57be0d-5126-4c0f-d811-7591da9d2f2e"
      },
      "source": [
        "N=data.groupby('Age Bracket')['Num Cases'].sum().sort_values(ascending=False).head(10)\n",
        "N"
      ],
      "execution_count": 227,
      "outputs": [
        {
          "output_type": "execute_result",
          "data": {
            "text/plain": [
              "Age Bracket\n",
              "58.0    1726.0\n",
              "65.0     918.0\n",
              "70.0     872.0\n",
              "75.0     832.0\n",
              "80.0     694.0\n",
              "83.0     612.0\n",
              "72.0     603.0\n",
              "60.0     580.0\n",
              "68.0     541.0\n",
              "85.0     521.0\n",
              "Name: Num Cases, dtype: float64"
            ]
          },
          "metadata": {},
          "execution_count": 227
        }
      ]
    },
    {
      "cell_type": "code",
      "metadata": {
        "colab": {
          "base_uri": "https://localhost:8080/",
          "height": 346
        },
        "id": "imCFfA6VNyyE",
        "outputId": "a9f0174f-5661-4a4a-a0db-49e29f906e30"
      },
      "source": [
        "N.plot.bar(figsize=(15,5))\n",
        "plt.show()"
      ],
      "execution_count": 228,
      "outputs": [
        {
          "output_type": "display_data",
          "data": {
            "image/png": "[encoded data removed]",
            "text/plain": [
              "<Figure size 1080x360 with 1 Axes>"
            ]
          },
          "metadata": {
            "needs_background": "light"
          }
        }
      ]
    },
    {
      "cell_type": "code",
      "metadata": {
        "id": "RIZbFalQOR5k"
      },
      "source": [
        "p=data[data['Current Status']=='Hospitalized'].groupby('Detected State')['Num Cases'].sum().sort_values(ascending=False)"
      ],
      "execution_count": 229,
      "outputs": []
    },
    {
      "cell_type": "code",
      "metadata": {
        "colab": {
          "base_uri": "https://localhost:8080/",
          "height": 558
        },
        "id": "DIra1ct7PWuH",
        "outputId": "b9a561eb-1d55-488b-810f-dce3ee6d59df"
      },
      "source": [
        "p.plot.bar(figsize=(15,5))\n",
        "plt.show()"
      ],
      "execution_count": 230,
      "outputs": [
        {
          "output_type": "display_data",
          "data": {
            "image/png": "[encoded data removed]",
            "text/plain": [
              "<Figure size 1080x360 with 1 Axes>"
            ]
          },
          "metadata": {
            "needs_background": "light"
          }
        }
      ]
    },
    {
      "cell_type": "code",
      "metadata": {
        "id": "fiuFmrBnQklg"
      },
      "source": [
        ""
      ],
      "execution_count": 230,
      "outputs": []
    },
    {
      "cell_type": "markdown",
      "metadata": {
        "id": "WR3vPinqQm0x"
      },
      "source": [
        "**How many Cases Everyday ?**"
      ]
    },
    {
      "cell_type": "code",
      "metadata": {
        "colab": {
          "base_uri": "https://localhost:8080/",
          "height": 447
        },
        "id": "AxxfFMNaQ8T6",
        "outputId": "35f1ce68-d5cc-4833-d68d-097f73e04c9b"
      },
      "source": [
        "day=data[data['Current Status']=='Hospitalized'].groupby(['Month','Day','Year'])[['Num Cases']].sum()\n",
        "day"
      ],
      "execution_count": 231,
      "outputs": [
        {
          "output_type": "execute_result",
          "data": {
            "text/html": [
              "<div>\n",
              "<style scoped>\n",
              "    .dataframe tbody tr th:only-of-type {\n",
              "        vertical-align: middle;\n",
              "    }\n",
              "\n",
              "    .dataframe tbody tr th {\n",
              "        vertical-align: top;\n",
              "    }\n",
              "\n",
              "    .dataframe thead th {\n",
              "        text-align: right;\n",
              "    }\n",
              "</style>\n",
              "<table border=\"1\" class=\"dataframe\">\n",
              "  <thead>\n",
              "    <tr style=\"text-align: right;\">\n",
              "      <th></th>\n",
              "      <th></th>\n",
              "      <th></th>\n",
              "      <th>Num Cases</th>\n",
              "    </tr>\n",
              "    <tr>\n",
              "      <th>Month</th>\n",
              "      <th>Day</th>\n",
              "      <th>Year</th>\n",
              "      <th></th>\n",
              "    </tr>\n",
              "  </thead>\n",
              "  <tbody>\n",
              "    <tr>\n",
              "      <th rowspan=\"5\" valign=\"top\">1</th>\n",
              "      <th>6</th>\n",
              "      <th>2021</th>\n",
              "      <td>0.0</td>\n",
              "    </tr>\n",
              "    <tr>\n",
              "      <th>9</th>\n",
              "      <th>2021</th>\n",
              "      <td>18820.0</td>\n",
              "    </tr>\n",
              "    <tr>\n",
              "      <th>10</th>\n",
              "      <th>2021</th>\n",
              "      <td>16086.0</td>\n",
              "    </tr>\n",
              "    <tr>\n",
              "      <th>11</th>\n",
              "      <th>2021</th>\n",
              "      <td>12481.0</td>\n",
              "    </tr>\n",
              "    <tr>\n",
              "      <th>12</th>\n",
              "      <th>2021</th>\n",
              "      <td>15903.0</td>\n",
              "    </tr>\n",
              "    <tr>\n",
              "      <th>...</th>\n",
              "      <th>...</th>\n",
              "      <th>...</th>\n",
              "      <td>...</td>\n",
              "    </tr>\n",
              "    <tr>\n",
              "      <th rowspan=\"5\" valign=\"top\">9</th>\n",
              "      <th>3</th>\n",
              "      <th>2021</th>\n",
              "      <td>42667.0</td>\n",
              "    </tr>\n",
              "    <tr>\n",
              "      <th>4</th>\n",
              "      <th>2021</th>\n",
              "      <td>42607.0</td>\n",
              "    </tr>\n",
              "    <tr>\n",
              "      <th>5</th>\n",
              "      <th>2021</th>\n",
              "      <td>39537.0</td>\n",
              "    </tr>\n",
              "    <tr>\n",
              "      <th>6</th>\n",
              "      <th>2021</th>\n",
              "      <td>30164.0</td>\n",
              "    </tr>\n",
              "    <tr>\n",
              "      <th>7</th>\n",
              "      <th>2021</th>\n",
              "      <td>2288.0</td>\n",
              "    </tr>\n",
              "  </tbody>\n",
              "</table>\n",
              "<p>244 rows × 1 columns</p>\n",
              "</div>"
            ],
            "text/plain": [
              "                Num Cases\n",
              "Month Day Year           \n",
              "1     6   2021        0.0\n",
              "      9   2021    18820.0\n",
              "      10  2021    16086.0\n",
              "      11  2021    12481.0\n",
              "      12  2021    15903.0\n",
              "...                   ...\n",
              "9     3   2021    42667.0\n",
              "      4   2021    42607.0\n",
              "      5   2021    39537.0\n",
              "      6   2021    30164.0\n",
              "      7   2021     2288.0\n",
              "\n",
              "[244 rows x 1 columns]"
            ]
          },
          "metadata": {},
          "execution_count": 231
        }
      ]
    },
    {
      "cell_type": "code",
      "metadata": {
        "colab": {
          "base_uri": "https://localhost:8080/",
          "height": 1000
        },
        "id": "-iq4egcuRgVC",
        "outputId": "ce7dee51-88c9-4239-843c-ea454765e6ab"
      },
      "source": [
        "day.unstack(level=0).plot(kind='bar',subplots=True,figsize=(20,30))\n",
        "plt.show()"
      ],
      "execution_count": 232,
      "outputs": [
        {
          "output_type": "display_data",
          "data": {
            "image/png": "[encoded data removed]",
            "text/plain": [
              "<Figure size 1440x2160 with 9 Axes>"
            ]
          },
          "metadata": {
            "needs_background": "light"
          }
        }
      ]
    },
    {
      "cell_type": "code",
      "metadata": {
        "colab": {
          "base_uri": "https://localhost:8080/"
        },
        "id": "X9TvRGfRTdsb",
        "outputId": "0ec82f5c-5371-4141-d89e-8e83e167ffa7"
      },
      "source": [
        "data['Current Status'].unique()"
      ],
      "execution_count": 233,
      "outputs": [
        {
          "output_type": "execute_result",
          "data": {
            "text/plain": [
              "array(['Recovered', 'Deceased', 'Hospitalized', 'Migrated_Other',\n",
              "       'hospitalized', 'Migrated_other', nan], dtype=object)"
            ]
          },
          "metadata": {},
          "execution_count": 233
        }
      ]
    },
    {
      "cell_type": "code",
      "metadata": {
        "colab": {
          "base_uri": "https://localhost:8080/"
        },
        "id": "7hT50MO5UUk2",
        "outputId": "66302ee8-066b-4d26-a49f-4ddac4afae19"
      },
      "source": [
        "data[data['Current Status']=='Deceased']['Num Cases'].sum()"
      ],
      "execution_count": 234,
      "outputs": [
        {
          "output_type": "execute_result",
          "data": {
            "text/plain": [
              "290249.0"
            ]
          },
          "metadata": {},
          "execution_count": 234
        }
      ]
    },
    {
      "cell_type": "code",
      "metadata": {
        "colab": {
          "base_uri": "https://localhost:8080/"
        },
        "id": "tYMfIfcIUwkB",
        "outputId": "50eec452-c4db-41e1-d23e-dff7620d6ad0"
      },
      "source": [
        "data[data['Current Status']=='Deceased'].groupby('Detected State')['Num Cases'].sum().sort_values(ascending=False)"
      ],
      "execution_count": 235,
      "outputs": [
        {
          "output_type": "execute_result",
          "data": {
            "text/plain": [
              "Detected State\n",
              "Maharashtra                                 87841.0\n",
              "Karnataka                                   25292.0\n",
              "Tamil Nadu                                  22828.0\n",
              "Kerala                                      18373.0\n",
              "Delhi                                       14428.0\n",
              "Uttar Pradesh                               14392.0\n",
              "Punjab                                      11007.0\n",
              "Chhattisgarh                                10088.0\n",
              "West Bengal                                  8613.0\n",
              "Bihar                                        8228.0\n",
              "Madhya Pradesh                               6825.0\n",
              "Andhra Pradesh                               6798.0\n",
              "Haryana                                      6742.0\n",
              "Rajasthan                                    6227.0\n",
              "Odisha                                       6172.0\n",
              "Uttarakhand                                  5826.0\n",
              "Gujarat                                      5747.0\n",
              "Assam                                        4651.0\n",
              "Jharkhand                                    4090.0\n",
              "Himachal Pradesh                             2654.0\n",
              "Jammu and Kashmir                            2503.0\n",
              "Goa                                          2466.0\n",
              "Telangana                                    2325.0\n",
              "Manipur                                      1438.0\n",
              "Meghalaya                                    1186.0\n",
              "Puducherry                                   1183.0\n",
              "Nagaland                                      548.0\n",
              "Chandigarh                                    488.0\n",
              "Tripura                                       415.0\n",
              "Sikkim                                        246.0\n",
              "Mizoram                                       218.0\n",
              "Arunachal Pradesh                             211.0\n",
              "Ladakh                                         80.0\n",
              "Andaman and Nicobar Islands                    67.0\n",
              "Lakshadweep                                    51.0\n",
              "Dadra and Nagar Haveli and Daman and Diu        2.0\n",
              "Name: Num Cases, dtype: float64"
            ]
          },
          "metadata": {},
          "execution_count": 235
        }
      ]
    },
    {
      "cell_type": "markdown",
      "metadata": {
        "id": "ws0Pl78diuN6"
      },
      "source": [
        "**Predication Using Linear Regression**"
      ]
    },
    {
      "cell_type": "code",
      "metadata": {
        "id": "UrseYLkBWILU",
        "colab": {
          "base_uri": "https://localhost:8080/",
          "height": 447
        },
        "outputId": "95187f56-2106-4b81-ca13-3401c40bc9e0"
      },
      "source": [
        "day=data[data['Current Status']=='Hospitalized'].groupby(['Month','Day'])[['Num Cases']].sum()\n",
        "day"
      ],
      "execution_count": 236,
      "outputs": [
        {
          "output_type": "execute_result",
          "data": {
            "text/html": [
              "<div>\n",
              "<style scoped>\n",
              "    .dataframe tbody tr th:only-of-type {\n",
              "        vertical-align: middle;\n",
              "    }\n",
              "\n",
              "    .dataframe tbody tr th {\n",
              "        vertical-align: top;\n",
              "    }\n",
              "\n",
              "    .dataframe thead th {\n",
              "        text-align: right;\n",
              "    }\n",
              "</style>\n",
              "<table border=\"1\" class=\"dataframe\">\n",
              "  <thead>\n",
              "    <tr style=\"text-align: right;\">\n",
              "      <th></th>\n",
              "      <th></th>\n",
              "      <th>Num Cases</th>\n",
              "    </tr>\n",
              "    <tr>\n",
              "      <th>Month</th>\n",
              "      <th>Day</th>\n",
              "      <th></th>\n",
              "    </tr>\n",
              "  </thead>\n",
              "  <tbody>\n",
              "    <tr>\n",
              "      <th rowspan=\"5\" valign=\"top\">1</th>\n",
              "      <th>6</th>\n",
              "      <td>0.0</td>\n",
              "    </tr>\n",
              "    <tr>\n",
              "      <th>9</th>\n",
              "      <td>18820.0</td>\n",
              "    </tr>\n",
              "    <tr>\n",
              "      <th>10</th>\n",
              "      <td>16086.0</td>\n",
              "    </tr>\n",
              "    <tr>\n",
              "      <th>11</th>\n",
              "      <td>12481.0</td>\n",
              "    </tr>\n",
              "    <tr>\n",
              "      <th>12</th>\n",
              "      <td>15903.0</td>\n",
              "    </tr>\n",
              "    <tr>\n",
              "      <th>...</th>\n",
              "      <th>...</th>\n",
              "      <td>...</td>\n",
              "    </tr>\n",
              "    <tr>\n",
              "      <th rowspan=\"5\" valign=\"top\">9</th>\n",
              "      <th>3</th>\n",
              "      <td>42667.0</td>\n",
              "    </tr>\n",
              "    <tr>\n",
              "      <th>4</th>\n",
              "      <td>42607.0</td>\n",
              "    </tr>\n",
              "    <tr>\n",
              "      <th>5</th>\n",
              "      <td>39537.0</td>\n",
              "    </tr>\n",
              "    <tr>\n",
              "      <th>6</th>\n",
              "      <td>30164.0</td>\n",
              "    </tr>\n",
              "    <tr>\n",
              "      <th>7</th>\n",
              "      <td>2288.0</td>\n",
              "    </tr>\n",
              "  </tbody>\n",
              "</table>\n",
              "<p>243 rows × 1 columns</p>\n",
              "</div>"
            ],
            "text/plain": [
              "           Num Cases\n",
              "Month Day           \n",
              "1     6          0.0\n",
              "      9      18820.0\n",
              "      10     16086.0\n",
              "      11     12481.0\n",
              "      12     15903.0\n",
              "...              ...\n",
              "9     3      42667.0\n",
              "      4      42607.0\n",
              "      5      39537.0\n",
              "      6      30164.0\n",
              "      7       2288.0\n",
              "\n",
              "[243 rows x 1 columns]"
            ]
          },
          "metadata": {},
          "execution_count": 236
        }
      ]
    },
    {
      "cell_type": "code",
      "metadata": {
        "colab": {
          "base_uri": "https://localhost:8080/"
        },
        "id": "eCsN1z1BjoFi",
        "outputId": "e2dd25a8-838b-4dde-8a70-2b97e6de8336"
      },
      "source": [
        "x=np.arange(len(day))\n",
        "x"
      ],
      "execution_count": 237,
      "outputs": [
        {
          "output_type": "execute_result",
          "data": {
            "text/plain": [
              "array([  0,   1,   2,   3,   4,   5,   6,   7,   8,   9,  10,  11,  12,\n",
              "        13,  14,  15,  16,  17,  18,  19,  20,  21,  22,  23,  24,  25,\n",
              "        26,  27,  28,  29,  30,  31,  32,  33,  34,  35,  36,  37,  38,\n",
              "        39,  40,  41,  42,  43,  44,  45,  46,  47,  48,  49,  50,  51,\n",
              "        52,  53,  54,  55,  56,  57,  58,  59,  60,  61,  62,  63,  64,\n",
              "        65,  66,  67,  68,  69,  70,  71,  72,  73,  74,  75,  76,  77,\n",
              "        78,  79,  80,  81,  82,  83,  84,  85,  86,  87,  88,  89,  90,\n",
              "        91,  92,  93,  94,  95,  96,  97,  98,  99, 100, 101, 102, 103,\n",
              "       104, 105, 106, 107, 108, 109, 110, 111, 112, 113, 114, 115, 116,\n",
              "       117, 118, 119, 120, 121, 122, 123, 124, 125, 126, 127, 128, 129,\n",
              "       130, 131, 132, 133, 134, 135, 136, 137, 138, 139, 140, 141, 142,\n",
              "       143, 144, 145, 146, 147, 148, 149, 150, 151, 152, 153, 154, 155,\n",
              "       156, 157, 158, 159, 160, 161, 162, 163, 164, 165, 166, 167, 168,\n",
              "       169, 170, 171, 172, 173, 174, 175, 176, 177, 178, 179, 180, 181,\n",
              "       182, 183, 184, 185, 186, 187, 188, 189, 190, 191, 192, 193, 194,\n",
              "       195, 196, 197, 198, 199, 200, 201, 202, 203, 204, 205, 206, 207,\n",
              "       208, 209, 210, 211, 212, 213, 214, 215, 216, 217, 218, 219, 220,\n",
              "       221, 222, 223, 224, 225, 226, 227, 228, 229, 230, 231, 232, 233,\n",
              "       234, 235, 236, 237, 238, 239, 240, 241, 242])"
            ]
          },
          "metadata": {},
          "execution_count": 237
        }
      ]
    },
    {
      "cell_type": "code",
      "metadata": {
        "colab": {
          "base_uri": "https://localhost:8080/",
          "height": 447
        },
        "id": "78Mz2eyNkBzO",
        "outputId": "48e6e70b-0a78-49e7-f217-8093ac989636"
      },
      "source": [
        "day"
      ],
      "execution_count": 238,
      "outputs": [
        {
          "output_type": "execute_result",
          "data": {
            "text/html": [
              "<div>\n",
              "<style scoped>\n",
              "    .dataframe tbody tr th:only-of-type {\n",
              "        vertical-align: middle;\n",
              "    }\n",
              "\n",
              "    .dataframe tbody tr th {\n",
              "        vertical-align: top;\n",
              "    }\n",
              "\n",
              "    .dataframe thead th {\n",
              "        text-align: right;\n",
              "    }\n",
              "</style>\n",
              "<table border=\"1\" class=\"dataframe\">\n",
              "  <thead>\n",
              "    <tr style=\"text-align: right;\">\n",
              "      <th></th>\n",
              "      <th></th>\n",
              "      <th>Num Cases</th>\n",
              "    </tr>\n",
              "    <tr>\n",
              "      <th>Month</th>\n",
              "      <th>Day</th>\n",
              "      <th></th>\n",
              "    </tr>\n",
              "  </thead>\n",
              "  <tbody>\n",
              "    <tr>\n",
              "      <th rowspan=\"5\" valign=\"top\">1</th>\n",
              "      <th>6</th>\n",
              "      <td>0.0</td>\n",
              "    </tr>\n",
              "    <tr>\n",
              "      <th>9</th>\n",
              "      <td>18820.0</td>\n",
              "    </tr>\n",
              "    <tr>\n",
              "      <th>10</th>\n",
              "      <td>16086.0</td>\n",
              "    </tr>\n",
              "    <tr>\n",
              "      <th>11</th>\n",
              "      <td>12481.0</td>\n",
              "    </tr>\n",
              "    <tr>\n",
              "      <th>12</th>\n",
              "      <td>15903.0</td>\n",
              "    </tr>\n",
              "    <tr>\n",
              "      <th>...</th>\n",
              "      <th>...</th>\n",
              "      <td>...</td>\n",
              "    </tr>\n",
              "    <tr>\n",
              "      <th rowspan=\"5\" valign=\"top\">9</th>\n",
              "      <th>3</th>\n",
              "      <td>42667.0</td>\n",
              "    </tr>\n",
              "    <tr>\n",
              "      <th>4</th>\n",
              "      <td>42607.0</td>\n",
              "    </tr>\n",
              "    <tr>\n",
              "      <th>5</th>\n",
              "      <td>39537.0</td>\n",
              "    </tr>\n",
              "    <tr>\n",
              "      <th>6</th>\n",
              "      <td>30164.0</td>\n",
              "    </tr>\n",
              "    <tr>\n",
              "      <th>7</th>\n",
              "      <td>2288.0</td>\n",
              "    </tr>\n",
              "  </tbody>\n",
              "</table>\n",
              "<p>243 rows × 1 columns</p>\n",
              "</div>"
            ],
            "text/plain": [
              "           Num Cases\n",
              "Month Day           \n",
              "1     6          0.0\n",
              "      9      18820.0\n",
              "      10     16086.0\n",
              "      11     12481.0\n",
              "      12     15903.0\n",
              "...              ...\n",
              "9     3      42667.0\n",
              "      4      42607.0\n",
              "      5      39537.0\n",
              "      6      30164.0\n",
              "      7       2288.0\n",
              "\n",
              "[243 rows x 1 columns]"
            ]
          },
          "metadata": {},
          "execution_count": 238
        }
      ]
    },
    {
      "cell_type": "code",
      "metadata": {
        "id": "45_pb9PzlDIc"
      },
      "source": [
        "y = day.values"
      ],
      "execution_count": 239,
      "outputs": []
    },
    {
      "cell_type": "code",
      "metadata": {
        "colab": {
          "base_uri": "https://localhost:8080/"
        },
        "id": "Fwj0oWa7lM4W",
        "outputId": "d7b2a279-9b07-4c3d-af96-ed9a98098209"
      },
      "source": [
        "y"
      ],
      "execution_count": 240,
      "outputs": [
        {
          "output_type": "execute_result",
          "data": {
            "text/plain": [
              "array([[     0.],\n",
              "       [ 18820.],\n",
              "       [ 16086.],\n",
              "       [ 12481.],\n",
              "       [ 15903.],\n",
              "       [ 17015.],\n",
              "       [ 15677.],\n",
              "       [ 15155.],\n",
              "       [ 15050.],\n",
              "       [ 13962.],\n",
              "       [  9987.],\n",
              "       [ 13787.],\n",
              "       [ 15279.],\n",
              "       [ 14495.],\n",
              "       [ 14323.],\n",
              "       [ 14896.],\n",
              "       [ 13232.],\n",
              "       [  9098.],\n",
              "       [ 12733.],\n",
              "       [ 11556.],\n",
              "       [ 18912.],\n",
              "       [ 13054.],\n",
              "       [ 13073.],\n",
              "       [ 11527.],\n",
              "       [  8579.],\n",
              "       [ 11001.],\n",
              "       [ 12925.],\n",
              "       [ 12401.],\n",
              "       [ 11711.],\n",
              "       [ 12069.],\n",
              "       [ 11786.],\n",
              "       [  8715.],\n",
              "       [ 10731.],\n",
              "       [ 12539.],\n",
              "       [  9353.],\n",
              "       [ 12137.],\n",
              "       [ 12198.],\n",
              "       [ 11706.],\n",
              "       [  9086.],\n",
              "       [ 11592.],\n",
              "       [ 12862.],\n",
              "       [ 13238.],\n",
              "       [ 13914.],\n",
              "       [ 13919.],\n",
              "       [ 14278.],\n",
              "       [ 10494.],\n",
              "       [ 13682.],\n",
              "       [ 16930.],\n",
              "       [ 16599.],\n",
              "       [ 16562.],\n",
              "       [ 16805.],\n",
              "       [ 15614.],\n",
              "       [ 12270.],\n",
              "       [ 14998.],\n",
              "       [ 17425.],\n",
              "       [ 16824.],\n",
              "       [ 18324.],\n",
              "       [ 18724.],\n",
              "       [ 18650.],\n",
              "       [ 15353.],\n",
              "       [ 17873.],\n",
              "       [ 22851.],\n",
              "       [ 23298.],\n",
              "       [ 24845.],\n",
              "       [ 25154.],\n",
              "       [ 26513.],\n",
              "       [ 24437.],\n",
              "       [ 28869.],\n",
              "       [ 35838.],\n",
              "       [ 39687.],\n",
              "       [ 40906.],\n",
              "       [ 43815.],\n",
              "       [ 47009.],\n",
              "       [ 40636.],\n",
              "       [ 47239.],\n",
              "       [ 53419.],\n",
              "       [ 59085.],\n",
              "       [ 62276.],\n",
              "       [ 62632.],\n",
              "       [ 68206.],\n",
              "       [ 56152.],\n",
              "       [ 53237.],\n",
              "       [ 72115.],\n",
              "       [ 81398.],\n",
              "       [ 89023.],\n",
              "       [ 92994.],\n",
              "       [103794.],\n",
              "       [ 96563.],\n",
              "       [115312.],\n",
              "       [126276.],\n",
              "       [131878.],\n",
              "       [144997.],\n",
              "       [152565.],\n",
              "       [169915.],\n",
              "       [160854.],\n",
              "       [185306.],\n",
              "       [199584.],\n",
              "       [216838.],\n",
              "       [234002.],\n",
              "       [260895.],\n",
              "       [275083.],\n",
              "       [257017.],\n",
              "       [294378.],\n",
              "       [315752.],\n",
              "       [332531.],\n",
              "       [345296.],\n",
              "       [348996.],\n",
              "       [354658.],\n",
              "       [319471.],\n",
              "       [362913.],\n",
              "       [379403.],\n",
              "       [386773.],\n",
              "       [402014.],\n",
              "       [392576.],\n",
              "       [370090.],\n",
              "       [355769.],\n",
              "       [382847.],\n",
              "       [412624.],\n",
              "       [414280.],\n",
              "       [406901.],\n",
              "       [403808.],\n",
              "       [366455.],\n",
              "       [329491.],\n",
              "       [348555.],\n",
              "       [362632.],\n",
              "       [343005.],\n",
              "       [326256.],\n",
              "       [310757.],\n",
              "       [281837.],\n",
              "       [263021.],\n",
              "       [267246.],\n",
              "       [276187.],\n",
              "       [259242.],\n",
              "       [257299.],\n",
              "       [240897.],\n",
              "       [222834.],\n",
              "       [195857.],\n",
              "       [208992.],\n",
              "       [211510.],\n",
              "       [186075.],\n",
              "       [174083.],\n",
              "       [165282.],\n",
              "       [153396.],\n",
              "       [126883.],\n",
              "       [133152.],\n",
              "       [134044.],\n",
              "       [132424.],\n",
              "       [120454.],\n",
              "       [114488.],\n",
              "       [101209.],\n",
              "       [ 85804.],\n",
              "       [ 92787.],\n",
              "       [ 93883.],\n",
              "       [ 91849.],\n",
              "       [ 84574.],\n",
              "       [ 80525.],\n",
              "       [ 71001.],\n",
              "       [ 60008.],\n",
              "       [ 62217.],\n",
              "       [ 67289.],\n",
              "       [ 62436.],\n",
              "       [ 60765.],\n",
              "       [ 58615.],\n",
              "       [ 52978.],\n",
              "       [ 42683.],\n",
              "       [ 50817.],\n",
              "       [ 54309.],\n",
              "       [ 51659.],\n",
              "       [ 48768.],\n",
              "       [ 49844.],\n",
              "       [ 46523.],\n",
              "       [ 37070.],\n",
              "       [ 46104.],\n",
              "       [ 48606.],\n",
              "       [ 46781.],\n",
              "       [ 44187.],\n",
              "       [ 43027.],\n",
              "       [ 40150.],\n",
              "       [ 34026.],\n",
              "       [ 43964.],\n",
              "       [ 45701.],\n",
              "       [ 43504.],\n",
              "       [ 42660.],\n",
              "       [ 41494.],\n",
              "       [ 37654.],\n",
              "       [ 30818.],\n",
              "       [ 40314.],\n",
              "       [ 41759.],\n",
              "       [ 39071.],\n",
              "       [ 38117.],\n",
              "       [ 41283.],\n",
              "       [ 38330.],\n",
              "       [ 29420.],\n",
              "       [ 42128.],\n",
              "       [ 41687.],\n",
              "       [ 34863.],\n",
              "       [ 39501.],\n",
              "       [ 40286.],\n",
              "       [ 38179.],\n",
              "       [ 30820.],\n",
              "       [ 42971.],\n",
              "       [ 43165.],\n",
              "       [ 44671.],\n",
              "       [ 41499.],\n",
              "       [ 41943.],\n",
              "       [ 40629.],\n",
              "       [ 30085.],\n",
              "       [ 42532.],\n",
              "       [ 42797.],\n",
              "       [ 45005.],\n",
              "       [ 38705.],\n",
              "       [ 39068.],\n",
              "       [ 36036.],\n",
              "       [ 27428.],\n",
              "       [ 38380.],\n",
              "       [ 41586.],\n",
              "       [ 40081.],\n",
              "       [ 38761.],\n",
              "       [ 36135.],\n",
              "       [ 33245.],\n",
              "       [ 24696.],\n",
              "       [ 35208.],\n",
              "       [ 36502.],\n",
              "       [ 36600.],\n",
              "       [ 34308.],\n",
              "       [ 31023.],\n",
              "       [ 25420.],\n",
              "       [ 24794.],\n",
              "       [ 37739.],\n",
              "       [ 46129.],\n",
              "       [ 44550.],\n",
              "       [ 46806.],\n",
              "       [ 45064.],\n",
              "       [ 43374.],\n",
              "       [ 30248.],\n",
              "       [ 43073.],\n",
              "       [ 45975.],\n",
              "       [ 45624.],\n",
              "       [ 42667.],\n",
              "       [ 42607.],\n",
              "       [ 39537.],\n",
              "       [ 30164.],\n",
              "       [  2288.]])"
            ]
          },
          "metadata": {},
          "execution_count": 240
        }
      ]
    },
    {
      "cell_type": "code",
      "metadata": {
        "colab": {
          "base_uri": "https://localhost:8080/",
          "height": 265
        },
        "id": "XfWQgAFIlNvF",
        "outputId": "9cecb4cd-c321-4d2b-99ce-2b2f78c4b06c"
      },
      "source": [
        "plt.scatter(x,y)\n",
        "plt.show()"
      ],
      "execution_count": 241,
      "outputs": [
        {
          "output_type": "display_data",
          "data": {
            "image/png": "[encoded data removed]",
            "text/plain": [
              "<Figure size 432x288 with 1 Axes>"
            ]
          },
          "metadata": {
            "needs_background": "light"
          }
        }
      ]
    },
    {
      "cell_type": "code",
      "metadata": {
        "id": "XMVUm-NGlkAK"
      },
      "source": [
        "x=x.reshape(-1,1)\n",
        "\n"
      ],
      "execution_count": 242,
      "outputs": []
    },
    {
      "cell_type": "code",
      "metadata": {
        "colab": {
          "base_uri": "https://localhost:8080/"
        },
        "id": "dvyRru6BmFgS",
        "outputId": "6bf88dec-e8b5-42ab-cf43-c93ef9944a92"
      },
      "source": [
        "from sklearn.linear_model import LinearRegression\n",
        "regressor=LinearRegression()\n",
        "regressor.fit(x,y)"
      ],
      "execution_count": 243,
      "outputs": [
        {
          "output_type": "execute_result",
          "data": {
            "text/plain": [
              "LinearRegression(copy_X=True, fit_intercept=True, n_jobs=None, normalize=False)"
            ]
          },
          "metadata": {},
          "execution_count": 243
        }
      ]
    },
    {
      "cell_type": "code",
      "metadata": {
        "id": "SA7iv9EQO7M-",
        "outputId": "de9ff43e-fa27-4756-abad-d8027a6b43d3",
        "colab": {
          "base_uri": "https://localhost:8080/"
        }
      },
      "source": [
        "regressor.predict([[244]])"
      ],
      "execution_count": 321,
      "outputs": [
        {
          "output_type": "execute_result",
          "data": {
            "text/plain": [
              "array([[102274.70871657]])"
            ]
          },
          "metadata": {},
          "execution_count": 321
        }
      ]
    },
    {
      "cell_type": "code",
      "metadata": {
        "id": "VyKYnhGOaESF"
      },
      "source": [
        ""
      ],
      "execution_count": null,
      "outputs": []
    },
    {
      "cell_type": "code",
      "metadata": {
        "colab": {
          "base_uri": "https://localhost:8080/"
        },
        "id": "eIvAgEYxmv6r",
        "outputId": "803f856a-835e-4f6b-89d8-73186c794541"
      },
      "source": [
        "y[242]"
      ],
      "execution_count": 320,
      "outputs": [
        {
          "output_type": "execute_result",
          "data": {
            "text/plain": [
              "array([2288.])"
            ]
          },
          "metadata": {},
          "execution_count": 320
        }
      ]
    },
    {
      "cell_type": "code",
      "metadata": {
        "colab": {
          "base_uri": "https://localhost:8080/"
        },
        "id": "wx6SMHCznQu5",
        "outputId": "4689b7bd-89fc-4467-f044-d2a68ddba2fe"
      },
      "source": [
        "Yp=regressor.predict(x)\n",
        "Yp"
      ],
      "execution_count": 248,
      "outputs": [
        {
          "output_type": "execute_result",
          "data": {
            "text/plain": [
              "array([[ 84105.33171423],\n",
              "       [ 84179.79637407],\n",
              "       [ 84254.26103392],\n",
              "       [ 84328.72569376],\n",
              "       [ 84403.19035361],\n",
              "       [ 84477.65501346],\n",
              "       [ 84552.1196733 ],\n",
              "       [ 84626.58433315],\n",
              "       [ 84701.04899299],\n",
              "       [ 84775.51365284],\n",
              "       [ 84849.97831268],\n",
              "       [ 84924.44297253],\n",
              "       [ 84998.90763238],\n",
              "       [ 85073.37229222],\n",
              "       [ 85147.83695207],\n",
              "       [ 85222.30161191],\n",
              "       [ 85296.76627176],\n",
              "       [ 85371.2309316 ],\n",
              "       [ 85445.69559145],\n",
              "       [ 85520.1602513 ],\n",
              "       [ 85594.62491114],\n",
              "       [ 85669.08957099],\n",
              "       [ 85743.55423083],\n",
              "       [ 85818.01889068],\n",
              "       [ 85892.48355052],\n",
              "       [ 85966.94821037],\n",
              "       [ 86041.41287022],\n",
              "       [ 86115.87753006],\n",
              "       [ 86190.34218991],\n",
              "       [ 86264.80684975],\n",
              "       [ 86339.2715096 ],\n",
              "       [ 86413.73616944],\n",
              "       [ 86488.20082929],\n",
              "       [ 86562.66548914],\n",
              "       [ 86637.13014898],\n",
              "       [ 86711.59480883],\n",
              "       [ 86786.05946867],\n",
              "       [ 86860.52412852],\n",
              "       [ 86934.98878836],\n",
              "       [ 87009.45344821],\n",
              "       [ 87083.91810806],\n",
              "       [ 87158.3827679 ],\n",
              "       [ 87232.84742775],\n",
              "       [ 87307.31208759],\n",
              "       [ 87381.77674744],\n",
              "       [ 87456.24140728],\n",
              "       [ 87530.70606713],\n",
              "       [ 87605.17072698],\n",
              "       [ 87679.63538682],\n",
              "       [ 87754.10004667],\n",
              "       [ 87828.56470651],\n",
              "       [ 87903.02936636],\n",
              "       [ 87977.4940262 ],\n",
              "       [ 88051.95868605],\n",
              "       [ 88126.42334589],\n",
              "       [ 88200.88800574],\n",
              "       [ 88275.35266559],\n",
              "       [ 88349.81732543],\n",
              "       [ 88424.28198528],\n",
              "       [ 88498.74664512],\n",
              "       [ 88573.21130497],\n",
              "       [ 88647.67596481],\n",
              "       [ 88722.14062466],\n",
              "       [ 88796.60528451],\n",
              "       [ 88871.06994435],\n",
              "       [ 88945.5346042 ],\n",
              "       [ 89019.99926404],\n",
              "       [ 89094.46392389],\n",
              "       [ 89168.92858373],\n",
              "       [ 89243.39324358],\n",
              "       [ 89317.85790343],\n",
              "       [ 89392.32256327],\n",
              "       [ 89466.78722312],\n",
              "       [ 89541.25188296],\n",
              "       [ 89615.71654281],\n",
              "       [ 89690.18120265],\n",
              "       [ 89764.6458625 ],\n",
              "       [ 89839.11052235],\n",
              "       [ 89913.57518219],\n",
              "       [ 89988.03984204],\n",
              "       [ 90062.50450188],\n",
              "       [ 90136.96916173],\n",
              "       [ 90211.43382157],\n",
              "       [ 90285.89848142],\n",
              "       [ 90360.36314127],\n",
              "       [ 90434.82780111],\n",
              "       [ 90509.29246096],\n",
              "       [ 90583.7571208 ],\n",
              "       [ 90658.22178065],\n",
              "       [ 90732.68644049],\n",
              "       [ 90807.15110034],\n",
              "       [ 90881.61576019],\n",
              "       [ 90956.08042003],\n",
              "       [ 91030.54507988],\n",
              "       [ 91105.00973972],\n",
              "       [ 91179.47439957],\n",
              "       [ 91253.93905941],\n",
              "       [ 91328.40371926],\n",
              "       [ 91402.8683791 ],\n",
              "       [ 91477.33303895],\n",
              "       [ 91551.7976988 ],\n",
              "       [ 91626.26235864],\n",
              "       [ 91700.72701849],\n",
              "       [ 91775.19167833],\n",
              "       [ 91849.65633818],\n",
              "       [ 91924.12099802],\n",
              "       [ 91998.58565787],\n",
              "       [ 92073.05031772],\n",
              "       [ 92147.51497756],\n",
              "       [ 92221.97963741],\n",
              "       [ 92296.44429725],\n",
              "       [ 92370.9089571 ],\n",
              "       [ 92445.37361694],\n",
              "       [ 92519.83827679],\n",
              "       [ 92594.30293664],\n",
              "       [ 92668.76759648],\n",
              "       [ 92743.23225633],\n",
              "       [ 92817.69691617],\n",
              "       [ 92892.16157602],\n",
              "       [ 92966.62623586],\n",
              "       [ 93041.09089571],\n",
              "       [ 93115.55555556],\n",
              "       [ 93190.0202154 ],\n",
              "       [ 93264.48487525],\n",
              "       [ 93338.94953509],\n",
              "       [ 93413.41419494],\n",
              "       [ 93487.87885478],\n",
              "       [ 93562.34351463],\n",
              "       [ 93636.80817448],\n",
              "       [ 93711.27283432],\n",
              "       [ 93785.73749417],\n",
              "       [ 93860.20215401],\n",
              "       [ 93934.66681386],\n",
              "       [ 94009.1314737 ],\n",
              "       [ 94083.59613355],\n",
              "       [ 94158.0607934 ],\n",
              "       [ 94232.52545324],\n",
              "       [ 94306.99011309],\n",
              "       [ 94381.45477293],\n",
              "       [ 94455.91943278],\n",
              "       [ 94530.38409262],\n",
              "       [ 94604.84875247],\n",
              "       [ 94679.31341231],\n",
              "       [ 94753.77807216],\n",
              "       [ 94828.24273201],\n",
              "       [ 94902.70739185],\n",
              "       [ 94977.1720517 ],\n",
              "       [ 95051.63671154],\n",
              "       [ 95126.10137139],\n",
              "       [ 95200.56603123],\n",
              "       [ 95275.03069108],\n",
              "       [ 95349.49535093],\n",
              "       [ 95423.96001077],\n",
              "       [ 95498.42467062],\n",
              "       [ 95572.88933046],\n",
              "       [ 95647.35399031],\n",
              "       [ 95721.81865015],\n",
              "       [ 95796.28331   ],\n",
              "       [ 95870.74796985],\n",
              "       [ 95945.21262969],\n",
              "       [ 96019.67728954],\n",
              "       [ 96094.14194938],\n",
              "       [ 96168.60660923],\n",
              "       [ 96243.07126907],\n",
              "       [ 96317.53592892],\n",
              "       [ 96392.00058877],\n",
              "       [ 96466.46524861],\n",
              "       [ 96540.92990846],\n",
              "       [ 96615.3945683 ],\n",
              "       [ 96689.85922815],\n",
              "       [ 96764.32388799],\n",
              "       [ 96838.78854784],\n",
              "       [ 96913.25320769],\n",
              "       [ 96987.71786753],\n",
              "       [ 97062.18252738],\n",
              "       [ 97136.64718722],\n",
              "       [ 97211.11184707],\n",
              "       [ 97285.57650691],\n",
              "       [ 97360.04116676],\n",
              "       [ 97434.50582661],\n",
              "       [ 97508.97048645],\n",
              "       [ 97583.4351463 ],\n",
              "       [ 97657.89980614],\n",
              "       [ 97732.36446599],\n",
              "       [ 97806.82912583],\n",
              "       [ 97881.29378568],\n",
              "       [ 97955.75844552],\n",
              "       [ 98030.22310537],\n",
              "       [ 98104.68776522],\n",
              "       [ 98179.15242506],\n",
              "       [ 98253.61708491],\n",
              "       [ 98328.08174475],\n",
              "       [ 98402.5464046 ],\n",
              "       [ 98477.01106444],\n",
              "       [ 98551.47572429],\n",
              "       [ 98625.94038414],\n",
              "       [ 98700.40504398],\n",
              "       [ 98774.86970383],\n",
              "       [ 98849.33436367],\n",
              "       [ 98923.79902352],\n",
              "       [ 98998.26368336],\n",
              "       [ 99072.72834321],\n",
              "       [ 99147.19300306],\n",
              "       [ 99221.6576629 ],\n",
              "       [ 99296.12232275],\n",
              "       [ 99370.58698259],\n",
              "       [ 99445.05164244],\n",
              "       [ 99519.51630228],\n",
              "       [ 99593.98096213],\n",
              "       [ 99668.44562198],\n",
              "       [ 99742.91028182],\n",
              "       [ 99817.37494167],\n",
              "       [ 99891.83960151],\n",
              "       [ 99966.30426136],\n",
              "       [100040.7689212 ],\n",
              "       [100115.23358105],\n",
              "       [100189.6982409 ],\n",
              "       [100264.16290074],\n",
              "       [100338.62756059],\n",
              "       [100413.09222043],\n",
              "       [100487.55688028],\n",
              "       [100562.02154012],\n",
              "       [100636.48619997],\n",
              "       [100710.95085982],\n",
              "       [100785.41551966],\n",
              "       [100859.88017951],\n",
              "       [100934.34483935],\n",
              "       [101008.8094992 ],\n",
              "       [101083.27415904],\n",
              "       [101157.73881889],\n",
              "       [101232.20347874],\n",
              "       [101306.66813858],\n",
              "       [101381.13279843],\n",
              "       [101455.59745827],\n",
              "       [101530.06211812],\n",
              "       [101604.52677796],\n",
              "       [101678.99143781],\n",
              "       [101753.45609765],\n",
              "       [101827.9207575 ],\n",
              "       [101902.38541735],\n",
              "       [101976.85007719],\n",
              "       [102051.31473704],\n",
              "       [102125.77939688]])"
            ]
          },
          "metadata": {},
          "execution_count": 248
        }
      ]
    },
    {
      "cell_type": "code",
      "metadata": {
        "id": "XjG0tvpzabFi",
        "outputId": "eb8b4108-f8e8-4529-f3d4-7633faea0fc0",
        "colab": {
          "base_uri": "https://localhost:8080/"
        }
      },
      "source": [
        "from sklearn.metrics import mean_absolute_error\n",
        "print(mean_absolute_error(y,Yp))"
      ],
      "execution_count": 354,
      "outputs": [
        {
          "output_type": "stream",
          "name": "stdout",
          "text": [
            "86299.30617653305\n"
          ]
        }
      ]
    },
    {
      "cell_type": "code",
      "metadata": {
        "colab": {
          "base_uri": "https://localhost:8080/",
          "height": 265
        },
        "id": "MLsYo63wnf_I",
        "outputId": "bbc04c8d-0c02-4ac8-9b2e-2fff73a57aac"
      },
      "source": [
        "plt.scatter(x,y)\n",
        "plt.plot(x,Yp)\n",
        "plt.show()"
      ],
      "execution_count": 249,
      "outputs": [
        {
          "output_type": "display_data",
          "data": {
            "image/png": "[encoded data removed]",
            "text/plain": [
              "<Figure size 432x288 with 1 Axes>"
            ]
          },
          "metadata": {
            "needs_background": "light"
          }
        }
      ]
    },
    {
      "cell_type": "code",
      "metadata": {
        "colab": {
          "base_uri": "https://localhost:8080/"
        },
        "id": "MFXH_uvpoOyZ",
        "outputId": "e5ff0dae-fe4b-4796-ef02-704a2bf2e971"
      },
      "source": [
        "regressor.score(x,y)*100"
      ],
      "execution_count": 250,
      "outputs": [
        {
          "output_type": "execute_result",
          "data": {
            "text/plain": [
              "0.21928805676949548"
            ]
          },
          "metadata": {},
          "execution_count": 250
        }
      ]
    },
    {
      "cell_type": "code",
      "metadata": {
        "colab": {
          "base_uri": "https://localhost:8080/"
        },
        "id": "FV5qhcVYohr7",
        "outputId": "ff93d895-874c-433b-ea39-9fb8a43b660e"
      },
      "source": [
        "regressor.intercept_"
      ],
      "execution_count": 251,
      "outputs": [
        {
          "output_type": "execute_result",
          "data": {
            "text/plain": [
              "array([84105.33171423])"
            ]
          },
          "metadata": {},
          "execution_count": 251
        }
      ]
    },
    {
      "cell_type": "code",
      "metadata": {
        "colab": {
          "base_uri": "https://localhost:8080/"
        },
        "id": "9ev9hlAGomqf",
        "outputId": "69900ee7-be62-4d5e-a21b-55e387ee00c1"
      },
      "source": [
        "regressor.coef_"
      ],
      "execution_count": 252,
      "outputs": [
        {
          "output_type": "execute_result",
          "data": {
            "text/plain": [
              "array([[74.46465985]])"
            ]
          },
          "metadata": {},
          "execution_count": 252
        }
      ]
    },
    {
      "cell_type": "markdown",
      "metadata": {
        "id": "G6fJ38mPqgg3"
      },
      "source": [
        "**Predication Using Polynomial Regression**"
      ]
    },
    {
      "cell_type": "code",
      "metadata": {
        "colab": {
          "base_uri": "https://localhost:8080/"
        },
        "id": "qo4z-zdioqzK",
        "outputId": "ace688e8-932d-456e-8d94-92fc789fb379"
      },
      "source": [
        "from sklearn.preprocessing import PolynomialFeatures\n",
        "Poly=PolynomialFeatures(degree=10)\n",
        "X=Poly.fit_transform(x)\n",
        "X"
      ],
      "execution_count": 293,
      "outputs": [
        {
          "output_type": "execute_result",
          "data": {
            "text/plain": [
              "array([[1.00000000e+00, 0.00000000e+00, 0.00000000e+00, ...,\n",
              "        0.00000000e+00, 0.00000000e+00, 0.00000000e+00],\n",
              "       [1.00000000e+00, 1.00000000e+00, 1.00000000e+00, ...,\n",
              "        1.00000000e+00, 1.00000000e+00, 1.00000000e+00],\n",
              "       [1.00000000e+00, 2.00000000e+00, 4.00000000e+00, ...,\n",
              "        2.56000000e+02, 5.12000000e+02, 1.02400000e+03],\n",
              "       ...,\n",
              "       [1.00000000e+00, 2.40000000e+02, 5.76000000e+04, ...,\n",
              "        1.10075314e+19, 2.64180754e+21, 6.34033810e+23],\n",
              "       [1.00000000e+00, 2.41000000e+02, 5.80810000e+04, ...,\n",
              "        1.13798448e+19, 2.74254261e+21, 6.60952768e+23],\n",
              "       [1.00000000e+00, 2.42000000e+02, 5.85640000e+04, ...,\n",
              "        1.17631308e+19, 2.84667766e+21, 6.88895995e+23]])"
            ]
          },
          "metadata": {},
          "execution_count": 293
        }
      ]
    },
    {
      "cell_type": "code",
      "metadata": {
        "colab": {
          "base_uri": "https://localhost:8080/",
          "height": 417
        },
        "id": "5JHuFz1Jr6hP",
        "outputId": "3e793f0f-fb10-4f69-d70f-d305abebb9b2"
      },
      "source": [
        "pd.DataFrame(X)"
      ],
      "execution_count": 294,
      "outputs": [
        {
          "output_type": "execute_result",
          "data": {
            "text/html": [
              "<div>\n",
              "<style scoped>\n",
              "    .dataframe tbody tr th:only-of-type {\n",
              "        vertical-align: middle;\n",
              "    }\n",
              "\n",
              "    .dataframe tbody tr th {\n",
              "        vertical-align: top;\n",
              "    }\n",
              "\n",
              "    .dataframe thead th {\n",
              "        text-align: right;\n",
              "    }\n",
              "</style>\n",
              "<table border=\"1\" class=\"dataframe\">\n",
              "  <thead>\n",
              "    <tr style=\"text-align: right;\">\n",
              "      <th></th>\n",
              "      <th>0</th>\n",
              "      <th>1</th>\n",
              "      <th>2</th>\n",
              "      <th>3</th>\n",
              "      <th>4</th>\n",
              "      <th>5</th>\n",
              "      <th>6</th>\n",
              "      <th>7</th>\n",
              "      <th>8</th>\n",
              "      <th>9</th>\n",
              "      <th>10</th>\n",
              "    </tr>\n",
              "  </thead>\n",
              "  <tbody>\n",
              "    <tr>\n",
              "      <th>0</th>\n",
              "      <td>1.0</td>\n",
              "      <td>0.0</td>\n",
              "      <td>0.0</td>\n",
              "      <td>0.0</td>\n",
              "      <td>0.000000e+00</td>\n",
              "      <td>0.000000e+00</td>\n",
              "      <td>0.000000e+00</td>\n",
              "      <td>0.000000e+00</td>\n",
              "      <td>0.000000e+00</td>\n",
              "      <td>0.000000e+00</td>\n",
              "      <td>0.000000e+00</td>\n",
              "    </tr>\n",
              "    <tr>\n",
              "      <th>1</th>\n",
              "      <td>1.0</td>\n",
              "      <td>1.0</td>\n",
              "      <td>1.0</td>\n",
              "      <td>1.0</td>\n",
              "      <td>1.000000e+00</td>\n",
              "      <td>1.000000e+00</td>\n",
              "      <td>1.000000e+00</td>\n",
              "      <td>1.000000e+00</td>\n",
              "      <td>1.000000e+00</td>\n",
              "      <td>1.000000e+00</td>\n",
              "      <td>1.000000e+00</td>\n",
              "    </tr>\n",
              "    <tr>\n",
              "      <th>2</th>\n",
              "      <td>1.0</td>\n",
              "      <td>2.0</td>\n",
              "      <td>4.0</td>\n",
              "      <td>8.0</td>\n",
              "      <td>1.600000e+01</td>\n",
              "      <td>3.200000e+01</td>\n",
              "      <td>6.400000e+01</td>\n",
              "      <td>1.280000e+02</td>\n",
              "      <td>2.560000e+02</td>\n",
              "      <td>5.120000e+02</td>\n",
              "      <td>1.024000e+03</td>\n",
              "    </tr>\n",
              "    <tr>\n",
              "      <th>3</th>\n",
              "      <td>1.0</td>\n",
              "      <td>3.0</td>\n",
              "      <td>9.0</td>\n",
              "      <td>27.0</td>\n",
              "      <td>8.100000e+01</td>\n",
              "      <td>2.430000e+02</td>\n",
              "      <td>7.290000e+02</td>\n",
              "      <td>2.187000e+03</td>\n",
              "      <td>6.561000e+03</td>\n",
              "      <td>1.968300e+04</td>\n",
              "      <td>5.904900e+04</td>\n",
              "    </tr>\n",
              "    <tr>\n",
              "      <th>4</th>\n",
              "      <td>1.0</td>\n",
              "      <td>4.0</td>\n",
              "      <td>16.0</td>\n",
              "      <td>64.0</td>\n",
              "      <td>2.560000e+02</td>\n",
              "      <td>1.024000e+03</td>\n",
              "      <td>4.096000e+03</td>\n",
              "      <td>1.638400e+04</td>\n",
              "      <td>6.553600e+04</td>\n",
              "      <td>2.621440e+05</td>\n",
              "      <td>1.048576e+06</td>\n",
              "    </tr>\n",
              "    <tr>\n",
              "      <th>...</th>\n",
              "      <td>...</td>\n",
              "      <td>...</td>\n",
              "      <td>...</td>\n",
              "      <td>...</td>\n",
              "      <td>...</td>\n",
              "      <td>...</td>\n",
              "      <td>...</td>\n",
              "      <td>...</td>\n",
              "      <td>...</td>\n",
              "      <td>...</td>\n",
              "      <td>...</td>\n",
              "    </tr>\n",
              "    <tr>\n",
              "      <th>238</th>\n",
              "      <td>1.0</td>\n",
              "      <td>238.0</td>\n",
              "      <td>56644.0</td>\n",
              "      <td>13481272.0</td>\n",
              "      <td>3.208543e+09</td>\n",
              "      <td>7.636332e+11</td>\n",
              "      <td>1.817447e+14</td>\n",
              "      <td>4.325524e+16</td>\n",
              "      <td>1.029475e+19</td>\n",
              "      <td>2.450150e+21</td>\n",
              "      <td>5.831356e+23</td>\n",
              "    </tr>\n",
              "    <tr>\n",
              "      <th>239</th>\n",
              "      <td>1.0</td>\n",
              "      <td>239.0</td>\n",
              "      <td>57121.0</td>\n",
              "      <td>13651919.0</td>\n",
              "      <td>3.262809e+09</td>\n",
              "      <td>7.798113e+11</td>\n",
              "      <td>1.863749e+14</td>\n",
              "      <td>4.454360e+16</td>\n",
              "      <td>1.064592e+19</td>\n",
              "      <td>2.544375e+21</td>\n",
              "      <td>6.081056e+23</td>\n",
              "    </tr>\n",
              "    <tr>\n",
              "      <th>240</th>\n",
              "      <td>1.0</td>\n",
              "      <td>240.0</td>\n",
              "      <td>57600.0</td>\n",
              "      <td>13824000.0</td>\n",
              "      <td>3.317760e+09</td>\n",
              "      <td>7.962624e+11</td>\n",
              "      <td>1.911030e+14</td>\n",
              "      <td>4.586471e+16</td>\n",
              "      <td>1.100753e+19</td>\n",
              "      <td>2.641808e+21</td>\n",
              "      <td>6.340338e+23</td>\n",
              "    </tr>\n",
              "    <tr>\n",
              "      <th>241</th>\n",
              "      <td>1.0</td>\n",
              "      <td>241.0</td>\n",
              "      <td>58081.0</td>\n",
              "      <td>13997521.0</td>\n",
              "      <td>3.373403e+09</td>\n",
              "      <td>8.129900e+11</td>\n",
              "      <td>1.959306e+14</td>\n",
              "      <td>4.721927e+16</td>\n",
              "      <td>1.137984e+19</td>\n",
              "      <td>2.742543e+21</td>\n",
              "      <td>6.609528e+23</td>\n",
              "    </tr>\n",
              "    <tr>\n",
              "      <th>242</th>\n",
              "      <td>1.0</td>\n",
              "      <td>242.0</td>\n",
              "      <td>58564.0</td>\n",
              "      <td>14172488.0</td>\n",
              "      <td>3.429742e+09</td>\n",
              "      <td>8.299976e+11</td>\n",
              "      <td>2.008594e+14</td>\n",
              "      <td>4.860798e+16</td>\n",
              "      <td>1.176313e+19</td>\n",
              "      <td>2.846678e+21</td>\n",
              "      <td>6.888960e+23</td>\n",
              "    </tr>\n",
              "  </tbody>\n",
              "</table>\n",
              "<p>243 rows × 11 columns</p>\n",
              "</div>"
            ],
            "text/plain": [
              "      0      1        2   ...            8             9             10\n",
              "0    1.0    0.0      0.0  ...  0.000000e+00  0.000000e+00  0.000000e+00\n",
              "1    1.0    1.0      1.0  ...  1.000000e+00  1.000000e+00  1.000000e+00\n",
              "2    1.0    2.0      4.0  ...  2.560000e+02  5.120000e+02  1.024000e+03\n",
              "3    1.0    3.0      9.0  ...  6.561000e+03  1.968300e+04  5.904900e+04\n",
              "4    1.0    4.0     16.0  ...  6.553600e+04  2.621440e+05  1.048576e+06\n",
              "..   ...    ...      ...  ...           ...           ...           ...\n",
              "238  1.0  238.0  56644.0  ...  1.029475e+19  2.450150e+21  5.831356e+23\n",
              "239  1.0  239.0  57121.0  ...  1.064592e+19  2.544375e+21  6.081056e+23\n",
              "240  1.0  240.0  57600.0  ...  1.100753e+19  2.641808e+21  6.340338e+23\n",
              "241  1.0  241.0  58081.0  ...  1.137984e+19  2.742543e+21  6.609528e+23\n",
              "242  1.0  242.0  58564.0  ...  1.176313e+19  2.846678e+21  6.888960e+23\n",
              "\n",
              "[243 rows x 11 columns]"
            ]
          },
          "metadata": {},
          "execution_count": 294
        }
      ]
    },
    {
      "cell_type": "code",
      "metadata": {
        "colab": {
          "base_uri": "https://localhost:8080/"
        },
        "id": "aoXChj5zsBxF",
        "outputId": "2ac59c17-694f-4a97-a73d-dccecf193ebc"
      },
      "source": [
        "\n",
        "\n",
        "from sklearn.linear_model import LinearRegression\n",
        "reg=LinearRegression()\n",
        "reg.fit(X,y)"
      ],
      "execution_count": 295,
      "outputs": [
        {
          "output_type": "execute_result",
          "data": {
            "text/plain": [
              "LinearRegression(copy_X=True, fit_intercept=True, n_jobs=None, normalize=False)"
            ]
          },
          "metadata": {},
          "execution_count": 295
        }
      ]
    },
    {
      "cell_type": "code",
      "metadata": {
        "colab": {
          "base_uri": "https://localhost:8080/"
        },
        "id": "Rxf7VNP2sfBp",
        "outputId": "3725ee6a-97b7-4875-c728-5bab9c70561e"
      },
      "source": [
        "reg.intercept_"
      ],
      "execution_count": 296,
      "outputs": [
        {
          "output_type": "execute_result",
          "data": {
            "text/plain": [
              "array([-4683.52000047])"
            ]
          },
          "metadata": {},
          "execution_count": 296
        }
      ]
    },
    {
      "cell_type": "code",
      "metadata": {
        "colab": {
          "base_uri": "https://localhost:8080/"
        },
        "id": "cB6TNX2AslkJ",
        "outputId": "b874b2b1-ea80-4a22-caa9-9b4c87413c92"
      },
      "source": [
        "reg.coef_"
      ],
      "execution_count": 297,
      "outputs": [
        {
          "output_type": "execute_result",
          "data": {
            "text/plain": [
              "array([[ 0.00000000e+00,  6.45940492e-08, -1.48577510e-11,\n",
              "        -1.77809257e-09, -7.80201707e-08, -1.99252047e-06,\n",
              "         3.81337447e-06, -7.42044576e-08,  5.40998610e-10,\n",
              "        -1.74566497e-12,  2.10228301e-15]])"
            ]
          },
          "metadata": {},
          "execution_count": 297
        }
      ]
    },
    {
      "cell_type": "code",
      "metadata": {
        "colab": {
          "base_uri": "https://localhost:8080/"
        },
        "id": "yOBL-PNQsrJW",
        "outputId": "ea0628ac-b14e-47f9-ab24-30cb508450c4"
      },
      "source": [
        "pyp = reg.predict(X)\n",
        "pyp\n"
      ],
      "execution_count": 298,
      "outputs": [
        {
          "output_type": "execute_result",
          "data": {
            "text/plain": [
              "array([[-4.68352000e+03],\n",
              "       [-4.68352000e+03],\n",
              "       [-4.68351983e+03],\n",
              "       [-4.68351787e+03],\n",
              "       [-4.68350762e+03],\n",
              "       [-4.68347228e+03],\n",
              "       [-4.68337756e+03],\n",
              "       [-4.68316310e+03],\n",
              "       [-4.68273273e+03],\n",
              "       [-4.68194388e+03],\n",
              "       [-4.68059633e+03],\n",
              "       [-4.67842055e+03],\n",
              "       [-4.67506589e+03],\n",
              "       [-4.67008874e+03],\n",
              "       [-4.66294090e+03],\n",
              "       [-4.65295821e+03],\n",
              "       [-4.63934981e+03],\n",
              "       [-4.62118789e+03],\n",
              "       [-4.59739829e+03],\n",
              "       [-4.56675189e+03],\n",
              "       [-4.52785699e+03],\n",
              "       [-4.47915267e+03],\n",
              "       [-4.41890333e+03],\n",
              "       [-4.34519433e+03],\n",
              "       [-4.25592884e+03],\n",
              "       [-4.14882601e+03],\n",
              "       [-4.02142032e+03],\n",
              "       [-3.87106233e+03],\n",
              "       [-3.69492066e+03],\n",
              "       [-3.48998531e+03],\n",
              "       [-3.25307235e+03],\n",
              "       [-2.98082977e+03],\n",
              "       [-2.66974475e+03],\n",
              "       [-2.31615210e+03],\n",
              "       [-1.91624393e+03],\n",
              "       [-1.46608048e+03],\n",
              "       [-9.61602157e+02],\n",
              "       [-3.98642572e+02],\n",
              "       [ 2.27057349e+02],\n",
              "       [ 9.19834277e+02],\n",
              "       [ 1.68408650e+03],\n",
              "       [ 2.52425706e+03],\n",
              "       [ 3.44481619e+03],\n",
              "       [ 4.45024292e+03],\n",
              "       [ 5.54500617e+03],\n",
              "       [ 6.73354525e+03],\n",
              "       [ 8.02024982e+03],\n",
              "       [ 9.40943958e+03],\n",
              "       [ 1.09053435e+04],\n",
              "       [ 1.25120789e+04],\n",
              "       [ 1.42336305e+04],\n",
              "       [ 1.60738291e+04],\n",
              "       [ 1.80363304e+04],\n",
              "       [ 2.01245942e+04],\n",
              "       [ 2.23418636e+04],\n",
              "       [ 2.46911439e+04],\n",
              "       [ 2.71751831e+04],\n",
              "       [ 2.97964516e+04],\n",
              "       [ 3.25571232e+04],\n",
              "       [ 3.54590560e+04],\n",
              "       [ 3.85037749e+04],\n",
              "       [ 4.16924542e+04],\n",
              "       [ 4.50259006e+04],\n",
              "       [ 4.85045385e+04],\n",
              "       [ 5.21283945e+04],\n",
              "       [ 5.58970844e+04],\n",
              "       [ 5.98098003e+04],\n",
              "       [ 6.38652994e+04],\n",
              "       [ 6.80618937e+04],\n",
              "       [ 7.23974412e+04],\n",
              "       [ 7.68693378e+04],\n",
              "       [ 8.14745116e+04],\n",
              "       [ 8.62094176e+04],\n",
              "       [ 9.10700342e+04],\n",
              "       [ 9.60518613e+04],\n",
              "       [ 1.01149920e+05],\n",
              "       [ 1.06358752e+05],\n",
              "       [ 1.11672425e+05],\n",
              "       [ 1.17084535e+05],\n",
              "       [ 1.22588210e+05],\n",
              "       [ 1.28176123e+05],\n",
              "       [ 1.33840493e+05],\n",
              "       [ 1.39573103e+05],\n",
              "       [ 1.45365307e+05],\n",
              "       [ 1.51208046e+05],\n",
              "       [ 1.57091861e+05],\n",
              "       [ 1.63006913e+05],\n",
              "       [ 1.68942998e+05],\n",
              "       [ 1.74889568e+05],\n",
              "       [ 1.80835755e+05],\n",
              "       [ 1.86770387e+05],\n",
              "       [ 1.92682019e+05],\n",
              "       [ 1.98558955e+05],\n",
              "       [ 2.04389276e+05],\n",
              "       [ 2.10160867e+05],\n",
              "       [ 2.15861446e+05],\n",
              "       [ 2.21478596e+05],\n",
              "       [ 2.26999797e+05],\n",
              "       [ 2.32412455e+05],\n",
              "       [ 2.37703939e+05],\n",
              "       [ 2.42861613e+05],\n",
              "       [ 2.47872873e+05],\n",
              "       [ 2.52725181e+05],\n",
              "       [ 2.57406105e+05],\n",
              "       [ 2.61903350e+05],\n",
              "       [ 2.66204801e+05],\n",
              "       [ 2.70298558e+05],\n",
              "       [ 2.74172973e+05],\n",
              "       [ 2.77816692e+05],\n",
              "       [ 2.81218690e+05],\n",
              "       [ 2.84368310e+05],\n",
              "       [ 2.87255301e+05],\n",
              "       [ 2.89869853e+05],\n",
              "       [ 2.92202641e+05],\n",
              "       [ 2.94244854e+05],\n",
              "       [ 2.95988235e+05],\n",
              "       [ 2.97425117e+05],\n",
              "       [ 2.98548455e+05],\n",
              "       [ 2.99351859e+05],\n",
              "       [ 2.99829629e+05],\n",
              "       [ 2.99976786e+05],\n",
              "       [ 2.99789099e+05],\n",
              "       [ 2.99263113e+05],\n",
              "       [ 2.98396179e+05],\n",
              "       [ 2.97186477e+05],\n",
              "       [ 2.95633038e+05],\n",
              "       [ 2.93735766e+05],\n",
              "       [ 2.91495459e+05],\n",
              "       [ 2.88913820e+05],\n",
              "       [ 2.85993478e+05],\n",
              "       [ 2.82737996e+05],\n",
              "       [ 2.79151883e+05],\n",
              "       [ 2.75240599e+05],\n",
              "       [ 2.71010558e+05],\n",
              "       [ 2.66469135e+05],\n",
              "       [ 2.61624658e+05],\n",
              "       [ 2.56486408e+05],\n",
              "       [ 2.51064607e+05],\n",
              "       [ 2.45370413e+05],\n",
              "       [ 2.39415902e+05],\n",
              "       [ 2.33214049e+05],\n",
              "       [ 2.26778715e+05],\n",
              "       [ 2.20124614e+05],\n",
              "       [ 2.13267291e+05],\n",
              "       [ 2.06223090e+05],\n",
              "       [ 1.99009119e+05],\n",
              "       [ 1.91643213e+05],\n",
              "       [ 1.84143891e+05],\n",
              "       [ 1.76530313e+05],\n",
              "       [ 1.68822230e+05],\n",
              "       [ 1.61039933e+05],\n",
              "       [ 1.53204196e+05],\n",
              "       [ 1.45336219e+05],\n",
              "       [ 1.37457566e+05],\n",
              "       [ 1.29590096e+05],\n",
              "       [ 1.21755900e+05],\n",
              "       [ 1.13977224e+05],\n",
              "       [ 1.06276395e+05],\n",
              "       [ 9.86757481e+04],\n",
              "       [ 9.11975394e+04],\n",
              "       [ 8.38638672e+04],\n",
              "       [ 7.66965853e+04],\n",
              "       [ 6.97172155e+04],\n",
              "       [ 6.29468577e+04],\n",
              "       [ 5.64060991e+04],\n",
              "       [ 5.01149204e+04],\n",
              "       [ 4.40926022e+04],\n",
              "       [ 3.83576292e+04],\n",
              "       [ 3.29275949e+04],\n",
              "       [ 2.78191047e+04],\n",
              "       [ 2.30476798e+04],\n",
              "       [ 1.86276610e+04],\n",
              "       [ 1.45721138e+04],\n",
              "       [ 1.08927341e+04],\n",
              "       [ 7.59975542e+03],\n",
              "       [ 4.70185897e+03],\n",
              "       [ 2.20608527e+03],\n",
              "       [ 1.17749520e+02],\n",
              "       [-1.55963969e+03],\n",
              "       [-2.82445745e+03],\n",
              "       [-3.67703476e+03],\n",
              "       [-4.11972548e+03],\n",
              "       [-4.15696707e+03],\n",
              "       [-3.79533467e+03],\n",
              "       [-3.04358765e+03],\n",
              "       [-1.91270791e+03],\n",
              "       [-4.15929249e+02],\n",
              "       [ 1.43124323e+03],\n",
              "       [ 3.61102429e+03],\n",
              "       [ 6.10335142e+03],\n",
              "       [ 8.88590014e+03],\n",
              "       [ 1.19341128e+04],\n",
              "       [ 1.52212417e+04],\n",
              "       [ 1.87184082e+04],\n",
              "       [ 2.23946778e+04],\n",
              "       [ 2.62171533e+04],\n",
              "       [ 3.01510866e+04],\n",
              "       [ 3.41600109e+04],\n",
              "       [ 3.82058939e+04],\n",
              "       [ 4.22493137e+04],\n",
              "       [ 4.62496585e+04],\n",
              "       [ 5.01653519e+04],\n",
              "       [ 5.39541046e+04],\n",
              "       [ 5.75731942e+04],\n",
              "       [ 6.09797754e+04],\n",
              "       [ 6.41312204e+04],\n",
              "       [ 6.69854930e+04],\n",
              "       [ 6.95015571e+04],\n",
              "       [ 7.16398210e+04],\n",
              "       [ 7.33626204e+04],\n",
              "       [ 7.46347405e+04],\n",
              "       [ 7.54239804e+04],\n",
              "       [ 7.57017611e+04],\n",
              "       [ 7.54437787e+04],\n",
              "       [ 7.46307057e+04],\n",
              "       [ 7.32489418e+04],\n",
              "       [ 7.12914171e+04],\n",
              "       [ 6.87584486e+04],\n",
              "       [ 6.56586540e+04],\n",
              "       [ 6.20099238e+04],\n",
              "       [ 5.78404549e+04],\n",
              "       [ 5.31898473e+04],\n",
              "       [ 4.81102677e+04],\n",
              "       [ 4.26676811e+04],\n",
              "       [ 3.69431550e+04],\n",
              "       [ 3.10342362e+04],\n",
              "       [ 2.50564062e+04],\n",
              "       [ 1.91446152e+04],\n",
              "       [ 1.34548999e+04],\n",
              "       [ 8.16608631e+03],\n",
              "       [ 3.48158206e+03],\n",
              "       [-3.68739394e+02],\n",
              "       [-3.12655928e+03],\n",
              "       [-4.50303532e+03],\n",
              "       [-4.17662144e+03],\n",
              "       [-1.79078203e+03],\n",
              "       [ 3.04840292e+03],\n",
              "       [ 1.07747454e+04],\n",
              "       [ 2.18645735e+04],\n",
              "       [ 3.68394754e+04],\n",
              "       [ 5.62691681e+04],\n",
              "       [ 8.07744938e+04],\n",
              "       [ 1.11030549e+05]])"
            ]
          },
          "metadata": {},
          "execution_count": 298
        }
      ]
    },
    {
      "cell_type": "code",
      "metadata": {
        "colab": {
          "base_uri": "https://localhost:8080/",
          "height": 265
        },
        "id": "j-mfaEo2tGtz",
        "outputId": "9788f807-43e6-4d85-9fe3-d181a09fedf0"
      },
      "source": [
        "plt.scatter(x,y)\n",
        "plt.plot(x,Yp,color='k')\n",
        "plt.show()"
      ],
      "execution_count": 299,
      "outputs": [
        {
          "output_type": "display_data",
          "data": {
            "image/png": "[encoded data removed]",
            "text/plain": [
              "<Figure size 432x288 with 1 Axes>"
            ]
          },
          "metadata": {
            "needs_background": "light"
          }
        }
      ]
    },
    {
      "cell_type": "code",
      "metadata": {
        "colab": {
          "base_uri": "https://localhost:8080/"
        },
        "id": "b3V4dksstYJM",
        "outputId": "2ea6ea0d-7ef6-483c-e112-b223c82f7d88"
      },
      "source": [
        "reg.score(X,y)*100"
      ],
      "execution_count": 300,
      "outputs": [
        {
          "output_type": "execute_result",
          "data": {
            "text/plain": [
              "85.8222346401218"
            ]
          },
          "metadata": {},
          "execution_count": 300
        }
      ]
    },
    {
      "cell_type": "code",
      "metadata": {
        "id": "NloOBRS0QH7m",
        "outputId": "7d71acaf-bd24-4ec0-c8a3-67c6a40d1432",
        "colab": {
          "base_uri": "https://localhost:8080/"
        }
      },
      "source": [
        "x"
      ],
      "execution_count": 329,
      "outputs": [
        {
          "output_type": "execute_result",
          "data": {
            "text/plain": [
              "array([[  0],\n",
              "       [  1],\n",
              "       [  2],\n",
              "       [  3],\n",
              "       [  4],\n",
              "       [  5],\n",
              "       [  6],\n",
              "       [  7],\n",
              "       [  8],\n",
              "       [  9],\n",
              "       [ 10],\n",
              "       [ 11],\n",
              "       [ 12],\n",
              "       [ 13],\n",
              "       [ 14],\n",
              "       [ 15],\n",
              "       [ 16],\n",
              "       [ 17],\n",
              "       [ 18],\n",
              "       [ 19],\n",
              "       [ 20],\n",
              "       [ 21],\n",
              "       [ 22],\n",
              "       [ 23],\n",
              "       [ 24],\n",
              "       [ 25],\n",
              "       [ 26],\n",
              "       [ 27],\n",
              "       [ 28],\n",
              "       [ 29],\n",
              "       [ 30],\n",
              "       [ 31],\n",
              "       [ 32],\n",
              "       [ 33],\n",
              "       [ 34],\n",
              "       [ 35],\n",
              "       [ 36],\n",
              "       [ 37],\n",
              "       [ 38],\n",
              "       [ 39],\n",
              "       [ 40],\n",
              "       [ 41],\n",
              "       [ 42],\n",
              "       [ 43],\n",
              "       [ 44],\n",
              "       [ 45],\n",
              "       [ 46],\n",
              "       [ 47],\n",
              "       [ 48],\n",
              "       [ 49],\n",
              "       [ 50],\n",
              "       [ 51],\n",
              "       [ 52],\n",
              "       [ 53],\n",
              "       [ 54],\n",
              "       [ 55],\n",
              "       [ 56],\n",
              "       [ 57],\n",
              "       [ 58],\n",
              "       [ 59],\n",
              "       [ 60],\n",
              "       [ 61],\n",
              "       [ 62],\n",
              "       [ 63],\n",
              "       [ 64],\n",
              "       [ 65],\n",
              "       [ 66],\n",
              "       [ 67],\n",
              "       [ 68],\n",
              "       [ 69],\n",
              "       [ 70],\n",
              "       [ 71],\n",
              "       [ 72],\n",
              "       [ 73],\n",
              "       [ 74],\n",
              "       [ 75],\n",
              "       [ 76],\n",
              "       [ 77],\n",
              "       [ 78],\n",
              "       [ 79],\n",
              "       [ 80],\n",
              "       [ 81],\n",
              "       [ 82],\n",
              "       [ 83],\n",
              "       [ 84],\n",
              "       [ 85],\n",
              "       [ 86],\n",
              "       [ 87],\n",
              "       [ 88],\n",
              "       [ 89],\n",
              "       [ 90],\n",
              "       [ 91],\n",
              "       [ 92],\n",
              "       [ 93],\n",
              "       [ 94],\n",
              "       [ 95],\n",
              "       [ 96],\n",
              "       [ 97],\n",
              "       [ 98],\n",
              "       [ 99],\n",
              "       [100],\n",
              "       [101],\n",
              "       [102],\n",
              "       [103],\n",
              "       [104],\n",
              "       [105],\n",
              "       [106],\n",
              "       [107],\n",
              "       [108],\n",
              "       [109],\n",
              "       [110],\n",
              "       [111],\n",
              "       [112],\n",
              "       [113],\n",
              "       [114],\n",
              "       [115],\n",
              "       [116],\n",
              "       [117],\n",
              "       [118],\n",
              "       [119],\n",
              "       [120],\n",
              "       [121],\n",
              "       [122],\n",
              "       [123],\n",
              "       [124],\n",
              "       [125],\n",
              "       [126],\n",
              "       [127],\n",
              "       [128],\n",
              "       [129],\n",
              "       [130],\n",
              "       [131],\n",
              "       [132],\n",
              "       [133],\n",
              "       [134],\n",
              "       [135],\n",
              "       [136],\n",
              "       [137],\n",
              "       [138],\n",
              "       [139],\n",
              "       [140],\n",
              "       [141],\n",
              "       [142],\n",
              "       [143],\n",
              "       [144],\n",
              "       [145],\n",
              "       [146],\n",
              "       [147],\n",
              "       [148],\n",
              "       [149],\n",
              "       [150],\n",
              "       [151],\n",
              "       [152],\n",
              "       [153],\n",
              "       [154],\n",
              "       [155],\n",
              "       [156],\n",
              "       [157],\n",
              "       [158],\n",
              "       [159],\n",
              "       [160],\n",
              "       [161],\n",
              "       [162],\n",
              "       [163],\n",
              "       [164],\n",
              "       [165],\n",
              "       [166],\n",
              "       [167],\n",
              "       [168],\n",
              "       [169],\n",
              "       [170],\n",
              "       [171],\n",
              "       [172],\n",
              "       [173],\n",
              "       [174],\n",
              "       [175],\n",
              "       [176],\n",
              "       [177],\n",
              "       [178],\n",
              "       [179],\n",
              "       [180],\n",
              "       [181],\n",
              "       [182],\n",
              "       [183],\n",
              "       [184],\n",
              "       [185],\n",
              "       [186],\n",
              "       [187],\n",
              "       [188],\n",
              "       [189],\n",
              "       [190],\n",
              "       [191],\n",
              "       [192],\n",
              "       [193],\n",
              "       [194],\n",
              "       [195],\n",
              "       [196],\n",
              "       [197],\n",
              "       [198],\n",
              "       [199],\n",
              "       [200],\n",
              "       [201],\n",
              "       [202],\n",
              "       [203],\n",
              "       [204],\n",
              "       [205],\n",
              "       [206],\n",
              "       [207],\n",
              "       [208],\n",
              "       [209],\n",
              "       [210],\n",
              "       [211],\n",
              "       [212],\n",
              "       [213],\n",
              "       [214],\n",
              "       [215],\n",
              "       [216],\n",
              "       [217],\n",
              "       [218],\n",
              "       [219],\n",
              "       [220],\n",
              "       [221],\n",
              "       [222],\n",
              "       [223],\n",
              "       [224],\n",
              "       [225],\n",
              "       [226],\n",
              "       [227],\n",
              "       [228],\n",
              "       [229],\n",
              "       [230],\n",
              "       [231],\n",
              "       [232],\n",
              "       [233],\n",
              "       [234],\n",
              "       [235],\n",
              "       [236],\n",
              "       [237],\n",
              "       [238],\n",
              "       [239],\n",
              "       [240],\n",
              "       [241],\n",
              "       [242]])"
            ]
          },
          "metadata": {},
          "execution_count": 329
        }
      ]
    },
    {
      "cell_type": "code",
      "metadata": {
        "colab": {
          "base_uri": "https://localhost:8080/"
        },
        "id": "YPpT_5Attjmu",
        "outputId": "3552db4a-387b-49e4-b845-203d0385edb1"
      },
      "source": [
        "reg.predict(Poly.transform([[2423]]))\n"
      ],
      "execution_count": 334,
      "outputs": [
        {
          "output_type": "execute_result",
          "data": {
            "text/plain": [
              "array([[1.02451301e+19]])"
            ]
          },
          "metadata": {},
          "execution_count": 334
        }
      ]
    },
    {
      "cell_type": "markdown",
      "metadata": {
        "id": "W2w7u0Bixjfg"
      },
      "source": [
        "**Pridication Using Support Vector Mechanism**"
      ]
    },
    {
      "cell_type": "code",
      "metadata": {
        "id": "3IaJdHg50fUp"
      },
      "source": [
        "y=y.reshape(-1,1)"
      ],
      "execution_count": 301,
      "outputs": []
    },
    {
      "cell_type": "code",
      "metadata": {
        "id": "TZ_WPoRWvAic"
      },
      "source": [
        "from sklearn.preprocessing import StandardScaler\n",
        "sc_x=StandardScaler()\n",
        "sc_y=StandardScaler()"
      ],
      "execution_count": 302,
      "outputs": []
    },
    {
      "cell_type": "code",
      "metadata": {
        "id": "8vmTfEogxhFw"
      },
      "source": [
        "\n",
        "Sx=sc_x.fit_transform(x)\n",
        "Sy=sc_y.fit_transform(y)"
      ],
      "execution_count": 303,
      "outputs": []
    },
    {
      "cell_type": "code",
      "metadata": {
        "colab": {
          "base_uri": "https://localhost:8080/"
        },
        "id": "BvGAqtf-05or",
        "outputId": "c0814046-d690-40cd-b37a-23136711f6cf"
      },
      "source": [
        "from sklearn.svm import SVR\n",
        "reg1=SVR(kernel='rbf')\n",
        "reg1.fit(Sx,Sy)"
      ],
      "execution_count": 304,
      "outputs": [
        {
          "output_type": "stream",
          "name": "stderr",
          "text": [
            "/usr/local/lib/python3.7/dist-packages/sklearn/utils/validation.py:760: DataConversionWarning: A column-vector y was passed when a 1d array was expected. Please change the shape of y to (n_samples, ), for example using ravel().\n",
            "  y = column_or_1d(y, warn=True)\n"
          ]
        },
        {
          "output_type": "execute_result",
          "data": {
            "text/plain": [
              "SVR(C=1.0, cache_size=200, coef0=0.0, degree=3, epsilon=0.1, gamma='scale',\n",
              "    kernel='rbf', max_iter=-1, shrinking=True, tol=0.001, verbose=False)"
            ]
          },
          "metadata": {},
          "execution_count": 304
        }
      ]
    },
    {
      "cell_type": "code",
      "metadata": {
        "colab": {
          "base_uri": "https://localhost:8080/"
        },
        "id": "aFukmlJg1m4i",
        "outputId": "13896c79-11b8-4f59-ea6a-bc5361142d1d"
      },
      "source": [
        "reg1.score(Sx,Sy)*100"
      ],
      "execution_count": 305,
      "outputs": [
        {
          "output_type": "execute_result",
          "data": {
            "text/plain": [
              "86.10868552273587"
            ]
          },
          "metadata": {},
          "execution_count": 305
        }
      ]
    },
    {
      "cell_type": "code",
      "metadata": {
        "id": "7gQ6Oel_RhS0",
        "outputId": "e8791398-6de2-4497-d6f4-ba60e99b7827",
        "colab": {
          "base_uri": "https://localhost:8080/"
        }
      },
      "source": [
        "reg1.predict([[242]])"
      ],
      "execution_count": 338,
      "outputs": [
        {
          "output_type": "execute_result",
          "data": {
            "text/plain": [
              "array([-0.4124098])"
            ]
          },
          "metadata": {},
          "execution_count": 338
        }
      ]
    },
    {
      "cell_type": "code",
      "metadata": {
        "colab": {
          "base_uri": "https://localhost:8080/",
          "height": 266
        },
        "id": "6fr93hi_1z-W",
        "outputId": "8129af7c-2495-4c24-b94c-7cf50beb5708"
      },
      "source": [
        "plt.scatter(Sx,Sy)\n",
        "plt.plot(Sx,reg1.predict(Sx),color='k')\n",
        "plt.show()"
      ],
      "execution_count": 306,
      "outputs": [
        {
          "output_type": "display_data",
          "data": {
            "image/png": "[encoded data removed]",
            "text/plain": [
              "<Figure size 432x288 with 1 Axes>"
            ]
          },
          "metadata": {
            "needs_background": "light"
          }
        }
      ]
    },
    {
      "cell_type": "markdown",
      "metadata": {
        "id": "3GvBgfgp6HU5"
      },
      "source": [
        "**Decision Tree Regression**"
      ]
    },
    {
      "cell_type": "code",
      "metadata": {
        "colab": {
          "base_uri": "https://localhost:8080/"
        },
        "id": "LAXiSqPi3mbA",
        "outputId": "75269ca1-184e-414e-9b47-027d01af3fdd"
      },
      "source": [
        "from sklearn.tree import DecisionTreeRegressor\n",
        "reg2=DecisionTreeRegressor()\n",
        "reg2.fit(x,y)"
      ],
      "execution_count": 307,
      "outputs": [
        {
          "output_type": "execute_result",
          "data": {
            "text/plain": [
              "DecisionTreeRegressor(ccp_alpha=0.0, criterion='mse', max_depth=None,\n",
              "                      max_features=None, max_leaf_nodes=None,\n",
              "                      min_impurity_decrease=0.0, min_impurity_split=None,\n",
              "                      min_samples_leaf=1, min_samples_split=2,\n",
              "                      min_weight_fraction_leaf=0.0, presort='deprecated',\n",
              "                      random_state=None, splitter='best')"
            ]
          },
          "metadata": {},
          "execution_count": 307
        }
      ]
    },
    {
      "cell_type": "code",
      "metadata": {
        "colab": {
          "base_uri": "https://localhost:8080/"
        },
        "id": "qxbEDt7W-G0z",
        "outputId": "3d8c0620-9a1f-4758-a1ce-f862b09b1ea9"
      },
      "source": [
        "Dyp=reg2.predict(x)\n",
        "Dyp"
      ],
      "execution_count": 308,
      "outputs": [
        {
          "output_type": "execute_result",
          "data": {
            "text/plain": [
              "array([     0.,  18820.,  16086.,  12481.,  15903.,  17015.,  15677.,\n",
              "        15155.,  15050.,  13962.,   9987.,  13787.,  15279.,  14495.,\n",
              "        14323.,  14896.,  13232.,   9098.,  12733.,  11556.,  18912.,\n",
              "        13054.,  13073.,  11527.,   8579.,  11001.,  12925.,  12401.,\n",
              "        11711.,  12069.,  11786.,   8715.,  10731.,  12539.,   9353.,\n",
              "        12137.,  12198.,  11706.,   9086.,  11592.,  12862.,  13238.,\n",
              "        13914.,  13919.,  14278.,  10494.,  13682.,  16930.,  16599.,\n",
              "        16562.,  16805.,  15614.,  12270.,  14998.,  17425.,  16824.,\n",
              "        18324.,  18724.,  18650.,  15353.,  17873.,  22851.,  23298.,\n",
              "        24845.,  25154.,  26513.,  24437.,  28869.,  35838.,  39687.,\n",
              "        40906.,  43815.,  47009.,  40636.,  47239.,  53419.,  59085.,\n",
              "        62276.,  62632.,  68206.,  56152.,  53237.,  72115.,  81398.,\n",
              "        89023.,  92994., 103794.,  96563., 115312., 126276., 131878.,\n",
              "       144997., 152565., 169915., 160854., 185306., 199584., 216838.,\n",
              "       234002., 260895., 275083., 257017., 294378., 315752., 332531.,\n",
              "       345296., 348996., 354658., 319471., 362913., 379403., 386773.,\n",
              "       402014., 392576., 370090., 355769., 382847., 412624., 414280.,\n",
              "       406901., 403808., 366455., 329491., 348555., 362632., 343005.,\n",
              "       326256., 310757., 281837., 263021., 267246., 276187., 259242.,\n",
              "       257299., 240897., 222834., 195857., 208992., 211510., 186075.,\n",
              "       174083., 165282., 153396., 126883., 133152., 134044., 132424.,\n",
              "       120454., 114488., 101209.,  85804.,  92787.,  93883.,  91849.,\n",
              "        84574.,  80525.,  71001.,  60008.,  62217.,  67289.,  62436.,\n",
              "        60765.,  58615.,  52978.,  42683.,  50817.,  54309.,  51659.,\n",
              "        48768.,  49844.,  46523.,  37070.,  46104.,  48606.,  46781.,\n",
              "        44187.,  43027.,  40150.,  34026.,  43964.,  45701.,  43504.,\n",
              "        42660.,  41494.,  37654.,  30818.,  40314.,  41759.,  39071.,\n",
              "        38117.,  41283.,  38330.,  29420.,  42128.,  41687.,  34863.,\n",
              "        39501.,  40286.,  38179.,  30820.,  42971.,  43165.,  44671.,\n",
              "        41499.,  41943.,  40629.,  30085.,  42532.,  42797.,  45005.,\n",
              "        38705.,  39068.,  36036.,  27428.,  38380.,  41586.,  40081.,\n",
              "        38761.,  36135.,  33245.,  24696.,  35208.,  36502.,  36600.,\n",
              "        34308.,  31023.,  25420.,  24794.,  37739.,  46129.,  44550.,\n",
              "        46806.,  45064.,  43374.,  30248.,  43073.,  45975.,  45624.,\n",
              "        42667.,  42607.,  39537.,  30164.,   2288.])"
            ]
          },
          "metadata": {},
          "execution_count": 308
        }
      ]
    },
    {
      "cell_type": "code",
      "metadata": {
        "id": "djWaXFElY_wt",
        "outputId": "e6f31a18-6d36-4777-c639-1bb8bbb36819",
        "colab": {
          "base_uri": "https://localhost:8080/"
        }
      },
      "source": [
        "from sklearn.metrics import mean_absolute_error\n",
        "print(mean_absolute_error(y,Dyp))\n"
      ],
      "execution_count": 352,
      "outputs": [
        {
          "output_type": "stream",
          "name": "stdout",
          "text": [
            "0.0\n"
          ]
        }
      ]
    },
    {
      "cell_type": "code",
      "metadata": {
        "colab": {
          "base_uri": "https://localhost:8080/",
          "height": 265
        },
        "id": "HZToTQ9w-VS5",
        "outputId": "d622264c-7e83-4691-abae-794a4350d743"
      },
      "source": [
        "plt.scatter(x,y)\n",
        "plt.plot(x,Dyp,color='k',linewidth=4)\n",
        "plt.show()"
      ],
      "execution_count": 309,
      "outputs": [
        {
          "output_type": "display_data",
          "data": {
            "image/png": "[encoded data removed]",
            "text/plain": [
              "<Figure size 432x288 with 1 Axes>"
            ]
          },
          "metadata": {
            "needs_background": "light"
          }
        }
      ]
    },
    {
      "cell_type": "code",
      "metadata": {
        "colab": {
          "base_uri": "https://localhost:8080/"
        },
        "id": "OovbwkBF-sbp",
        "outputId": "a213eb68-db0d-4ebd-91e3-0f198069ab4b"
      },
      "source": [
        "reg2.score(x,y)*100"
      ],
      "execution_count": 310,
      "outputs": [
        {
          "output_type": "execute_result",
          "data": {
            "text/plain": [
              "100.0"
            ]
          },
          "metadata": {},
          "execution_count": 310
        }
      ]
    },
    {
      "cell_type": "code",
      "metadata": {
        "colab": {
          "base_uri": "https://localhost:8080/"
        },
        "id": "hw61hBLt-9yW",
        "outputId": "25992a62-a1aa-4cc5-9bf8-7aeb1f4fd219"
      },
      "source": [
        "y[242]"
      ],
      "execution_count": 312,
      "outputs": [
        {
          "output_type": "execute_result",
          "data": {
            "text/plain": [
              "array([2288.])"
            ]
          },
          "metadata": {},
          "execution_count": 312
        }
      ]
    },
    {
      "cell_type": "code",
      "metadata": {
        "colab": {
          "base_uri": "https://localhost:8080/",
          "height": 162
        },
        "id": "MQXEiEv4Amb5",
        "outputId": "ea26d355-7dfa-4763-d1d3-4d1f3d59853d"
      },
      "source": [
        "Dyp.predict[[244]]"
      ],
      "execution_count": 344,
      "outputs": [
        {
          "output_type": "error",
          "ename": "AttributeError",
          "evalue": "ignored",
          "traceback": [
            "\u001b[0;31m---------------------------------------------------------------------------\u001b[0m",
            "\u001b[0;31mAttributeError\u001b[0m                            Traceback (most recent call last)",
            "\u001b[0;32m<ipython-input-344-393af821965d>\u001b[0m in \u001b[0;36m<module>\u001b[0;34m()\u001b[0m\n\u001b[0;32m----> 1\u001b[0;31m \u001b[0mDyp\u001b[0m\u001b[0;34m.\u001b[0m\u001b[0mpredict\u001b[0m\u001b[0;34m[\u001b[0m\u001b[0;34m[\u001b[0m\u001b[0;36m244\u001b[0m\u001b[0;34m]\u001b[0m\u001b[0;34m]\u001b[0m\u001b[0;34m\u001b[0m\u001b[0;34m\u001b[0m\u001b[0m\n\u001b[0m",
            "\u001b[0;31mAttributeError\u001b[0m: 'numpy.ndarray' object has no attribute 'predict'"
          ]
        }
      ]
    },
    {
      "cell_type": "code",
      "metadata": {
        "colab": {
          "base_uri": "https://localhost:8080/"
        },
        "id": "gLvMcs6U_Khm",
        "outputId": "b9e2b06e-d365-4c20-9f0b-fc3ff9f8f69a"
      },
      "source": [
        "reg2.predict([[256]])"
      ],
      "execution_count": 342,
      "outputs": [
        {
          "output_type": "execute_result",
          "data": {
            "text/plain": [
              "array([2288.])"
            ]
          },
          "metadata": {},
          "execution_count": 342
        }
      ]
    },
    {
      "cell_type": "code",
      "metadata": {
        "colab": {
          "base_uri": "https://localhost:8080/",
          "height": 162
        },
        "id": "3o1cY56wANrE",
        "outputId": "291354ee-2752-41a6-844f-19854cb75bca"
      },
      "source": [
        "y[248]"
      ],
      "execution_count": 315,
      "outputs": [
        {
          "output_type": "error",
          "ename": "IndexError",
          "evalue": "ignored",
          "traceback": [
            "\u001b[0;31m---------------------------------------------------------------------------\u001b[0m",
            "\u001b[0;31mIndexError\u001b[0m                                Traceback (most recent call last)",
            "\u001b[0;32m<ipython-input-315-d2345760e969>\u001b[0m in \u001b[0;36m<module>\u001b[0;34m()\u001b[0m\n\u001b[0;32m----> 1\u001b[0;31m \u001b[0my\u001b[0m\u001b[0;34m[\u001b[0m\u001b[0;36m248\u001b[0m\u001b[0;34m]\u001b[0m\u001b[0;34m\u001b[0m\u001b[0;34m\u001b[0m\u001b[0m\n\u001b[0m",
            "\u001b[0;31mIndexError\u001b[0m: index 248 is out of bounds for axis 0 with size 243"
          ]
        }
      ]
    },
    {
      "cell_type": "code",
      "metadata": {
        "colab": {
          "base_uri": "https://localhost:8080/"
        },
        "id": "gGbny_TgAf06",
        "outputId": "a1d9f87f-3264-4b65-c23f-f3e344df29af"
      },
      "source": [
        "y[121]"
      ],
      "execution_count": 326,
      "outputs": [
        {
          "output_type": "execute_result",
          "data": {
            "text/plain": [
              "array([366455.])"
            ]
          },
          "metadata": {},
          "execution_count": 326
        }
      ]
    },
    {
      "cell_type": "markdown",
      "metadata": {
        "id": "0hIv-u3YVnHA"
      },
      "source": [
        "**Pridication Using Random Forest Method**"
      ]
    },
    {
      "cell_type": "code",
      "metadata": {
        "colab": {
          "base_uri": "https://localhost:8080/"
        },
        "id": "hM8ZseQgAkJH",
        "outputId": "b4f761e4-1185-49c5-c699-ee038d9c4ee9"
      },
      "source": [
        "from sklearn.ensemble import RandomForestClassifier\n",
        "reg3=RandomForestClassifier(n_estimators=300)\n",
        "reg3.fit(x,y)"
      ],
      "execution_count": 346,
      "outputs": [
        {
          "output_type": "stream",
          "name": "stderr",
          "text": [
            "/usr/local/lib/python3.7/dist-packages/ipykernel_launcher.py:3: DataConversionWarning: A column-vector y was passed when a 1d array was expected. Please change the shape of y to (n_samples,), for example using ravel().\n",
            "  This is separate from the ipykernel package so we can avoid doing imports until\n"
          ]
        },
        {
          "output_type": "execute_result",
          "data": {
            "text/plain": [
              "RandomForestClassifier(bootstrap=True, ccp_alpha=0.0, class_weight=None,\n",
              "                       criterion='gini', max_depth=None, max_features='auto',\n",
              "                       max_leaf_nodes=None, max_samples=None,\n",
              "                       min_impurity_decrease=0.0, min_impurity_split=None,\n",
              "                       min_samples_leaf=1, min_samples_split=2,\n",
              "                       min_weight_fraction_leaf=0.0, n_estimators=300,\n",
              "                       n_jobs=None, oob_score=False, random_state=None,\n",
              "                       verbose=0, warm_start=False)"
            ]
          },
          "metadata": {},
          "execution_count": 346
        }
      ]
    },
    {
      "cell_type": "code",
      "metadata": {
        "id": "m6o8Sv0PWMe2",
        "outputId": "e0e830b0-84b6-4134-c801-af58cd4e4b38",
        "colab": {
          "base_uri": "https://localhost:8080/"
        }
      },
      "source": [
        "reg3.score(x,y)*100"
      ],
      "execution_count": 348,
      "outputs": [
        {
          "output_type": "execute_result",
          "data": {
            "text/plain": [
              "100.0"
            ]
          },
          "metadata": {},
          "execution_count": 348
        }
      ]
    },
    {
      "cell_type": "code",
      "metadata": {
        "id": "sdEdd16zWwOC",
        "outputId": "3cbaa235-f711-44cd-de26-45b759deda22",
        "colab": {
          "base_uri": "https://localhost:8080/",
          "height": 265
        }
      },
      "source": [
        "plt.scatter(x,y)\n",
        "plt.plot(x,reg3.predict(x))\n",
        "plt.show()"
      ],
      "execution_count": 349,
      "outputs": [
        {
          "output_type": "display_data",
          "data": {
            "image/png": "[encoded data removed]",
            "text/plain": [
              "<Figure size 432x288 with 1 Axes>"
            ]
          },
          "metadata": {
            "needs_background": "light"
          }
        }
      ]
    },
    {
      "cell_type": "code",
      "metadata": {
        "id": "HeVGbkmBXMTZ"
      },
      "source": [
        ""
      ],
      "execution_count": null,
      "outputs": []
    }
  ]
}
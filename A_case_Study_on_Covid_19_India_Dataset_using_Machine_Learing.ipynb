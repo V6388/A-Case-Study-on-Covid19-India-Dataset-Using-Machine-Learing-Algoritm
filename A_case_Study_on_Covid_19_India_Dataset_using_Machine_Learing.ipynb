{
  "nbformat": 4,
  "nbformat_minor": 0,
  "metadata": {
    "colab": {
      "name": "A case Study on Covid 19  India Dataset using Machine Learing",
      "provenance": [],
      "authorship_tag": "ABX9TyO3nx2a10C4ou/JAwK69u5Q",
      "include_colab_link": true
    },
    "kernelspec": {
      "name": "python3",
      "display_name": "Python 3"
    },
    "language_info": {
      "name": "python"
    }
  },
  "cells": [
    {
      "cell_type": "markdown",
      "metadata": {
        "id": "view-in-github",
        "colab_type": "text"
      },
      "source": [
        "<a href=\"https://colab.research.google.com/github/V6388/A-Case-Study-on-Covid19-India-Dataset-Using-Machine-Learing-Algoritm/blob/main/A_case_Study_on_Covid_19_India_Dataset_using_Machine_Learing.ipynb\" target=\"_parent\"><img src=\"https://colab.research.google.com/assets/colab-badge.svg\" alt=\"Open In Colab\"/></a>"
      ]
    },
    {
      "cell_type": "code",
      "metadata": {
        "id": "xS1qet5DfPWV"
      },
      "source": [
        "import pandas as pd\n",
        "import numpy as np\n",
        "import requests\n",
        "import json"
      ],
      "execution_count": 1,
      "outputs": []
    },
    {
      "cell_type": "code",
      "metadata": {
        "id": "V5uASOzIfyBX"
      },
      "source": [
        "df1 = pd.read_csv(\"raw_data1.csv\")\n",
        "df2 = pd.read_csv(\"https://data.covid19india.org/csv/latest/raw_data2.csv\")\n",
        "df3 = pd.read_csv(\"https://data.covid19india.org/csv/latest/raw_data3.csv\")\n",
        "df4 = pd.read_csv(\"https://data.covid19india.org/csv/latest/raw_data4.csv\")\n",
        "df5 = pd.read_csv(\"https://data.covid19india.org/csv/latest/raw_data5.csv\")\n",
        "df6 = pd.read_csv(\"https://data.covid19india.org/csv/latest/raw_data6.csv\")\n",
        "df7 = pd.read_csv(\"https://data.covid19india.org/csv/latest/raw_data7.csv\")\n",
        "df8 = pd.read_csv(\"https://data.covid19india.org/csv/latest/raw_data8.csv\")\n",
        "df9 = pd.read_csv(\"https://data.covid19india.org/csv/latest/raw_data9.csv\")\n",
        "df10 = pd.read_csv(\"https://data.covid19india.org/csv/latest/raw_data10.csv\")\n",
        "df11= pd.read_csv(\"https://data.covid19india.org/csv/latest/raw_data11.csv\")\n",
        "df12= pd.read_csv(\"https://data.covid19india.org/csv/latest/raw_data12.csv\")\n",
        "df13 = pd.read_csv(\"https://data.covid19india.org/csv/latest/raw_data13.csv\")\n",
        "df14 = pd.read_csv(\"https://data.covid19india.org/csv/latest/raw_data14.csv\")\n",
        "df15= pd.read_csv(\"https://data.covid19india.org/csv/latest/raw_data15.csv\")\n",
        "df16= pd.read_csv(\"https://data.covid19india.org/csv/latest/raw_data16.csv\")\n",
        "df17= pd.read_csv(\"https://data.covid19india.org/csv/latest/raw_data17.csv\")\n",
        "df18= pd.read_csv(\"https://data.covid19india.org/csv/latest/raw_data18.csv\")\n",
        "df19= pd.read_csv(\"https://data.covid19india.org/csv/latest/raw_data19.csv\")\n",
        "df20= pd.read_csv(\"https://data.covid19india.org/csv/latest/raw_data20.csv\")\n",
        "df21 = pd.read_csv(\"https://data.covid19india.org/csv/latest/raw_data21.csv\")\n",
        "df22 = pd.read_csv(\"https://data.covid19india.org/csv/latest/raw_data22.csv\")\n",
        "df23 = pd.read_csv(\"https://data.covid19india.org/csv/latest/raw_data23.csv\")\n",
        "df24 = pd.read_csv(\"https://data.covid19india.org/csv/latest/raw_data24.csv\")\n",
        "df25 = pd.read_csv(\"https://data.covid19india.org/csv/latest/raw_data25.csv\")\n",
        "df26 = pd.read_csv(\"https://data.covid19india.org/csv/latest/raw_data26.csv\")\n",
        "df27 = pd.read_csv(\"https://data.covid19india.org/csv/latest/raw_data27.csv\")\n",
        "df28 = pd.read_csv(\"https://data.covid19india.org/csv/latest/raw_data28.csv\")\n",
        "df29 = pd.read_csv(\"https://data.covid19india.org/csv/latest/raw_data29.csv\")\n",
        "df30 = pd.read_csv(\"https://data.covid19india.org/csv/latest/raw_data30.csv\")\n",
        "df31= pd.read_csv(\"https://data.covid19india.org/csv/latest/raw_data31.csv\")\n",
        "df32= pd.read_csv(\"https://data.covid19india.org/csv/latest/raw_data32.csv\")\n",
        "df33= pd.read_csv(\"https://data.covid19india.org/csv/latest/raw_data33.csv\")"
      ],
      "execution_count": 2,
      "outputs": []
    },
    {
      "cell_type": "code",
      "metadata": {
        "colab": {
          "base_uri": "https://localhost:8080/"
        },
        "id": "bE8bjGbegDwK",
        "outputId": "d08c47ee-4797-4f71-c295-7a10d3adca55"
      },
      "source": [
        "df3.info()"
      ],
      "execution_count": 3,
      "outputs": [
        {
          "output_type": "stream",
          "name": "stdout",
          "text": [
            "<class 'pandas.core.frame.DataFrame'>\n",
            "RangeIndex: 10020 entries, 0 to 10019\n",
            "Data columns (total 20 columns):\n",
            " #   Column                                     Non-Null Count  Dtype  \n",
            "---  ------                                     --------------  -----  \n",
            " 0   Entry_ID                                   10020 non-null  int64  \n",
            " 1   State Patient Number                       5138 non-null   object \n",
            " 2   Date Announced                             10020 non-null  object \n",
            " 3   Age Bracket                                5183 non-null   float64\n",
            " 4   Gender                                     4654 non-null   object \n",
            " 5   Detected City                              421 non-null    object \n",
            " 6   Detected District                          9934 non-null   object \n",
            " 7   Detected State                             10015 non-null  object \n",
            " 8   State code                                 10015 non-null  object \n",
            " 9   Num Cases                                  10019 non-null  float64\n",
            " 10  Current Status                             10020 non-null  object \n",
            " 11  Contracted from which Patient (Suspected)  241 non-null    object \n",
            " 12  Notes                                      1931 non-null   object \n",
            " 13  Source_1                                   9955 non-null   object \n",
            " 14  Source_2                                   80 non-null     object \n",
            " 15  Source_3                                   31 non-null     object \n",
            " 16  Nationality                                0 non-null      float64\n",
            " 17  Type of transmission                       0 non-null      float64\n",
            " 18  Status Change Date                         0 non-null      float64\n",
            " 19  Patient Number                             10008 non-null  float64\n",
            "dtypes: float64(6), int64(1), object(13)\n",
            "memory usage: 1.5+ MB\n"
          ]
        }
      ]
    },
    {
      "cell_type": "code",
      "metadata": {
        "id": "65uuYaeqhEYS"
      },
      "source": [
        "df=df1.append([df2,df3,df4,df5,df6,df7,df8,df9,df10,df11,df12,df13,df14,df15,df16,df17,df18,df19,df20,df21,df22,df23,df24,df25,df26,df27,df28,df29,df30,df31,df32,df33])"
      ],
      "execution_count": 4,
      "outputs": []
    },
    {
      "cell_type": "code",
      "metadata": {
        "colab": {
          "base_uri": "https://localhost:8080/",
          "height": 722
        },
        "id": "zyflc3Kulqh5",
        "outputId": "aead0868-e6f2-44c0-e1cf-1f4be52a6164"
      },
      "source": [
        "df"
      ],
      "execution_count": 5,
      "outputs": [
        {
          "output_type": "execute_result",
          "data": {
            "text/html": [
              "<div>\n",
              "<style scoped>\n",
              "    .dataframe tbody tr th:only-of-type {\n",
              "        vertical-align: middle;\n",
              "    }\n",
              "\n",
              "    .dataframe tbody tr th {\n",
              "        vertical-align: top;\n",
              "    }\n",
              "\n",
              "    .dataframe thead th {\n",
              "        text-align: right;\n",
              "    }\n",
              "</style>\n",
              "<table border=\"1\" class=\"dataframe\">\n",
              "  <thead>\n",
              "    <tr style=\"text-align: right;\">\n",
              "      <th></th>\n",
              "      <th>Patient Number</th>\n",
              "      <th>State Patient Number</th>\n",
              "      <th>Date Announced</th>\n",
              "      <th>Estimated Onset Date</th>\n",
              "      <th>Age Bracket</th>\n",
              "      <th>Gender</th>\n",
              "      <th>Detected City</th>\n",
              "      <th>Detected District</th>\n",
              "      <th>Detected State</th>\n",
              "      <th>State code</th>\n",
              "      <th>Current Status</th>\n",
              "      <th>Notes</th>\n",
              "      <th>Contracted from which Patient (Suspected)</th>\n",
              "      <th>Nationality</th>\n",
              "      <th>Type of transmission</th>\n",
              "      <th>Status Change Date</th>\n",
              "      <th>Source_1</th>\n",
              "      <th>Source_2</th>\n",
              "      <th>Source_3</th>\n",
              "      <th>Backup Notes</th>\n",
              "      <th>Num Cases</th>\n",
              "      <th>Entry_ID</th>\n",
              "      <th>Unnamed: 5</th>\n",
              "    </tr>\n",
              "  </thead>\n",
              "  <tbody>\n",
              "    <tr>\n",
              "      <th>0</th>\n",
              "      <td>1</td>\n",
              "      <td>KL-TS-P1</td>\n",
              "      <td>30/01/2020</td>\n",
              "      <td>NaN</td>\n",
              "      <td>20</td>\n",
              "      <td>F</td>\n",
              "      <td>Thrissur</td>\n",
              "      <td>Thrissur</td>\n",
              "      <td>Kerala</td>\n",
              "      <td>KL</td>\n",
              "      <td>Recovered</td>\n",
              "      <td>Travelled from Wuhan</td>\n",
              "      <td>NaN</td>\n",
              "      <td>India</td>\n",
              "      <td>Imported</td>\n",
              "      <td>14/02/2020</td>\n",
              "      <td>https://twitter.com/vijayanpinarayi/status/122...</td>\n",
              "      <td>https://weather.com/en-IN/india/news/news/2020...</td>\n",
              "      <td>NaN</td>\n",
              "      <td>Student from Wuhan</td>\n",
              "      <td>1.0</td>\n",
              "      <td>NaN</td>\n",
              "      <td>NaN</td>\n",
              "    </tr>\n",
              "    <tr>\n",
              "      <th>1</th>\n",
              "      <td>2</td>\n",
              "      <td>KL-AL-P1</td>\n",
              "      <td>02/02/2020</td>\n",
              "      <td>NaN</td>\n",
              "      <td>NaN</td>\n",
              "      <td>NaN</td>\n",
              "      <td>Alappuzha</td>\n",
              "      <td>Alappuzha</td>\n",
              "      <td>Kerala</td>\n",
              "      <td>KL</td>\n",
              "      <td>Recovered</td>\n",
              "      <td>Travelled from Wuhan</td>\n",
              "      <td>NaN</td>\n",
              "      <td>India</td>\n",
              "      <td>Imported</td>\n",
              "      <td>14/02/2020</td>\n",
              "      <td>https://www.indiatoday.in/india/story/kerala-r...</td>\n",
              "      <td>https://weather.com/en-IN/india/news/news/2020...</td>\n",
              "      <td>NaN</td>\n",
              "      <td>Student from Wuhan</td>\n",
              "      <td>1.0</td>\n",
              "      <td>NaN</td>\n",
              "      <td>NaN</td>\n",
              "    </tr>\n",
              "    <tr>\n",
              "      <th>2</th>\n",
              "      <td>3</td>\n",
              "      <td>KL-KS-P1</td>\n",
              "      <td>03/02/2020</td>\n",
              "      <td>NaN</td>\n",
              "      <td>NaN</td>\n",
              "      <td>NaN</td>\n",
              "      <td>Kasaragod</td>\n",
              "      <td>Kasaragod</td>\n",
              "      <td>Kerala</td>\n",
              "      <td>KL</td>\n",
              "      <td>Recovered</td>\n",
              "      <td>Travelled from Wuhan</td>\n",
              "      <td>NaN</td>\n",
              "      <td>India</td>\n",
              "      <td>Imported</td>\n",
              "      <td>14/02/2020</td>\n",
              "      <td>https://www.indiatoday.in/india/story/kerala-n...</td>\n",
              "      <td>https://twitter.com/ANI/status/122422148580539...</td>\n",
              "      <td>https://weather.com/en-IN/india/news/news/2020...</td>\n",
              "      <td>Student from Wuhan</td>\n",
              "      <td>1.0</td>\n",
              "      <td>NaN</td>\n",
              "      <td>NaN</td>\n",
              "    </tr>\n",
              "    <tr>\n",
              "      <th>3</th>\n",
              "      <td>4</td>\n",
              "      <td>DL-P1</td>\n",
              "      <td>02/03/2020</td>\n",
              "      <td>NaN</td>\n",
              "      <td>45</td>\n",
              "      <td>M</td>\n",
              "      <td>East Delhi (Mayur Vihar)</td>\n",
              "      <td>East Delhi</td>\n",
              "      <td>Delhi</td>\n",
              "      <td>DL</td>\n",
              "      <td>Recovered</td>\n",
              "      <td>Travelled from Austria, Italy</td>\n",
              "      <td>NaN</td>\n",
              "      <td>India</td>\n",
              "      <td>Imported</td>\n",
              "      <td>15/03/2020</td>\n",
              "      <td>https://www.indiatoday.in/india/story/not-a-ja...</td>\n",
              "      <td>https://economictimes.indiatimes.com/news/poli...</td>\n",
              "      <td>NaN</td>\n",
              "      <td>Travel history to Italy and Austria</td>\n",
              "      <td>1.0</td>\n",
              "      <td>NaN</td>\n",
              "      <td>NaN</td>\n",
              "    </tr>\n",
              "    <tr>\n",
              "      <th>4</th>\n",
              "      <td>5</td>\n",
              "      <td>TS-P1</td>\n",
              "      <td>02/03/2020</td>\n",
              "      <td>NaN</td>\n",
              "      <td>24</td>\n",
              "      <td>M</td>\n",
              "      <td>Hyderabad</td>\n",
              "      <td>Hyderabad</td>\n",
              "      <td>Telangana</td>\n",
              "      <td>TG</td>\n",
              "      <td>Recovered</td>\n",
              "      <td>Travelled from Dubai to Bangalore on 20th Feb,...</td>\n",
              "      <td>NaN</td>\n",
              "      <td>India</td>\n",
              "      <td>Imported</td>\n",
              "      <td>02/03/2020</td>\n",
              "      <td>https://www.deccanherald.com/national/south/qu...</td>\n",
              "      <td>https://www.indiatoday.in/india/story/coronavi...</td>\n",
              "      <td>https://www.thehindu.com/news/national/coronav...</td>\n",
              "      <td>Travel history to Dubai, Singapore contact</td>\n",
              "      <td>1.0</td>\n",
              "      <td>NaN</td>\n",
              "      <td>NaN</td>\n",
              "    </tr>\n",
              "    <tr>\n",
              "      <th>...</th>\n",
              "      <td>...</td>\n",
              "      <td>...</td>\n",
              "      <td>...</td>\n",
              "      <td>...</td>\n",
              "      <td>...</td>\n",
              "      <td>...</td>\n",
              "      <td>...</td>\n",
              "      <td>...</td>\n",
              "      <td>...</td>\n",
              "      <td>...</td>\n",
              "      <td>...</td>\n",
              "      <td>...</td>\n",
              "      <td>...</td>\n",
              "      <td>...</td>\n",
              "      <td>...</td>\n",
              "      <td>...</td>\n",
              "      <td>...</td>\n",
              "      <td>...</td>\n",
              "      <td>...</td>\n",
              "      <td>...</td>\n",
              "      <td>...</td>\n",
              "      <td>...</td>\n",
              "      <td>...</td>\n",
              "    </tr>\n",
              "    <tr>\n",
              "      <th>21093</th>\n",
              "      <td>NaN</td>\n",
              "      <td>NaN</td>\n",
              "      <td>07/09/2021</td>\n",
              "      <td>NaN</td>\n",
              "      <td>NaN</td>\n",
              "      <td>NaN</td>\n",
              "      <td>NaN</td>\n",
              "      <td>NaN</td>\n",
              "      <td>NaN</td>\n",
              "      <td>NaN</td>\n",
              "      <td>NaN</td>\n",
              "      <td>NaN</td>\n",
              "      <td>NaN</td>\n",
              "      <td>NaN</td>\n",
              "      <td>NaN</td>\n",
              "      <td>NaN</td>\n",
              "      <td>NaN</td>\n",
              "      <td>NaN</td>\n",
              "      <td>NaN</td>\n",
              "      <td>NaN</td>\n",
              "      <td>NaN</td>\n",
              "      <td>772181.0</td>\n",
              "      <td>NaN</td>\n",
              "    </tr>\n",
              "    <tr>\n",
              "      <th>21094</th>\n",
              "      <td>NaN</td>\n",
              "      <td>NaN</td>\n",
              "      <td>07/09/2021</td>\n",
              "      <td>NaN</td>\n",
              "      <td>NaN</td>\n",
              "      <td>NaN</td>\n",
              "      <td>NaN</td>\n",
              "      <td>NaN</td>\n",
              "      <td>NaN</td>\n",
              "      <td>NaN</td>\n",
              "      <td>NaN</td>\n",
              "      <td>NaN</td>\n",
              "      <td>NaN</td>\n",
              "      <td>NaN</td>\n",
              "      <td>NaN</td>\n",
              "      <td>NaN</td>\n",
              "      <td>NaN</td>\n",
              "      <td>NaN</td>\n",
              "      <td>NaN</td>\n",
              "      <td>NaN</td>\n",
              "      <td>NaN</td>\n",
              "      <td>772182.0</td>\n",
              "      <td>NaN</td>\n",
              "    </tr>\n",
              "    <tr>\n",
              "      <th>21095</th>\n",
              "      <td>NaN</td>\n",
              "      <td>NaN</td>\n",
              "      <td>07/09/2021</td>\n",
              "      <td>NaN</td>\n",
              "      <td>NaN</td>\n",
              "      <td>NaN</td>\n",
              "      <td>NaN</td>\n",
              "      <td>NaN</td>\n",
              "      <td>NaN</td>\n",
              "      <td>NaN</td>\n",
              "      <td>NaN</td>\n",
              "      <td>NaN</td>\n",
              "      <td>NaN</td>\n",
              "      <td>NaN</td>\n",
              "      <td>NaN</td>\n",
              "      <td>NaN</td>\n",
              "      <td>NaN</td>\n",
              "      <td>NaN</td>\n",
              "      <td>NaN</td>\n",
              "      <td>NaN</td>\n",
              "      <td>NaN</td>\n",
              "      <td>772183.0</td>\n",
              "      <td>NaN</td>\n",
              "    </tr>\n",
              "    <tr>\n",
              "      <th>21096</th>\n",
              "      <td>NaN</td>\n",
              "      <td>NaN</td>\n",
              "      <td>07/09/2021</td>\n",
              "      <td>NaN</td>\n",
              "      <td>NaN</td>\n",
              "      <td>NaN</td>\n",
              "      <td>NaN</td>\n",
              "      <td>NaN</td>\n",
              "      <td>NaN</td>\n",
              "      <td>NaN</td>\n",
              "      <td>NaN</td>\n",
              "      <td>NaN</td>\n",
              "      <td>NaN</td>\n",
              "      <td>NaN</td>\n",
              "      <td>NaN</td>\n",
              "      <td>NaN</td>\n",
              "      <td>NaN</td>\n",
              "      <td>NaN</td>\n",
              "      <td>NaN</td>\n",
              "      <td>NaN</td>\n",
              "      <td>NaN</td>\n",
              "      <td>772184.0</td>\n",
              "      <td>NaN</td>\n",
              "    </tr>\n",
              "    <tr>\n",
              "      <th>21097</th>\n",
              "      <td>NaN</td>\n",
              "      <td>NaN</td>\n",
              "      <td>07/09/2021</td>\n",
              "      <td>NaN</td>\n",
              "      <td>NaN</td>\n",
              "      <td>NaN</td>\n",
              "      <td>NaN</td>\n",
              "      <td>NaN</td>\n",
              "      <td>NaN</td>\n",
              "      <td>NaN</td>\n",
              "      <td>NaN</td>\n",
              "      <td>NaN</td>\n",
              "      <td>NaN</td>\n",
              "      <td>NaN</td>\n",
              "      <td>NaN</td>\n",
              "      <td>NaN</td>\n",
              "      <td>NaN</td>\n",
              "      <td>NaN</td>\n",
              "      <td>NaN</td>\n",
              "      <td>NaN</td>\n",
              "      <td>NaN</td>\n",
              "      <td>772185.0</td>\n",
              "      <td>NaN</td>\n",
              "    </tr>\n",
              "  </tbody>\n",
              "</table>\n",
              "<p>800338 rows × 23 columns</p>\n",
              "</div>"
            ],
            "text/plain": [
              "      Patient Number State Patient Number  ...  Entry_ID  Unnamed: 5\n",
              "0                  1             KL-TS-P1  ...       NaN         NaN\n",
              "1                  2             KL-AL-P1  ...       NaN         NaN\n",
              "2                  3             KL-KS-P1  ...       NaN         NaN\n",
              "3                  4                DL-P1  ...       NaN         NaN\n",
              "4                  5                TS-P1  ...       NaN         NaN\n",
              "...              ...                  ...  ...       ...         ...\n",
              "21093            NaN                  NaN  ...  772181.0         NaN\n",
              "21094            NaN                  NaN  ...  772182.0         NaN\n",
              "21095            NaN                  NaN  ...  772183.0         NaN\n",
              "21096            NaN                  NaN  ...  772184.0         NaN\n",
              "21097            NaN                  NaN  ...  772185.0         NaN\n",
              "\n",
              "[800338 rows x 23 columns]"
            ]
          },
          "metadata": {},
          "execution_count": 5
        }
      ]
    },
    {
      "cell_type": "code",
      "metadata": {
        "colab": {
          "base_uri": "https://localhost:8080/"
        },
        "id": "fZEpBIINluyU",
        "outputId": "c8a290a4-a74e-4bbc-bc96-74160f8a9913"
      },
      "source": [
        "df.columns"
      ],
      "execution_count": 6,
      "outputs": [
        {
          "output_type": "execute_result",
          "data": {
            "text/plain": [
              "Index(['Patient Number', 'State Patient Number', 'Date Announced',\n",
              "       'Estimated Onset Date', 'Age Bracket', 'Gender', 'Detected City',\n",
              "       'Detected District', 'Detected State', 'State code', 'Current Status',\n",
              "       'Notes', 'Contracted from which Patient (Suspected)', 'Nationality',\n",
              "       'Type of transmission', 'Status Change Date', 'Source_1', 'Source_2',\n",
              "       'Source_3', 'Backup Notes', 'Num Cases', 'Entry_ID', 'Unnamed: 5'],\n",
              "      dtype='object')"
            ]
          },
          "metadata": {},
          "execution_count": 6
        }
      ]
    },
    {
      "cell_type": "code",
      "metadata": {
        "id": "5kiYwxVyl_rl"
      },
      "source": [
        "df1=df.loc[:,['Num Cases','Date Announced','Age Bracket', 'Gender', 'Detected City',\n",
        "       'Detected District', 'Detected State','Current Status']]"
      ],
      "execution_count": 7,
      "outputs": []
    },
    {
      "cell_type": "code",
      "metadata": {
        "id": "dtt8PPFZmuni"
      },
      "source": [
        "df.to_csv('Covid19India Dataset till 6 setember2021')"
      ],
      "execution_count": 8,
      "outputs": []
    },
    {
      "cell_type": "code",
      "metadata": {
        "colab": {
          "base_uri": "https://localhost:8080/",
          "height": 417
        },
        "id": "ZOrFCtdOnz2l",
        "outputId": "00bb3237-ddac-4733-aaab-098f9935907f"
      },
      "source": [
        "Date = df['Date Announced'].str.split('/',expand=True)\n",
        "Date.columns = ['Day','Month','Year']\n",
        "Date"
      ],
      "execution_count": 9,
      "outputs": [
        {
          "output_type": "execute_result",
          "data": {
            "text/html": [
              "<div>\n",
              "<style scoped>\n",
              "    .dataframe tbody tr th:only-of-type {\n",
              "        vertical-align: middle;\n",
              "    }\n",
              "\n",
              "    .dataframe tbody tr th {\n",
              "        vertical-align: top;\n",
              "    }\n",
              "\n",
              "    .dataframe thead th {\n",
              "        text-align: right;\n",
              "    }\n",
              "</style>\n",
              "<table border=\"1\" class=\"dataframe\">\n",
              "  <thead>\n",
              "    <tr style=\"text-align: right;\">\n",
              "      <th></th>\n",
              "      <th>Day</th>\n",
              "      <th>Month</th>\n",
              "      <th>Year</th>\n",
              "    </tr>\n",
              "  </thead>\n",
              "  <tbody>\n",
              "    <tr>\n",
              "      <th>0</th>\n",
              "      <td>30</td>\n",
              "      <td>01</td>\n",
              "      <td>2020</td>\n",
              "    </tr>\n",
              "    <tr>\n",
              "      <th>1</th>\n",
              "      <td>02</td>\n",
              "      <td>02</td>\n",
              "      <td>2020</td>\n",
              "    </tr>\n",
              "    <tr>\n",
              "      <th>2</th>\n",
              "      <td>03</td>\n",
              "      <td>02</td>\n",
              "      <td>2020</td>\n",
              "    </tr>\n",
              "    <tr>\n",
              "      <th>3</th>\n",
              "      <td>02</td>\n",
              "      <td>03</td>\n",
              "      <td>2020</td>\n",
              "    </tr>\n",
              "    <tr>\n",
              "      <th>4</th>\n",
              "      <td>02</td>\n",
              "      <td>03</td>\n",
              "      <td>2020</td>\n",
              "    </tr>\n",
              "    <tr>\n",
              "      <th>...</th>\n",
              "      <td>...</td>\n",
              "      <td>...</td>\n",
              "      <td>...</td>\n",
              "    </tr>\n",
              "    <tr>\n",
              "      <th>21093</th>\n",
              "      <td>07</td>\n",
              "      <td>09</td>\n",
              "      <td>2021</td>\n",
              "    </tr>\n",
              "    <tr>\n",
              "      <th>21094</th>\n",
              "      <td>07</td>\n",
              "      <td>09</td>\n",
              "      <td>2021</td>\n",
              "    </tr>\n",
              "    <tr>\n",
              "      <th>21095</th>\n",
              "      <td>07</td>\n",
              "      <td>09</td>\n",
              "      <td>2021</td>\n",
              "    </tr>\n",
              "    <tr>\n",
              "      <th>21096</th>\n",
              "      <td>07</td>\n",
              "      <td>09</td>\n",
              "      <td>2021</td>\n",
              "    </tr>\n",
              "    <tr>\n",
              "      <th>21097</th>\n",
              "      <td>07</td>\n",
              "      <td>09</td>\n",
              "      <td>2021</td>\n",
              "    </tr>\n",
              "  </tbody>\n",
              "</table>\n",
              "<p>800338 rows × 3 columns</p>\n",
              "</div>"
            ],
            "text/plain": [
              "      Day Month  Year\n",
              "0      30    01  2020\n",
              "1      02    02  2020\n",
              "2      03    02  2020\n",
              "3      02    03  2020\n",
              "4      02    03  2020\n",
              "...    ..   ...   ...\n",
              "21093  07    09  2021\n",
              "21094  07    09  2021\n",
              "21095  07    09  2021\n",
              "21096  07    09  2021\n",
              "21097  07    09  2021\n",
              "\n",
              "[800338 rows x 3 columns]"
            ]
          },
          "metadata": {},
          "execution_count": 9
        }
      ]
    },
    {
      "cell_type": "code",
      "metadata": {
        "colab": {
          "base_uri": "https://localhost:8080/",
          "height": 487
        },
        "id": "ErMhTQXKowxw",
        "outputId": "5495e79f-f7f4-449a-ea76-514fab53a847"
      },
      "source": [
        "df=pd.concat([df1,Date],axis =1)\n",
        "df"
      ],
      "execution_count": 10,
      "outputs": [
        {
          "output_type": "execute_result",
          "data": {
            "text/html": [
              "<div>\n",
              "<style scoped>\n",
              "    .dataframe tbody tr th:only-of-type {\n",
              "        vertical-align: middle;\n",
              "    }\n",
              "\n",
              "    .dataframe tbody tr th {\n",
              "        vertical-align: top;\n",
              "    }\n",
              "\n",
              "    .dataframe thead th {\n",
              "        text-align: right;\n",
              "    }\n",
              "</style>\n",
              "<table border=\"1\" class=\"dataframe\">\n",
              "  <thead>\n",
              "    <tr style=\"text-align: right;\">\n",
              "      <th></th>\n",
              "      <th>Num Cases</th>\n",
              "      <th>Date Announced</th>\n",
              "      <th>Age Bracket</th>\n",
              "      <th>Gender</th>\n",
              "      <th>Detected City</th>\n",
              "      <th>Detected District</th>\n",
              "      <th>Detected State</th>\n",
              "      <th>Current Status</th>\n",
              "      <th>Day</th>\n",
              "      <th>Month</th>\n",
              "      <th>Year</th>\n",
              "    </tr>\n",
              "  </thead>\n",
              "  <tbody>\n",
              "    <tr>\n",
              "      <th>0</th>\n",
              "      <td>1.0</td>\n",
              "      <td>30/01/2020</td>\n",
              "      <td>20</td>\n",
              "      <td>F</td>\n",
              "      <td>Thrissur</td>\n",
              "      <td>Thrissur</td>\n",
              "      <td>Kerala</td>\n",
              "      <td>Recovered</td>\n",
              "      <td>30</td>\n",
              "      <td>01</td>\n",
              "      <td>2020</td>\n",
              "    </tr>\n",
              "    <tr>\n",
              "      <th>1</th>\n",
              "      <td>1.0</td>\n",
              "      <td>02/02/2020</td>\n",
              "      <td>NaN</td>\n",
              "      <td>NaN</td>\n",
              "      <td>Alappuzha</td>\n",
              "      <td>Alappuzha</td>\n",
              "      <td>Kerala</td>\n",
              "      <td>Recovered</td>\n",
              "      <td>02</td>\n",
              "      <td>02</td>\n",
              "      <td>2020</td>\n",
              "    </tr>\n",
              "    <tr>\n",
              "      <th>2</th>\n",
              "      <td>1.0</td>\n",
              "      <td>03/02/2020</td>\n",
              "      <td>NaN</td>\n",
              "      <td>NaN</td>\n",
              "      <td>Kasaragod</td>\n",
              "      <td>Kasaragod</td>\n",
              "      <td>Kerala</td>\n",
              "      <td>Recovered</td>\n",
              "      <td>03</td>\n",
              "      <td>02</td>\n",
              "      <td>2020</td>\n",
              "    </tr>\n",
              "    <tr>\n",
              "      <th>3</th>\n",
              "      <td>1.0</td>\n",
              "      <td>02/03/2020</td>\n",
              "      <td>45</td>\n",
              "      <td>M</td>\n",
              "      <td>East Delhi (Mayur Vihar)</td>\n",
              "      <td>East Delhi</td>\n",
              "      <td>Delhi</td>\n",
              "      <td>Recovered</td>\n",
              "      <td>02</td>\n",
              "      <td>03</td>\n",
              "      <td>2020</td>\n",
              "    </tr>\n",
              "    <tr>\n",
              "      <th>4</th>\n",
              "      <td>1.0</td>\n",
              "      <td>02/03/2020</td>\n",
              "      <td>24</td>\n",
              "      <td>M</td>\n",
              "      <td>Hyderabad</td>\n",
              "      <td>Hyderabad</td>\n",
              "      <td>Telangana</td>\n",
              "      <td>Recovered</td>\n",
              "      <td>02</td>\n",
              "      <td>03</td>\n",
              "      <td>2020</td>\n",
              "    </tr>\n",
              "    <tr>\n",
              "      <th>...</th>\n",
              "      <td>...</td>\n",
              "      <td>...</td>\n",
              "      <td>...</td>\n",
              "      <td>...</td>\n",
              "      <td>...</td>\n",
              "      <td>...</td>\n",
              "      <td>...</td>\n",
              "      <td>...</td>\n",
              "      <td>...</td>\n",
              "      <td>...</td>\n",
              "      <td>...</td>\n",
              "    </tr>\n",
              "    <tr>\n",
              "      <th>21093</th>\n",
              "      <td>NaN</td>\n",
              "      <td>07/09/2021</td>\n",
              "      <td>NaN</td>\n",
              "      <td>NaN</td>\n",
              "      <td>NaN</td>\n",
              "      <td>NaN</td>\n",
              "      <td>NaN</td>\n",
              "      <td>NaN</td>\n",
              "      <td>07</td>\n",
              "      <td>09</td>\n",
              "      <td>2021</td>\n",
              "    </tr>\n",
              "    <tr>\n",
              "      <th>21094</th>\n",
              "      <td>NaN</td>\n",
              "      <td>07/09/2021</td>\n",
              "      <td>NaN</td>\n",
              "      <td>NaN</td>\n",
              "      <td>NaN</td>\n",
              "      <td>NaN</td>\n",
              "      <td>NaN</td>\n",
              "      <td>NaN</td>\n",
              "      <td>07</td>\n",
              "      <td>09</td>\n",
              "      <td>2021</td>\n",
              "    </tr>\n",
              "    <tr>\n",
              "      <th>21095</th>\n",
              "      <td>NaN</td>\n",
              "      <td>07/09/2021</td>\n",
              "      <td>NaN</td>\n",
              "      <td>NaN</td>\n",
              "      <td>NaN</td>\n",
              "      <td>NaN</td>\n",
              "      <td>NaN</td>\n",
              "      <td>NaN</td>\n",
              "      <td>07</td>\n",
              "      <td>09</td>\n",
              "      <td>2021</td>\n",
              "    </tr>\n",
              "    <tr>\n",
              "      <th>21096</th>\n",
              "      <td>NaN</td>\n",
              "      <td>07/09/2021</td>\n",
              "      <td>NaN</td>\n",
              "      <td>NaN</td>\n",
              "      <td>NaN</td>\n",
              "      <td>NaN</td>\n",
              "      <td>NaN</td>\n",
              "      <td>NaN</td>\n",
              "      <td>07</td>\n",
              "      <td>09</td>\n",
              "      <td>2021</td>\n",
              "    </tr>\n",
              "    <tr>\n",
              "      <th>21097</th>\n",
              "      <td>NaN</td>\n",
              "      <td>07/09/2021</td>\n",
              "      <td>NaN</td>\n",
              "      <td>NaN</td>\n",
              "      <td>NaN</td>\n",
              "      <td>NaN</td>\n",
              "      <td>NaN</td>\n",
              "      <td>NaN</td>\n",
              "      <td>07</td>\n",
              "      <td>09</td>\n",
              "      <td>2021</td>\n",
              "    </tr>\n",
              "  </tbody>\n",
              "</table>\n",
              "<p>800338 rows × 11 columns</p>\n",
              "</div>"
            ],
            "text/plain": [
              "       Num Cases Date Announced Age Bracket  ... Day Month  Year\n",
              "0            1.0     30/01/2020          20  ...  30    01  2020\n",
              "1            1.0     02/02/2020         NaN  ...  02    02  2020\n",
              "2            1.0     03/02/2020         NaN  ...  03    02  2020\n",
              "3            1.0     02/03/2020          45  ...  02    03  2020\n",
              "4            1.0     02/03/2020          24  ...  02    03  2020\n",
              "...          ...            ...         ...  ...  ..   ...   ...\n",
              "21093        NaN     07/09/2021         NaN  ...  07    09  2021\n",
              "21094        NaN     07/09/2021         NaN  ...  07    09  2021\n",
              "21095        NaN     07/09/2021         NaN  ...  07    09  2021\n",
              "21096        NaN     07/09/2021         NaN  ...  07    09  2021\n",
              "21097        NaN     07/09/2021         NaN  ...  07    09  2021\n",
              "\n",
              "[800338 rows x 11 columns]"
            ]
          },
          "metadata": {},
          "execution_count": 10
        }
      ]
    },
    {
      "cell_type": "code",
      "metadata": {
        "id": "emJUvyykpG-X"
      },
      "source": [
        "df.to_csv('covid19India.csv')"
      ],
      "execution_count": 11,
      "outputs": []
    },
    {
      "cell_type": "code",
      "metadata": {
        "colab": {
          "base_uri": "https://localhost:8080/",
          "height": 521
        },
        "id": "nuOUfU5EppMy",
        "outputId": "0cc3df51-3bc6-45c1-8e0e-07441e6c594c"
      },
      "source": [
        "df=pd.read_csv('covid19India.csv')\n",
        "df"
      ],
      "execution_count": 12,
      "outputs": [
        {
          "output_type": "stream",
          "name": "stderr",
          "text": [
            "/usr/local/lib/python3.7/dist-packages/IPython/core/interactiveshell.py:2718: DtypeWarning: Columns (3,5) have mixed types.Specify dtype option on import or set low_memory=False.\n",
            "  interactivity=interactivity, compiler=compiler, result=result)\n"
          ]
        },
        {
          "output_type": "execute_result",
          "data": {
            "text/html": [
              "<div>\n",
              "<style scoped>\n",
              "    .dataframe tbody tr th:only-of-type {\n",
              "        vertical-align: middle;\n",
              "    }\n",
              "\n",
              "    .dataframe tbody tr th {\n",
              "        vertical-align: top;\n",
              "    }\n",
              "\n",
              "    .dataframe thead th {\n",
              "        text-align: right;\n",
              "    }\n",
              "</style>\n",
              "<table border=\"1\" class=\"dataframe\">\n",
              "  <thead>\n",
              "    <tr style=\"text-align: right;\">\n",
              "      <th></th>\n",
              "      <th>Unnamed: 0</th>\n",
              "      <th>Num Cases</th>\n",
              "      <th>Date Announced</th>\n",
              "      <th>Age Bracket</th>\n",
              "      <th>Gender</th>\n",
              "      <th>Detected City</th>\n",
              "      <th>Detected District</th>\n",
              "      <th>Detected State</th>\n",
              "      <th>Current Status</th>\n",
              "      <th>Day</th>\n",
              "      <th>Month</th>\n",
              "      <th>Year</th>\n",
              "    </tr>\n",
              "  </thead>\n",
              "  <tbody>\n",
              "    <tr>\n",
              "      <th>0</th>\n",
              "      <td>0</td>\n",
              "      <td>1.0</td>\n",
              "      <td>30/01/2020</td>\n",
              "      <td>20</td>\n",
              "      <td>F</td>\n",
              "      <td>Thrissur</td>\n",
              "      <td>Thrissur</td>\n",
              "      <td>Kerala</td>\n",
              "      <td>Recovered</td>\n",
              "      <td>30.0</td>\n",
              "      <td>1.0</td>\n",
              "      <td>2020.0</td>\n",
              "    </tr>\n",
              "    <tr>\n",
              "      <th>1</th>\n",
              "      <td>1</td>\n",
              "      <td>1.0</td>\n",
              "      <td>02/02/2020</td>\n",
              "      <td>NaN</td>\n",
              "      <td>NaN</td>\n",
              "      <td>Alappuzha</td>\n",
              "      <td>Alappuzha</td>\n",
              "      <td>Kerala</td>\n",
              "      <td>Recovered</td>\n",
              "      <td>2.0</td>\n",
              "      <td>2.0</td>\n",
              "      <td>2020.0</td>\n",
              "    </tr>\n",
              "    <tr>\n",
              "      <th>2</th>\n",
              "      <td>2</td>\n",
              "      <td>1.0</td>\n",
              "      <td>03/02/2020</td>\n",
              "      <td>NaN</td>\n",
              "      <td>NaN</td>\n",
              "      <td>Kasaragod</td>\n",
              "      <td>Kasaragod</td>\n",
              "      <td>Kerala</td>\n",
              "      <td>Recovered</td>\n",
              "      <td>3.0</td>\n",
              "      <td>2.0</td>\n",
              "      <td>2020.0</td>\n",
              "    </tr>\n",
              "    <tr>\n",
              "      <th>3</th>\n",
              "      <td>3</td>\n",
              "      <td>1.0</td>\n",
              "      <td>02/03/2020</td>\n",
              "      <td>45</td>\n",
              "      <td>M</td>\n",
              "      <td>East Delhi (Mayur Vihar)</td>\n",
              "      <td>East Delhi</td>\n",
              "      <td>Delhi</td>\n",
              "      <td>Recovered</td>\n",
              "      <td>2.0</td>\n",
              "      <td>3.0</td>\n",
              "      <td>2020.0</td>\n",
              "    </tr>\n",
              "    <tr>\n",
              "      <th>4</th>\n",
              "      <td>4</td>\n",
              "      <td>1.0</td>\n",
              "      <td>02/03/2020</td>\n",
              "      <td>24</td>\n",
              "      <td>M</td>\n",
              "      <td>Hyderabad</td>\n",
              "      <td>Hyderabad</td>\n",
              "      <td>Telangana</td>\n",
              "      <td>Recovered</td>\n",
              "      <td>2.0</td>\n",
              "      <td>3.0</td>\n",
              "      <td>2020.0</td>\n",
              "    </tr>\n",
              "    <tr>\n",
              "      <th>...</th>\n",
              "      <td>...</td>\n",
              "      <td>...</td>\n",
              "      <td>...</td>\n",
              "      <td>...</td>\n",
              "      <td>...</td>\n",
              "      <td>...</td>\n",
              "      <td>...</td>\n",
              "      <td>...</td>\n",
              "      <td>...</td>\n",
              "      <td>...</td>\n",
              "      <td>...</td>\n",
              "      <td>...</td>\n",
              "    </tr>\n",
              "    <tr>\n",
              "      <th>800333</th>\n",
              "      <td>21093</td>\n",
              "      <td>NaN</td>\n",
              "      <td>07/09/2021</td>\n",
              "      <td>NaN</td>\n",
              "      <td>NaN</td>\n",
              "      <td>NaN</td>\n",
              "      <td>NaN</td>\n",
              "      <td>NaN</td>\n",
              "      <td>NaN</td>\n",
              "      <td>7.0</td>\n",
              "      <td>9.0</td>\n",
              "      <td>2021.0</td>\n",
              "    </tr>\n",
              "    <tr>\n",
              "      <th>800334</th>\n",
              "      <td>21094</td>\n",
              "      <td>NaN</td>\n",
              "      <td>07/09/2021</td>\n",
              "      <td>NaN</td>\n",
              "      <td>NaN</td>\n",
              "      <td>NaN</td>\n",
              "      <td>NaN</td>\n",
              "      <td>NaN</td>\n",
              "      <td>NaN</td>\n",
              "      <td>7.0</td>\n",
              "      <td>9.0</td>\n",
              "      <td>2021.0</td>\n",
              "    </tr>\n",
              "    <tr>\n",
              "      <th>800335</th>\n",
              "      <td>21095</td>\n",
              "      <td>NaN</td>\n",
              "      <td>07/09/2021</td>\n",
              "      <td>NaN</td>\n",
              "      <td>NaN</td>\n",
              "      <td>NaN</td>\n",
              "      <td>NaN</td>\n",
              "      <td>NaN</td>\n",
              "      <td>NaN</td>\n",
              "      <td>7.0</td>\n",
              "      <td>9.0</td>\n",
              "      <td>2021.0</td>\n",
              "    </tr>\n",
              "    <tr>\n",
              "      <th>800336</th>\n",
              "      <td>21096</td>\n",
              "      <td>NaN</td>\n",
              "      <td>07/09/2021</td>\n",
              "      <td>NaN</td>\n",
              "      <td>NaN</td>\n",
              "      <td>NaN</td>\n",
              "      <td>NaN</td>\n",
              "      <td>NaN</td>\n",
              "      <td>NaN</td>\n",
              "      <td>7.0</td>\n",
              "      <td>9.0</td>\n",
              "      <td>2021.0</td>\n",
              "    </tr>\n",
              "    <tr>\n",
              "      <th>800337</th>\n",
              "      <td>21097</td>\n",
              "      <td>NaN</td>\n",
              "      <td>07/09/2021</td>\n",
              "      <td>NaN</td>\n",
              "      <td>NaN</td>\n",
              "      <td>NaN</td>\n",
              "      <td>NaN</td>\n",
              "      <td>NaN</td>\n",
              "      <td>NaN</td>\n",
              "      <td>7.0</td>\n",
              "      <td>9.0</td>\n",
              "      <td>2021.0</td>\n",
              "    </tr>\n",
              "  </tbody>\n",
              "</table>\n",
              "<p>800338 rows × 12 columns</p>\n",
              "</div>"
            ],
            "text/plain": [
              "        Unnamed: 0  Num Cases Date Announced  ...   Day Month    Year\n",
              "0                0        1.0     30/01/2020  ...  30.0   1.0  2020.0\n",
              "1                1        1.0     02/02/2020  ...   2.0   2.0  2020.0\n",
              "2                2        1.0     03/02/2020  ...   3.0   2.0  2020.0\n",
              "3                3        1.0     02/03/2020  ...   2.0   3.0  2020.0\n",
              "4                4        1.0     02/03/2020  ...   2.0   3.0  2020.0\n",
              "...            ...        ...            ...  ...   ...   ...     ...\n",
              "800333       21093        NaN     07/09/2021  ...   7.0   9.0  2021.0\n",
              "800334       21094        NaN     07/09/2021  ...   7.0   9.0  2021.0\n",
              "800335       21095        NaN     07/09/2021  ...   7.0   9.0  2021.0\n",
              "800336       21096        NaN     07/09/2021  ...   7.0   9.0  2021.0\n",
              "800337       21097        NaN     07/09/2021  ...   7.0   9.0  2021.0\n",
              "\n",
              "[800338 rows x 12 columns]"
            ]
          },
          "metadata": {},
          "execution_count": 12
        }
      ]
    },
    {
      "cell_type": "code",
      "metadata": {
        "id": "SIT-sYV8rKjQ"
      },
      "source": [
        ""
      ],
      "execution_count": 12,
      "outputs": []
    },
    {
      "cell_type": "code",
      "metadata": {
        "id": "8P1epuISrWSP"
      },
      "source": [
        "import matplotlib.pyplot as plt\n"
      ],
      "execution_count": 13,
      "outputs": []
    },
    {
      "cell_type": "code",
      "metadata": {
        "colab": {
          "base_uri": "https://localhost:8080/"
        },
        "id": "ev9jNq4rCzXA",
        "outputId": "47715721-2558-41f2-a69a-a0c44b48bc94"
      },
      "source": [
        "n=data[data['Year']=='2021'].groupby('Year')['Num Cases'].sum()\n",
        "n"
      ],
      "execution_count": 195,
      "outputs": [
        {
          "output_type": "execute_result",
          "data": {
            "text/plain": [
              "Series([], Name: Num Cases, dtype: float64)"
            ]
          },
          "metadata": {},
          "execution_count": 195
        }
      ]
    },
    {
      "cell_type": "code",
      "metadata": {
        "colab": {
          "base_uri": "https://localhost:8080/",
          "height": 487
        },
        "id": "dYFWDu9pH-CC",
        "outputId": "609496c9-c4f9-4835-fd75-d09f87d15dc4"
      },
      "source": [
        "data=df.iloc[:,1:]\n",
        "data"
      ],
      "execution_count": 184,
      "outputs": [
        {
          "output_type": "execute_result",
          "data": {
            "text/html": [
              "<div>\n",
              "<style scoped>\n",
              "    .dataframe tbody tr th:only-of-type {\n",
              "        vertical-align: middle;\n",
              "    }\n",
              "\n",
              "    .dataframe tbody tr th {\n",
              "        vertical-align: top;\n",
              "    }\n",
              "\n",
              "    .dataframe thead th {\n",
              "        text-align: right;\n",
              "    }\n",
              "</style>\n",
              "<table border=\"1\" class=\"dataframe\">\n",
              "  <thead>\n",
              "    <tr style=\"text-align: right;\">\n",
              "      <th></th>\n",
              "      <th>Num Cases</th>\n",
              "      <th>Date Announced</th>\n",
              "      <th>Age Bracket</th>\n",
              "      <th>Gender</th>\n",
              "      <th>Detected City</th>\n",
              "      <th>Detected District</th>\n",
              "      <th>Detected State</th>\n",
              "      <th>Current Status</th>\n",
              "      <th>Day</th>\n",
              "      <th>Month</th>\n",
              "      <th>Year</th>\n",
              "    </tr>\n",
              "  </thead>\n",
              "  <tbody>\n",
              "    <tr>\n",
              "      <th>0</th>\n",
              "      <td>1.0</td>\n",
              "      <td>30/01/2020</td>\n",
              "      <td>20</td>\n",
              "      <td>F</td>\n",
              "      <td>Thrissur</td>\n",
              "      <td>Thrissur</td>\n",
              "      <td>Kerala</td>\n",
              "      <td>Recovered</td>\n",
              "      <td>30.0</td>\n",
              "      <td>1.0</td>\n",
              "      <td>2020.0</td>\n",
              "    </tr>\n",
              "    <tr>\n",
              "      <th>1</th>\n",
              "      <td>1.0</td>\n",
              "      <td>02/02/2020</td>\n",
              "      <td>NaN</td>\n",
              "      <td>NaN</td>\n",
              "      <td>Alappuzha</td>\n",
              "      <td>Alappuzha</td>\n",
              "      <td>Kerala</td>\n",
              "      <td>Recovered</td>\n",
              "      <td>2.0</td>\n",
              "      <td>2.0</td>\n",
              "      <td>2020.0</td>\n",
              "    </tr>\n",
              "    <tr>\n",
              "      <th>2</th>\n",
              "      <td>1.0</td>\n",
              "      <td>03/02/2020</td>\n",
              "      <td>NaN</td>\n",
              "      <td>NaN</td>\n",
              "      <td>Kasaragod</td>\n",
              "      <td>Kasaragod</td>\n",
              "      <td>Kerala</td>\n",
              "      <td>Recovered</td>\n",
              "      <td>3.0</td>\n",
              "      <td>2.0</td>\n",
              "      <td>2020.0</td>\n",
              "    </tr>\n",
              "    <tr>\n",
              "      <th>3</th>\n",
              "      <td>1.0</td>\n",
              "      <td>02/03/2020</td>\n",
              "      <td>45</td>\n",
              "      <td>M</td>\n",
              "      <td>East Delhi (Mayur Vihar)</td>\n",
              "      <td>East Delhi</td>\n",
              "      <td>Delhi</td>\n",
              "      <td>Recovered</td>\n",
              "      <td>2.0</td>\n",
              "      <td>3.0</td>\n",
              "      <td>2020.0</td>\n",
              "    </tr>\n",
              "    <tr>\n",
              "      <th>4</th>\n",
              "      <td>1.0</td>\n",
              "      <td>02/03/2020</td>\n",
              "      <td>24</td>\n",
              "      <td>M</td>\n",
              "      <td>Hyderabad</td>\n",
              "      <td>Hyderabad</td>\n",
              "      <td>Telangana</td>\n",
              "      <td>Recovered</td>\n",
              "      <td>2.0</td>\n",
              "      <td>3.0</td>\n",
              "      <td>2020.0</td>\n",
              "    </tr>\n",
              "    <tr>\n",
              "      <th>...</th>\n",
              "      <td>...</td>\n",
              "      <td>...</td>\n",
              "      <td>...</td>\n",
              "      <td>...</td>\n",
              "      <td>...</td>\n",
              "      <td>...</td>\n",
              "      <td>...</td>\n",
              "      <td>...</td>\n",
              "      <td>...</td>\n",
              "      <td>...</td>\n",
              "      <td>...</td>\n",
              "    </tr>\n",
              "    <tr>\n",
              "      <th>800333</th>\n",
              "      <td>NaN</td>\n",
              "      <td>07/09/2021</td>\n",
              "      <td>NaN</td>\n",
              "      <td>NaN</td>\n",
              "      <td>NaN</td>\n",
              "      <td>NaN</td>\n",
              "      <td>NaN</td>\n",
              "      <td>NaN</td>\n",
              "      <td>7.0</td>\n",
              "      <td>9.0</td>\n",
              "      <td>2021.0</td>\n",
              "    </tr>\n",
              "    <tr>\n",
              "      <th>800334</th>\n",
              "      <td>NaN</td>\n",
              "      <td>07/09/2021</td>\n",
              "      <td>NaN</td>\n",
              "      <td>NaN</td>\n",
              "      <td>NaN</td>\n",
              "      <td>NaN</td>\n",
              "      <td>NaN</td>\n",
              "      <td>NaN</td>\n",
              "      <td>7.0</td>\n",
              "      <td>9.0</td>\n",
              "      <td>2021.0</td>\n",
              "    </tr>\n",
              "    <tr>\n",
              "      <th>800335</th>\n",
              "      <td>NaN</td>\n",
              "      <td>07/09/2021</td>\n",
              "      <td>NaN</td>\n",
              "      <td>NaN</td>\n",
              "      <td>NaN</td>\n",
              "      <td>NaN</td>\n",
              "      <td>NaN</td>\n",
              "      <td>NaN</td>\n",
              "      <td>7.0</td>\n",
              "      <td>9.0</td>\n",
              "      <td>2021.0</td>\n",
              "    </tr>\n",
              "    <tr>\n",
              "      <th>800336</th>\n",
              "      <td>NaN</td>\n",
              "      <td>07/09/2021</td>\n",
              "      <td>NaN</td>\n",
              "      <td>NaN</td>\n",
              "      <td>NaN</td>\n",
              "      <td>NaN</td>\n",
              "      <td>NaN</td>\n",
              "      <td>NaN</td>\n",
              "      <td>7.0</td>\n",
              "      <td>9.0</td>\n",
              "      <td>2021.0</td>\n",
              "    </tr>\n",
              "    <tr>\n",
              "      <th>800337</th>\n",
              "      <td>NaN</td>\n",
              "      <td>07/09/2021</td>\n",
              "      <td>NaN</td>\n",
              "      <td>NaN</td>\n",
              "      <td>NaN</td>\n",
              "      <td>NaN</td>\n",
              "      <td>NaN</td>\n",
              "      <td>NaN</td>\n",
              "      <td>7.0</td>\n",
              "      <td>9.0</td>\n",
              "      <td>2021.0</td>\n",
              "    </tr>\n",
              "  </tbody>\n",
              "</table>\n",
              "<p>800338 rows × 11 columns</p>\n",
              "</div>"
            ],
            "text/plain": [
              "        Num Cases Date Announced Age Bracket  ...   Day Month    Year\n",
              "0             1.0     30/01/2020          20  ...  30.0   1.0  2020.0\n",
              "1             1.0     02/02/2020         NaN  ...   2.0   2.0  2020.0\n",
              "2             1.0     03/02/2020         NaN  ...   3.0   2.0  2020.0\n",
              "3             1.0     02/03/2020          45  ...   2.0   3.0  2020.0\n",
              "4             1.0     02/03/2020          24  ...   2.0   3.0  2020.0\n",
              "...           ...            ...         ...  ...   ...   ...     ...\n",
              "800333        NaN     07/09/2021         NaN  ...   7.0   9.0  2021.0\n",
              "800334        NaN     07/09/2021         NaN  ...   7.0   9.0  2021.0\n",
              "800335        NaN     07/09/2021         NaN  ...   7.0   9.0  2021.0\n",
              "800336        NaN     07/09/2021         NaN  ...   7.0   9.0  2021.0\n",
              "800337        NaN     07/09/2021         NaN  ...   7.0   9.0  2021.0\n",
              "\n",
              "[800338 rows x 11 columns]"
            ]
          },
          "metadata": {},
          "execution_count": 184
        }
      ]
    },
    {
      "cell_type": "code",
      "metadata": {
        "colab": {
          "base_uri": "https://localhost:8080/"
        },
        "id": "guo4JlUxI3sQ",
        "outputId": "c0bb6956-743e-4bbf-e3aa-f4de6a5a7744"
      },
      "source": [
        "data.info()"
      ],
      "execution_count": 15,
      "outputs": [
        {
          "output_type": "stream",
          "name": "stdout",
          "text": [
            "<class 'pandas.core.frame.DataFrame'>\n",
            "RangeIndex: 800338 entries, 0 to 800337\n",
            "Data columns (total 11 columns):\n",
            " #   Column             Non-Null Count   Dtype  \n",
            "---  ------             --------------   -----  \n",
            " 0   Num Cases          799854 non-null  float64\n",
            " 1   Date Announced     800331 non-null  object \n",
            " 2   Age Bracket        135847 non-null  object \n",
            " 3   Gender             138113 non-null  object \n",
            " 4   Detected City      14443 non-null   object \n",
            " 5   Detected District  783799 non-null  object \n",
            " 6   Detected State     799856 non-null  object \n",
            " 7   Current Status     799865 non-null  object \n",
            " 8   Day                800331 non-null  float64\n",
            " 9   Month              800331 non-null  float64\n",
            " 10  Year               800331 non-null  float64\n",
            "dtypes: float64(4), object(7)\n",
            "memory usage: 67.2+ MB\n"
          ]
        }
      ]
    },
    {
      "cell_type": "code",
      "metadata": {
        "colab": {
          "base_uri": "https://localhost:8080/"
        },
        "id": "8qI2G03rI-nl",
        "outputId": "a71d26dc-18fe-4544-ad84-2df060359d7f"
      },
      "source": [
        "data.isnull().sum().sort_values()"
      ],
      "execution_count": 16,
      "outputs": [
        {
          "output_type": "execute_result",
          "data": {
            "text/plain": [
              "Date Announced            7\n",
              "Day                       7\n",
              "Month                     7\n",
              "Year                      7\n",
              "Current Status          473\n",
              "Detected State          482\n",
              "Num Cases               484\n",
              "Detected District     16539\n",
              "Gender               662225\n",
              "Age Bracket          664491\n",
              "Detected City        785895\n",
              "dtype: int64"
            ]
          },
          "metadata": {},
          "execution_count": 16
        }
      ]
    },
    {
      "cell_type": "code",
      "metadata": {
        "colab": {
          "base_uri": "https://localhost:8080/"
        },
        "id": "1yvrTPmzJL2T",
        "outputId": "190a492b-7078-4f24-e7c0-ff0e8a67419d"
      },
      "source": [
        "data.isnull().sum(axis=1).sort_values()\n"
      ],
      "execution_count": 17,
      "outputs": [
        {
          "output_type": "execute_result",
          "data": {
            "text/plain": [
              "0          0\n",
              "247521     0\n",
              "247520     0\n",
              "247519     0\n",
              "247518     0\n",
              "          ..\n",
              "271479    11\n",
              "224898    11\n",
              "404954    11\n",
              "404952    11\n",
              "404953    11\n",
              "Length: 800338, dtype: int64"
            ]
          },
          "metadata": {},
          "execution_count": 17
        }
      ]
    },
    {
      "cell_type": "code",
      "metadata": {
        "colab": {
          "base_uri": "https://localhost:8080/"
        },
        "id": "R5cCLX-IKCS4",
        "outputId": "e6805f61-4da4-4207-f600-1020fa11d9d9"
      },
      "source": [
        "data.groupby('Month')['Num Cases'].sum()"
      ],
      "execution_count": 18,
      "outputs": [
        {
          "output_type": "execute_result",
          "data": {
            "text/plain": [
              "Month\n",
              "1.0      1031651.0\n",
              "2.0       706826.0\n",
              "3.0      1804285.0\n",
              "4.0     11225643.0\n",
              "5.0     19649095.0\n",
              "6.0      6510403.0\n",
              "7.0      4479102.0\n",
              "8.0      6105979.0\n",
              "9.0      5568329.0\n",
              "10.0     4116679.0\n",
              "11.0     2695136.0\n",
              "12.0     1828219.0\n",
              "Name: Num Cases, dtype: float64"
            ]
          },
          "metadata": {},
          "execution_count": 18
        }
      ]
    },
    {
      "cell_type": "code",
      "metadata": {
        "colab": {
          "base_uri": "https://localhost:8080/"
        },
        "id": "lxXW0c52Kj39",
        "outputId": "52a2f16a-1128-415a-90d6-cef5c6f7c9a9"
      },
      "source": [
        "M=data[data['Current Status']=='Hospitalized'].groupby('Month')['Num Cases'].sum()\n",
        "M"
      ],
      "execution_count": 19,
      "outputs": [
        {
          "output_type": "execute_result",
          "data": {
            "text/plain": [
              "Month\n",
              "1.0      472317.0\n",
              "2.0      353426.0\n",
              "3.0     1110091.0\n",
              "4.0     6969688.0\n",
              "5.0     9172468.0\n",
              "6.0     2632028.0\n",
              "7.0     2355236.0\n",
              "8.0     3146893.0\n",
              "9.0     2868898.0\n",
              "10.0    1873130.0\n",
              "11.0    1279860.0\n",
              "12.0     823056.0\n",
              "Name: Num Cases, dtype: float64"
            ]
          },
          "metadata": {},
          "execution_count": 19
        }
      ]
    },
    {
      "cell_type": "code",
      "metadata": {
        "colab": {
          "base_uri": "https://localhost:8080/",
          "height": 303
        },
        "id": "8uZzMh5UL0gU",
        "outputId": "1a554b3f-5099-4c61-a464-1c27b4177e24"
      },
      "source": [
        "M.plot.bar()\n",
        "plt.show()"
      ],
      "execution_count": 20,
      "outputs": [
        {
          "output_type": "display_data",
          "data": {
            "image/png": "[encoded data removed]",
            "text/plain": [
              "<Figure size 432x288 with 1 Axes>"
            ]
          },
          "metadata": {
            "needs_background": "light"
          }
        }
      ]
    },
    {
      "cell_type": "code",
      "metadata": {
        "colab": {
          "base_uri": "https://localhost:8080/"
        },
        "id": "QnXCEmDzM2p-",
        "outputId": "8fdbeb40-d716-43e4-f19f-9f63f07a2a02"
      },
      "source": [
        "data.groupby('Gender')['Num Cases'].sum()"
      ],
      "execution_count": 21,
      "outputs": [
        {
          "output_type": "execute_result",
          "data": {
            "text/plain": [
              "Gender\n",
              " M                1.0\n",
              "-                 1.0\n",
              "F             49955.0\n",
              "F                 6.0\n",
              "Fal               1.0\n",
              "Femal e           1.0\n",
              "M             91429.0\n",
              "M                 7.0\n",
              "M,                1.0\n",
              "Non-Binary       19.0\n",
              "gf                1.0\n",
              "Name: Num Cases, dtype: float64"
            ]
          },
          "metadata": {},
          "execution_count": 21
        }
      ]
    },
    {
      "cell_type": "code",
      "metadata": {
        "colab": {
          "base_uri": "https://localhost:8080/"
        },
        "id": "LeLp5Vx0NFz_",
        "outputId": "2449d9c2-6d8f-46d7-81c4-0275a89e0912"
      },
      "source": [
        "N=data.groupby('Age Bracket')['Num Cases'].sum().sort_values(ascending=False).head(10)\n",
        "N"
      ],
      "execution_count": 22,
      "outputs": [
        {
          "output_type": "execute_result",
          "data": {
            "text/plain": [
              "Age Bracket\n",
              "30.0    1925.0\n",
              "58.0    1804.0\n",
              "30      1789.0\n",
              "40.0    1723.0\n",
              "35      1675.0\n",
              "35.0    1641.0\n",
              "40      1623.0\n",
              "45.0    1599.0\n",
              "32.0    1551.0\n",
              "45      1546.0\n",
              "Name: Num Cases, dtype: float64"
            ]
          },
          "metadata": {},
          "execution_count": 22
        }
      ]
    },
    {
      "cell_type": "code",
      "metadata": {
        "colab": {
          "base_uri": "https://localhost:8080/",
          "height": 258
        },
        "id": "imCFfA6VNyyE",
        "outputId": "4040065c-485b-4890-f7fc-e6fd38df7d91"
      },
      "source": [
        "N.plot.bar(figsize=(15,5))\n",
        "plt.show()"
      ],
      "execution_count": 23,
      "outputs": [
        {
          "output_type": "display_data",
          "data": {
            "image/png": "[encoded data removed]",
            "text/plain": [
              "<Figure size 1080x360 with 1 Axes>"
            ]
          },
          "metadata": {
            "needs_background": "light"
          }
        }
      ]
    },
    {
      "cell_type": "code",
      "metadata": {
        "id": "RIZbFalQOR5k"
      },
      "source": [
        "p=data[data['Current Status']=='Hospitalized'].groupby('Detected State')['Num Cases'].sum().sort_values(ascending=False)"
      ],
      "execution_count": 24,
      "outputs": []
    },
    {
      "cell_type": "code",
      "metadata": {
        "colab": {
          "base_uri": "https://localhost:8080/",
          "height": 422
        },
        "id": "DIra1ct7PWuH",
        "outputId": "5e4a9458-d223-4da0-db04-74efccab7867"
      },
      "source": [
        "p.plot.bar(figsize=(15,5))\n",
        "plt.show()"
      ],
      "execution_count": 25,
      "outputs": [
        {
          "output_type": "display_data",
          "data": {
            "image/png": "[encoded data removed]",
            "text/plain": [
              "<Figure size 1080x360 with 1 Axes>"
            ]
          },
          "metadata": {
            "needs_background": "light"
          }
        }
      ]
    },
    {
      "cell_type": "code",
      "metadata": {
        "id": "fiuFmrBnQklg"
      },
      "source": [
        ""
      ],
      "execution_count": 25,
      "outputs": []
    },
    {
      "cell_type": "markdown",
      "metadata": {
        "id": "WR3vPinqQm0x"
      },
      "source": [
        "**How many Cases Everyday ?**"
      ]
    },
    {
      "cell_type": "code",
      "metadata": {
        "colab": {
          "base_uri": "https://localhost:8080/",
          "height": 447
        },
        "id": "AxxfFMNaQ8T6",
        "outputId": "a7560e3d-868c-41d3-9306-c0e82a2befad"
      },
      "source": [
        "day=data[data['Current Status']=='Hospitalized'].groupby(['Month','Day','Year'])[['Num Cases']].sum()\n",
        "day"
      ],
      "execution_count": 26,
      "outputs": [
        {
          "output_type": "execute_result",
          "data": {
            "text/html": [
              "<div>\n",
              "<style scoped>\n",
              "    .dataframe tbody tr th:only-of-type {\n",
              "        vertical-align: middle;\n",
              "    }\n",
              "\n",
              "    .dataframe tbody tr th {\n",
              "        vertical-align: top;\n",
              "    }\n",
              "\n",
              "    .dataframe thead th {\n",
              "        text-align: right;\n",
              "    }\n",
              "</style>\n",
              "<table border=\"1\" class=\"dataframe\">\n",
              "  <thead>\n",
              "    <tr style=\"text-align: right;\">\n",
              "      <th></th>\n",
              "      <th></th>\n",
              "      <th></th>\n",
              "      <th>Num Cases</th>\n",
              "    </tr>\n",
              "    <tr>\n",
              "      <th>Month</th>\n",
              "      <th>Day</th>\n",
              "      <th>Year</th>\n",
              "      <th></th>\n",
              "    </tr>\n",
              "  </thead>\n",
              "  <tbody>\n",
              "    <tr>\n",
              "      <th rowspan=\"5\" valign=\"top\">1.0</th>\n",
              "      <th>1.0</th>\n",
              "      <th>2021.0</th>\n",
              "      <td>20159.0</td>\n",
              "    </tr>\n",
              "    <tr>\n",
              "      <th>2.0</th>\n",
              "      <th>2021.0</th>\n",
              "      <td>18144.0</td>\n",
              "    </tr>\n",
              "    <tr>\n",
              "      <th>3.0</th>\n",
              "      <th>2021.0</th>\n",
              "      <td>16678.0</td>\n",
              "    </tr>\n",
              "    <tr>\n",
              "      <th>4.0</th>\n",
              "      <th>2021.0</th>\n",
              "      <td>16278.0</td>\n",
              "    </tr>\n",
              "    <tr>\n",
              "      <th>5.0</th>\n",
              "      <th>2021.0</th>\n",
              "      <td>17909.0</td>\n",
              "    </tr>\n",
              "    <tr>\n",
              "      <th>...</th>\n",
              "      <th>...</th>\n",
              "      <th>...</th>\n",
              "      <td>...</td>\n",
              "    </tr>\n",
              "    <tr>\n",
              "      <th rowspan=\"5\" valign=\"top\">12.0</th>\n",
              "      <th>27.0</th>\n",
              "      <th>2020.0</th>\n",
              "      <td>20333.0</td>\n",
              "    </tr>\n",
              "    <tr>\n",
              "      <th>28.0</th>\n",
              "      <th>2020.0</th>\n",
              "      <td>16072.0</td>\n",
              "    </tr>\n",
              "    <tr>\n",
              "      <th>29.0</th>\n",
              "      <th>2020.0</th>\n",
              "      <td>20542.0</td>\n",
              "    </tr>\n",
              "    <tr>\n",
              "      <th>30.0</th>\n",
              "      <th>2020.0</th>\n",
              "      <td>21945.0</td>\n",
              "    </tr>\n",
              "    <tr>\n",
              "      <th>31.0</th>\n",
              "      <th>2020.0</th>\n",
              "      <td>19026.0</td>\n",
              "    </tr>\n",
              "  </tbody>\n",
              "</table>\n",
              "<p>550 rows × 1 columns</p>\n",
              "</div>"
            ],
            "text/plain": [
              "                   Num Cases\n",
              "Month Day  Year             \n",
              "1.0   1.0  2021.0    20159.0\n",
              "      2.0  2021.0    18144.0\n",
              "      3.0  2021.0    16678.0\n",
              "      4.0  2021.0    16278.0\n",
              "      5.0  2021.0    17909.0\n",
              "...                      ...\n",
              "12.0  27.0 2020.0    20333.0\n",
              "      28.0 2020.0    16072.0\n",
              "      29.0 2020.0    20542.0\n",
              "      30.0 2020.0    21945.0\n",
              "      31.0 2020.0    19026.0\n",
              "\n",
              "[550 rows x 1 columns]"
            ]
          },
          "metadata": {},
          "execution_count": 26
        }
      ]
    },
    {
      "cell_type": "code",
      "metadata": {
        "colab": {
          "base_uri": "https://localhost:8080/",
          "height": 981
        },
        "id": "-iq4egcuRgVC",
        "outputId": "472bba25-9521-4137-8c3b-ebe6b5d9ac47"
      },
      "source": [
        "day.unstack(level=0).plot(kind='bar',subplots=True,figsize=(20,30))\n",
        "plt.show()"
      ],
      "execution_count": 27,
      "outputs": [
        {
          "output_type": "display_data",
          "data": {
            "image/png": "[encoded data removed]",
            "text/plain": [
              "<Figure size 1440x2160 with 12 Axes>"
            ]
          },
          "metadata": {
            "needs_background": "light"
          }
        }
      ]
    },
    {
      "cell_type": "code",
      "metadata": {
        "colab": {
          "base_uri": "https://localhost:8080/"
        },
        "id": "X9TvRGfRTdsb",
        "outputId": "c354dc55-864c-4667-f2d0-c644f5663a98"
      },
      "source": [
        "data['Current Status'].unique()"
      ],
      "execution_count": 28,
      "outputs": [
        {
          "output_type": "execute_result",
          "data": {
            "text/plain": [
              "array(['Recovered', 'Hospitalized', 'Deceased', 'Migrated',\n",
              "       'Migrated_Other', nan, 'Migrated_other', 'hospitalized'],\n",
              "      dtype=object)"
            ]
          },
          "metadata": {},
          "execution_count": 28
        }
      ]
    },
    {
      "cell_type": "code",
      "metadata": {
        "colab": {
          "base_uri": "https://localhost:8080/"
        },
        "id": "7hT50MO5UUk2",
        "outputId": "cc63c5be-a1ef-4f67-8a89-4d3f27213ff2"
      },
      "source": [
        "data[data['Current Status']=='Deceased']['Num Cases'].sum()"
      ],
      "execution_count": 29,
      "outputs": [
        {
          "output_type": "execute_result",
          "data": {
            "text/plain": [
              "440239.0"
            ]
          },
          "metadata": {},
          "execution_count": 29
        }
      ]
    },
    {
      "cell_type": "code",
      "metadata": {
        "colab": {
          "base_uri": "https://localhost:8080/"
        },
        "id": "tYMfIfcIUwkB",
        "outputId": "65098d60-9fac-482a-ad85-44cc7f12b0fd"
      },
      "source": [
        "data[data['Current Status']=='Deceased'].groupby('Detected State')['Num Cases'].sum().sort_values(ascending=False)"
      ],
      "execution_count": 30,
      "outputs": [
        {
          "output_type": "execute_result",
          "data": {
            "text/plain": [
              "Detected State\n",
              "Maharashtra                                 137480.0\n",
              "Karnataka                                    37418.0\n",
              "Tamil Nadu                                   35013.0\n",
              "Delhi                                        25029.0\n",
              "Uttar Pradesh                                22832.0\n",
              "Kerala                                       21630.0\n",
              "West Bengal                                  18498.0\n",
              "Punjab                                       16428.0\n",
              "Andhra Pradesh                               13894.0\n",
              "Chhattisgarh                                 13557.0\n",
              "Madhya Pradesh                               10415.0\n",
              "Gujarat                                       9935.0\n",
              "Haryana                                       9682.0\n",
              "Bihar                                         9655.0\n",
              "Rajasthan                                     8914.0\n",
              "Odisha                                        8108.0\n",
              "Uttarakhand                                   7388.0\n",
              "Assam                                         5709.0\n",
              "Jharkhand                                     5130.0\n",
              "Jammu and Kashmir                             4405.0\n",
              "Telangana                                     3862.0\n",
              "Himachal Pradesh                              3596.0\n",
              "Goa                                           3210.0\n",
              "Puducherry                                    1818.0\n",
              "Manipur                                       1802.0\n",
              "Meghalaya                                     1328.0\n",
              "Chandigarh                                     814.0\n",
              "Tripura                                        800.0\n",
              "Nagaland                                       631.0\n",
              "Sikkim                                         375.0\n",
              "Arunachal Pradesh                              267.0\n",
              "Mizoram                                        225.0\n",
              "Ladakh                                         207.0\n",
              "Andaman and Nicobar Islands                    129.0\n",
              "Lakshadweep                                     51.0\n",
              "Dadra and Nagar Haveli and Daman and Diu         4.0\n",
              "Name: Num Cases, dtype: float64"
            ]
          },
          "metadata": {},
          "execution_count": 30
        }
      ]
    },
    {
      "cell_type": "markdown",
      "metadata": {
        "id": "ws0Pl78diuN6"
      },
      "source": [
        "**Predication Using Linear Regression**"
      ]
    },
    {
      "cell_type": "code",
      "metadata": {
        "id": "UrseYLkBWILU",
        "colab": {
          "base_uri": "https://localhost:8080/",
          "height": 447
        },
        "outputId": "fbe41547-c510-420b-b2f4-088cfb0a35ac"
      },
      "source": [
        "day=data[data['Current Status']=='Hospitalized'].groupby(['Month','Day'])[['Num Cases']].sum()\n",
        "day"
      ],
      "execution_count": 32,
      "outputs": [
        {
          "output_type": "execute_result",
          "data": {
            "text/html": [
              "<div>\n",
              "<style scoped>\n",
              "    .dataframe tbody tr th:only-of-type {\n",
              "        vertical-align: middle;\n",
              "    }\n",
              "\n",
              "    .dataframe tbody tr th {\n",
              "        vertical-align: top;\n",
              "    }\n",
              "\n",
              "    .dataframe thead th {\n",
              "        text-align: right;\n",
              "    }\n",
              "</style>\n",
              "<table border=\"1\" class=\"dataframe\">\n",
              "  <thead>\n",
              "    <tr style=\"text-align: right;\">\n",
              "      <th></th>\n",
              "      <th></th>\n",
              "      <th>Num Cases</th>\n",
              "    </tr>\n",
              "    <tr>\n",
              "      <th>Month</th>\n",
              "      <th>Day</th>\n",
              "      <th></th>\n",
              "    </tr>\n",
              "  </thead>\n",
              "  <tbody>\n",
              "    <tr>\n",
              "      <th rowspan=\"5\" valign=\"top\">1.0</th>\n",
              "      <th>1.0</th>\n",
              "      <td>20159.0</td>\n",
              "    </tr>\n",
              "    <tr>\n",
              "      <th>2.0</th>\n",
              "      <td>18144.0</td>\n",
              "    </tr>\n",
              "    <tr>\n",
              "      <th>3.0</th>\n",
              "      <td>16678.0</td>\n",
              "    </tr>\n",
              "    <tr>\n",
              "      <th>4.0</th>\n",
              "      <td>16278.0</td>\n",
              "    </tr>\n",
              "    <tr>\n",
              "      <th>5.0</th>\n",
              "      <td>17909.0</td>\n",
              "    </tr>\n",
              "    <tr>\n",
              "      <th>...</th>\n",
              "      <th>...</th>\n",
              "      <td>...</td>\n",
              "    </tr>\n",
              "    <tr>\n",
              "      <th rowspan=\"5\" valign=\"top\">12.0</th>\n",
              "      <th>27.0</th>\n",
              "      <td>20333.0</td>\n",
              "    </tr>\n",
              "    <tr>\n",
              "      <th>28.0</th>\n",
              "      <td>16072.0</td>\n",
              "    </tr>\n",
              "    <tr>\n",
              "      <th>29.0</th>\n",
              "      <td>20542.0</td>\n",
              "    </tr>\n",
              "    <tr>\n",
              "      <th>30.0</th>\n",
              "      <td>21945.0</td>\n",
              "    </tr>\n",
              "    <tr>\n",
              "      <th>31.0</th>\n",
              "      <td>19026.0</td>\n",
              "    </tr>\n",
              "  </tbody>\n",
              "</table>\n",
              "<p>365 rows × 1 columns</p>\n",
              "</div>"
            ],
            "text/plain": [
              "            Num Cases\n",
              "Month Day            \n",
              "1.0   1.0     20159.0\n",
              "      2.0     18144.0\n",
              "      3.0     16678.0\n",
              "      4.0     16278.0\n",
              "      5.0     17909.0\n",
              "...               ...\n",
              "12.0  27.0    20333.0\n",
              "      28.0    16072.0\n",
              "      29.0    20542.0\n",
              "      30.0    21945.0\n",
              "      31.0    19026.0\n",
              "\n",
              "[365 rows x 1 columns]"
            ]
          },
          "metadata": {},
          "execution_count": 32
        }
      ]
    },
    {
      "cell_type": "code",
      "metadata": {
        "colab": {
          "base_uri": "https://localhost:8080/"
        },
        "id": "eCsN1z1BjoFi",
        "outputId": "d4913da0-7910-4ce4-a33f-253431536a0a"
      },
      "source": [
        "x=np.arange(len(day))\n",
        "x"
      ],
      "execution_count": 34,
      "outputs": [
        {
          "output_type": "execute_result",
          "data": {
            "text/plain": [
              "array([  0,   1,   2,   3,   4,   5,   6,   7,   8,   9,  10,  11,  12,\n",
              "        13,  14,  15,  16,  17,  18,  19,  20,  21,  22,  23,  24,  25,\n",
              "        26,  27,  28,  29,  30,  31,  32,  33,  34,  35,  36,  37,  38,\n",
              "        39,  40,  41,  42,  43,  44,  45,  46,  47,  48,  49,  50,  51,\n",
              "        52,  53,  54,  55,  56,  57,  58,  59,  60,  61,  62,  63,  64,\n",
              "        65,  66,  67,  68,  69,  70,  71,  72,  73,  74,  75,  76,  77,\n",
              "        78,  79,  80,  81,  82,  83,  84,  85,  86,  87,  88,  89,  90,\n",
              "        91,  92,  93,  94,  95,  96,  97,  98,  99, 100, 101, 102, 103,\n",
              "       104, 105, 106, 107, 108, 109, 110, 111, 112, 113, 114, 115, 116,\n",
              "       117, 118, 119, 120, 121, 122, 123, 124, 125, 126, 127, 128, 129,\n",
              "       130, 131, 132, 133, 134, 135, 136, 137, 138, 139, 140, 141, 142,\n",
              "       143, 144, 145, 146, 147, 148, 149, 150, 151, 152, 153, 154, 155,\n",
              "       156, 157, 158, 159, 160, 161, 162, 163, 164, 165, 166, 167, 168,\n",
              "       169, 170, 171, 172, 173, 174, 175, 176, 177, 178, 179, 180, 181,\n",
              "       182, 183, 184, 185, 186, 187, 188, 189, 190, 191, 192, 193, 194,\n",
              "       195, 196, 197, 198, 199, 200, 201, 202, 203, 204, 205, 206, 207,\n",
              "       208, 209, 210, 211, 212, 213, 214, 215, 216, 217, 218, 219, 220,\n",
              "       221, 222, 223, 224, 225, 226, 227, 228, 229, 230, 231, 232, 233,\n",
              "       234, 235, 236, 237, 238, 239, 240, 241, 242, 243, 244, 245, 246,\n",
              "       247, 248, 249, 250, 251, 252, 253, 254, 255, 256, 257, 258, 259,\n",
              "       260, 261, 262, 263, 264, 265, 266, 267, 268, 269, 270, 271, 272,\n",
              "       273, 274, 275, 276, 277, 278, 279, 280, 281, 282, 283, 284, 285,\n",
              "       286, 287, 288, 289, 290, 291, 292, 293, 294, 295, 296, 297, 298,\n",
              "       299, 300, 301, 302, 303, 304, 305, 306, 307, 308, 309, 310, 311,\n",
              "       312, 313, 314, 315, 316, 317, 318, 319, 320, 321, 322, 323, 324,\n",
              "       325, 326, 327, 328, 329, 330, 331, 332, 333, 334, 335, 336, 337,\n",
              "       338, 339, 340, 341, 342, 343, 344, 345, 346, 347, 348, 349, 350,\n",
              "       351, 352, 353, 354, 355, 356, 357, 358, 359, 360, 361, 362, 363,\n",
              "       364])"
            ]
          },
          "metadata": {},
          "execution_count": 34
        }
      ]
    },
    {
      "cell_type": "code",
      "metadata": {
        "colab": {
          "base_uri": "https://localhost:8080/",
          "height": 447
        },
        "id": "78Mz2eyNkBzO",
        "outputId": "ba9c16ec-c96d-4fde-c084-94ed20363dc1"
      },
      "source": [
        "day"
      ],
      "execution_count": 35,
      "outputs": [
        {
          "output_type": "execute_result",
          "data": {
            "text/html": [
              "<div>\n",
              "<style scoped>\n",
              "    .dataframe tbody tr th:only-of-type {\n",
              "        vertical-align: middle;\n",
              "    }\n",
              "\n",
              "    .dataframe tbody tr th {\n",
              "        vertical-align: top;\n",
              "    }\n",
              "\n",
              "    .dataframe thead th {\n",
              "        text-align: right;\n",
              "    }\n",
              "</style>\n",
              "<table border=\"1\" class=\"dataframe\">\n",
              "  <thead>\n",
              "    <tr style=\"text-align: right;\">\n",
              "      <th></th>\n",
              "      <th></th>\n",
              "      <th>Num Cases</th>\n",
              "    </tr>\n",
              "    <tr>\n",
              "      <th>Month</th>\n",
              "      <th>Day</th>\n",
              "      <th></th>\n",
              "    </tr>\n",
              "  </thead>\n",
              "  <tbody>\n",
              "    <tr>\n",
              "      <th rowspan=\"5\" valign=\"top\">1.0</th>\n",
              "      <th>1.0</th>\n",
              "      <td>20159.0</td>\n",
              "    </tr>\n",
              "    <tr>\n",
              "      <th>2.0</th>\n",
              "      <td>18144.0</td>\n",
              "    </tr>\n",
              "    <tr>\n",
              "      <th>3.0</th>\n",
              "      <td>16678.0</td>\n",
              "    </tr>\n",
              "    <tr>\n",
              "      <th>4.0</th>\n",
              "      <td>16278.0</td>\n",
              "    </tr>\n",
              "    <tr>\n",
              "      <th>5.0</th>\n",
              "      <td>17909.0</td>\n",
              "    </tr>\n",
              "    <tr>\n",
              "      <th>...</th>\n",
              "      <th>...</th>\n",
              "      <td>...</td>\n",
              "    </tr>\n",
              "    <tr>\n",
              "      <th rowspan=\"5\" valign=\"top\">12.0</th>\n",
              "      <th>27.0</th>\n",
              "      <td>20333.0</td>\n",
              "    </tr>\n",
              "    <tr>\n",
              "      <th>28.0</th>\n",
              "      <td>16072.0</td>\n",
              "    </tr>\n",
              "    <tr>\n",
              "      <th>29.0</th>\n",
              "      <td>20542.0</td>\n",
              "    </tr>\n",
              "    <tr>\n",
              "      <th>30.0</th>\n",
              "      <td>21945.0</td>\n",
              "    </tr>\n",
              "    <tr>\n",
              "      <th>31.0</th>\n",
              "      <td>19026.0</td>\n",
              "    </tr>\n",
              "  </tbody>\n",
              "</table>\n",
              "<p>365 rows × 1 columns</p>\n",
              "</div>"
            ],
            "text/plain": [
              "            Num Cases\n",
              "Month Day            \n",
              "1.0   1.0     20159.0\n",
              "      2.0     18144.0\n",
              "      3.0     16678.0\n",
              "      4.0     16278.0\n",
              "      5.0     17909.0\n",
              "...               ...\n",
              "12.0  27.0    20333.0\n",
              "      28.0    16072.0\n",
              "      29.0    20542.0\n",
              "      30.0    21945.0\n",
              "      31.0    19026.0\n",
              "\n",
              "[365 rows x 1 columns]"
            ]
          },
          "metadata": {},
          "execution_count": 35
        }
      ]
    },
    {
      "cell_type": "code",
      "metadata": {
        "id": "45_pb9PzlDIc"
      },
      "source": [
        "y = day.values"
      ],
      "execution_count": 39,
      "outputs": []
    },
    {
      "cell_type": "code",
      "metadata": {
        "colab": {
          "base_uri": "https://localhost:8080/"
        },
        "id": "Fwj0oWa7lM4W",
        "outputId": "9bf58840-4849-43dc-8fea-b611a1d88ba4"
      },
      "source": [
        "y"
      ],
      "execution_count": 40,
      "outputs": [
        {
          "output_type": "execute_result",
          "data": {
            "text/plain": [
              "array([[ 20159.],\n",
              "       [ 18144.],\n",
              "       [ 16678.],\n",
              "       [ 16278.],\n",
              "       [ 17909.],\n",
              "       [ 20472.],\n",
              "       [ 18123.],\n",
              "       [ 18453.],\n",
              "       [ 18820.],\n",
              "       [ 16086.],\n",
              "       [ 12481.],\n",
              "       [ 15903.],\n",
              "       [ 17015.],\n",
              "       [ 15677.],\n",
              "       [ 15155.],\n",
              "       [ 15050.],\n",
              "       [ 13962.],\n",
              "       [  9987.],\n",
              "       [ 13787.],\n",
              "       [ 15279.],\n",
              "       [ 14495.],\n",
              "       [ 14323.],\n",
              "       [ 14896.],\n",
              "       [ 13232.],\n",
              "       [  9098.],\n",
              "       [ 12733.],\n",
              "       [ 11556.],\n",
              "       [ 18912.],\n",
              "       [ 13054.],\n",
              "       [ 13073.],\n",
              "       [ 11527.],\n",
              "       [  8579.],\n",
              "       [ 11001.],\n",
              "       [ 12925.],\n",
              "       [ 12401.],\n",
              "       [ 11711.],\n",
              "       [ 12069.],\n",
              "       [ 11786.],\n",
              "       [  8715.],\n",
              "       [ 10731.],\n",
              "       [ 12539.],\n",
              "       [  9353.],\n",
              "       [ 12137.],\n",
              "       [ 12198.],\n",
              "       [ 11706.],\n",
              "       [  9086.],\n",
              "       [ 11592.],\n",
              "       [ 12862.],\n",
              "       [ 13238.],\n",
              "       [ 13914.],\n",
              "       [ 13919.],\n",
              "       [ 14278.],\n",
              "       [ 10494.],\n",
              "       [ 13682.],\n",
              "       [ 16930.],\n",
              "       [ 16599.],\n",
              "       [ 16562.],\n",
              "       [ 16805.],\n",
              "       [ 15614.],\n",
              "       [ 12270.],\n",
              "       [ 14998.],\n",
              "       [ 17425.],\n",
              "       [ 16829.],\n",
              "       [ 18325.],\n",
              "       [ 18724.],\n",
              "       [ 18652.],\n",
              "       [ 15353.],\n",
              "       [ 17877.],\n",
              "       [ 22855.],\n",
              "       [ 23306.],\n",
              "       [ 24849.],\n",
              "       [ 25160.],\n",
              "       [ 26524.],\n",
              "       [ 24445.],\n",
              "       [ 28881.],\n",
              "       [ 35852.],\n",
              "       [ 39709.],\n",
              "       [ 40927.],\n",
              "       [ 43867.],\n",
              "       [ 47076.],\n",
              "       [ 40695.],\n",
              "       [ 47321.],\n",
              "       [ 53482.],\n",
              "       [ 59160.],\n",
              "       [ 62334.],\n",
              "       [ 62772.],\n",
              "       [ 68329.],\n",
              "       [ 56258.],\n",
              "       [ 53415.],\n",
              "       [ 72421.],\n",
              "       [ 81821.],\n",
              "       [ 89508.],\n",
              "       [ 93550.],\n",
              "       [104370.],\n",
              "       [ 97169.],\n",
              "       [115797.],\n",
              "       [126846.],\n",
              "       [132441.],\n",
              "       [145809.],\n",
              "       [153435.],\n",
              "       [170768.],\n",
              "       [161612.],\n",
              "       [186549.],\n",
              "       [200615.],\n",
              "       [217722.],\n",
              "       [235063.],\n",
              "       [261817.],\n",
              "       [276453.],\n",
              "       [258596.],\n",
              "       [295617.],\n",
              "       [317289.],\n",
              "       [333823.],\n",
              "       [346963.],\n",
              "       [350404.],\n",
              "       [356493.],\n",
              "       [321078.],\n",
              "       [364481.],\n",
              "       [381305.],\n",
              "       [388478.],\n",
              "       [403816.],\n",
              "       [394972.],\n",
              "       [372654.],\n",
              "       [358721.],\n",
              "       [386503.],\n",
              "       [415595.],\n",
              "       [417882.],\n",
              "       [410245.],\n",
              "       [407147.],\n",
              "       [369630.],\n",
              "       [333802.],\n",
              "       [352147.],\n",
              "       [366194.],\n",
              "       [346731.],\n",
              "       [330247.],\n",
              "       [314565.],\n",
              "       [286631.],\n",
              "       [268070.],\n",
              "       [271874.],\n",
              "       [282341.],\n",
              "       [264962.],\n",
              "       [263322.],\n",
              "       [247433.],\n",
              "       [229499.],\n",
              "       [202968.],\n",
              "       [215406.],\n",
              "       [217417.],\n",
              "       [193321.],\n",
              "       [181337.],\n",
              "       [173420.],\n",
              "       [161760.],\n",
              "       [135672.],\n",
              "       [140876.],\n",
              "       [142856.],\n",
              "       [142112.],\n",
              "       [130301.],\n",
              "       [123960.],\n",
              "       [111617.],\n",
              "       [ 96686.],\n",
              "       [101323.],\n",
              "       [103864.],\n",
              "       [103005.],\n",
              "       [ 95709.],\n",
              "       [ 91831.],\n",
              "       [ 83040.],\n",
              "       [ 71412.],\n",
              "       [ 72249.],\n",
              "       [ 78374.],\n",
              "       [ 75544.],\n",
              "       [ 74594.],\n",
              "       [ 73355.],\n",
              "       [ 68896.],\n",
              "       [ 57834.],\n",
              "       [ 64377.],\n",
              "       [ 69965.],\n",
              "       [ 68527.],\n",
              "       [ 66973.],\n",
              "       [ 68099.],\n",
              "       [ 66665.],\n",
              "       [ 56680.],\n",
              "       [ 64443.],\n",
              "       [ 66861.],\n",
              "       [ 66211.],\n",
              "       [ 66134.],\n",
              "       [ 65745.],\n",
              "       [ 64168.],\n",
              "       [ 57968.],\n",
              "       [ 66464.],\n",
              "       [ 68849.],\n",
              "       [ 69065.],\n",
              "       [ 68450.],\n",
              "       [ 69243.],\n",
              "       [ 65408.],\n",
              "       [ 59924.],\n",
              "       [ 68492.],\n",
              "       [ 71676.],\n",
              "       [ 71678.],\n",
              "       [ 73585.],\n",
              "       [ 76107.],\n",
              "       [ 75741.],\n",
              "       [ 69655.],\n",
              "       [ 78934.],\n",
              "       [ 80857.],\n",
              "       [ 80464.],\n",
              "       [ 87944.],\n",
              "       [ 89174.],\n",
              "       [ 88251.],\n",
              "       [ 79752.],\n",
              "       [ 89455.],\n",
              "       [ 92796.],\n",
              "       [ 97150.],\n",
              "       [ 96467.],\n",
              "       [ 99429.],\n",
              "       [ 95746.],\n",
              "       [ 82757.],\n",
              "       [ 93021.],\n",
              "       [ 94079.],\n",
              "       [101631.],\n",
              "       [100875.],\n",
              "       [100523.],\n",
              "       [101192.],\n",
              "       [ 89545.],\n",
              "       [ 91396.],\n",
              "       [102838.],\n",
              "       [107147.],\n",
              "       [102902.],\n",
              "       [101745.],\n",
              "       [ 97231.],\n",
              "       [ 82792.],\n",
              "       [ 89506.],\n",
              "       [101526.],\n",
              "       [105796.],\n",
              "       [102826.],\n",
              "       [100052.],\n",
              "       [ 95487.],\n",
              "       [ 86543.],\n",
              "       [ 97435.],\n",
              "       [113002.],\n",
              "       [120545.],\n",
              "       [123633.],\n",
              "       [121721.],\n",
              "       [121853.],\n",
              "       [109709.],\n",
              "       [111839.],\n",
              "       [124143.],\n",
              "       [128489.],\n",
              "       [126826.],\n",
              "       [129714.],\n",
              "       [130143.],\n",
              "       [121889.],\n",
              "       [ 75015.],\n",
              "       [ 89855.],\n",
              "       [ 95536.],\n",
              "       [ 96762.],\n",
              "       [ 97655.],\n",
              "       [ 94414.],\n",
              "       [ 93220.],\n",
              "       [ 81909.],\n",
              "       [ 91097.],\n",
              "       [ 97860.],\n",
              "       [ 96787.],\n",
              "       [ 92973.],\n",
              "       [ 92574.],\n",
              "       [ 87395.],\n",
              "       [ 74493.],\n",
              "       [ 83362.],\n",
              "       [ 86703.],\n",
              "       [ 85921.],\n",
              "       [ 85717.],\n",
              "       [ 88759.],\n",
              "       [ 82770.],\n",
              "       [ 69669.],\n",
              "       [ 80500.],\n",
              "       [ 86748.],\n",
              "       [ 81785.],\n",
              "       [ 79885.],\n",
              "       [ 75479.],\n",
              "       [ 74770.],\n",
              "       [ 60130.],\n",
              "       [ 71869.],\n",
              "       [ 78809.],\n",
              "       [ 70798.],\n",
              "       [ 73305.],\n",
              "       [ 74418.],\n",
              "       [ 67789.],\n",
              "       [ 54262.],\n",
              "       [ 63717.],\n",
              "       [ 67811.],\n",
              "       [ 63441.],\n",
              "       [ 62304.],\n",
              "       [ 61893.],\n",
              "       [ 56519.],\n",
              "       [ 45506.],\n",
              "       [ 54348.],\n",
              "       [ 56264.],\n",
              "       [ 54371.],\n",
              "       [ 53931.],\n",
              "       [ 50366.],\n",
              "       [ 45922.],\n",
              "       [ 36104.],\n",
              "       [ 43036.],\n",
              "       [ 50188.],\n",
              "       [ 48765.],\n",
              "       [ 48117.],\n",
              "       [ 47228.],\n",
              "       [ 45928.],\n",
              "       [ 37592.],\n",
              "       [ 46027.],\n",
              "       [ 50465.],\n",
              "       [ 47628.],\n",
              "       [ 50359.],\n",
              "       [ 45811.],\n",
              "       [ 46707.],\n",
              "       [ 37119.],\n",
              "       [ 44724.],\n",
              "       [ 48285.],\n",
              "       [ 44584.],\n",
              "       [ 44620.],\n",
              "       [ 41692.],\n",
              "       [ 30681.],\n",
              "       [ 28609.],\n",
              "       [ 38548.],\n",
              "       [ 45366.],\n",
              "       [ 46185.],\n",
              "       [ 46283.],\n",
              "       [ 45301.],\n",
              "       [ 44404.],\n",
              "       [ 37441.],\n",
              "       [ 44245.],\n",
              "       [ 44699.],\n",
              "       [ 43174.],\n",
              "       [ 41353.],\n",
              "       [ 41815.],\n",
              "       [ 39036.],\n",
              "       [ 31179.],\n",
              "       [ 36474.],\n",
              "       [ 35506.],\n",
              "       [ 36574.],\n",
              "       [ 36711.],\n",
              "       [ 36010.],\n",
              "       [ 33178.],\n",
              "       [ 26227.],\n",
              "       [ 32083.],\n",
              "       [ 31637.],\n",
              "       [ 29411.],\n",
              "       [ 29961.],\n",
              "       [ 30354.],\n",
              "       [ 27336.],\n",
              "       [ 21941.],\n",
              "       [ 26251.],\n",
              "       [ 18172.],\n",
              "       [ 26754.],\n",
              "       [ 26991.],\n",
              "       [ 26834.],\n",
              "       [ 24622.],\n",
              "       [ 19147.],\n",
              "       [ 23880.],\n",
              "       [ 24716.],\n",
              "       [ 23444.],\n",
              "       [ 22349.],\n",
              "       [ 18575.],\n",
              "       [ 20333.],\n",
              "       [ 16072.],\n",
              "       [ 20542.],\n",
              "       [ 21945.],\n",
              "       [ 19026.]])"
            ]
          },
          "metadata": {},
          "execution_count": 40
        }
      ]
    },
    {
      "cell_type": "code",
      "metadata": {
        "colab": {
          "base_uri": "https://localhost:8080/",
          "height": 265
        },
        "id": "XfWQgAFIlNvF",
        "outputId": "6055b425-14e2-4c23-8974-91a6fdb2866c"
      },
      "source": [
        "plt.scatter(x,y)\n",
        "plt.show()"
      ],
      "execution_count": 41,
      "outputs": [
        {
          "output_type": "display_data",
          "data": {
            "image/png": "[encoded data removed]",
            "text/plain": [
              "<Figure size 432x288 with 1 Axes>"
            ]
          },
          "metadata": {
            "needs_background": "light"
          }
        }
      ]
    },
    {
      "cell_type": "code",
      "metadata": {
        "id": "XMVUm-NGlkAK"
      },
      "source": [
        "x=x.reshape(-1,1)\n",
        "\n"
      ],
      "execution_count": 135,
      "outputs": []
    },
    {
      "cell_type": "code",
      "metadata": {
        "colab": {
          "base_uri": "https://localhost:8080/"
        },
        "id": "dvyRru6BmFgS",
        "outputId": "d0c16cac-76c1-4fa7-e809-a66f2d66fd06"
      },
      "source": [
        "from sklearn.linear_model import LinearRegression\n",
        "regressor=LinearRegression()\n",
        "regressor.fit(x,y)"
      ],
      "execution_count": 49,
      "outputs": [
        {
          "output_type": "execute_result",
          "data": {
            "text/plain": [
              "LinearRegression(copy_X=True, fit_intercept=True, n_jobs=None, normalize=False)"
            ]
          },
          "metadata": {},
          "execution_count": 49
        }
      ]
    },
    {
      "cell_type": "code",
      "metadata": {
        "colab": {
          "base_uri": "https://localhost:8080/"
        },
        "id": "eIvAgEYxmv6r",
        "outputId": "2e176583-0e4b-4fe3-eef2-35c41c8950d3"
      },
      "source": [
        "y[364]"
      ],
      "execution_count": 50,
      "outputs": [
        {
          "output_type": "execute_result",
          "data": {
            "text/plain": [
              "array([19026.])"
            ]
          },
          "metadata": {},
          "execution_count": 50
        }
      ]
    },
    {
      "cell_type": "code",
      "metadata": {
        "colab": {
          "base_uri": "https://localhost:8080/"
        },
        "id": "wx6SMHCznQu5",
        "outputId": "3c3dece9-3954-4942-de0a-0b5670a52ce3"
      },
      "source": [
        "Yp=regressor.predict(x)\n",
        "Yp"
      ],
      "execution_count": 52,
      "outputs": [
        {
          "output_type": "execute_result",
          "data": {
            "text/plain": [
              "array([[106773.36146418],\n",
              "       [106684.31756934],\n",
              "       [106595.2736745 ],\n",
              "       [106506.22977965],\n",
              "       [106417.18588481],\n",
              "       [106328.14198997],\n",
              "       [106239.09809512],\n",
              "       [106150.05420028],\n",
              "       [106061.01030544],\n",
              "       [105971.96641059],\n",
              "       [105882.92251575],\n",
              "       [105793.87862091],\n",
              "       [105704.83472606],\n",
              "       [105615.79083122],\n",
              "       [105526.74693638],\n",
              "       [105437.70304154],\n",
              "       [105348.65914669],\n",
              "       [105259.61525185],\n",
              "       [105170.57135701],\n",
              "       [105081.52746216],\n",
              "       [104992.48356732],\n",
              "       [104903.43967248],\n",
              "       [104814.39577763],\n",
              "       [104725.35188279],\n",
              "       [104636.30798795],\n",
              "       [104547.2640931 ],\n",
              "       [104458.22019826],\n",
              "       [104369.17630342],\n",
              "       [104280.13240858],\n",
              "       [104191.08851373],\n",
              "       [104102.04461889],\n",
              "       [104013.00072405],\n",
              "       [103923.9568292 ],\n",
              "       [103834.91293436],\n",
              "       [103745.86903952],\n",
              "       [103656.82514467],\n",
              "       [103567.78124983],\n",
              "       [103478.73735499],\n",
              "       [103389.69346014],\n",
              "       [103300.6495653 ],\n",
              "       [103211.60567046],\n",
              "       [103122.56177561],\n",
              "       [103033.51788077],\n",
              "       [102944.47398593],\n",
              "       [102855.43009109],\n",
              "       [102766.38619624],\n",
              "       [102677.3423014 ],\n",
              "       [102588.29840656],\n",
              "       [102499.25451171],\n",
              "       [102410.21061687],\n",
              "       [102321.16672203],\n",
              "       [102232.12282718],\n",
              "       [102143.07893234],\n",
              "       [102054.0350375 ],\n",
              "       [101964.99114265],\n",
              "       [101875.94724781],\n",
              "       [101786.90335297],\n",
              "       [101697.85945813],\n",
              "       [101608.81556328],\n",
              "       [101519.77166844],\n",
              "       [101430.7277736 ],\n",
              "       [101341.68387875],\n",
              "       [101252.63998391],\n",
              "       [101163.59608907],\n",
              "       [101074.55219422],\n",
              "       [100985.50829938],\n",
              "       [100896.46440454],\n",
              "       [100807.42050969],\n",
              "       [100718.37661485],\n",
              "       [100629.33272001],\n",
              "       [100540.28882517],\n",
              "       [100451.24493032],\n",
              "       [100362.20103548],\n",
              "       [100273.15714064],\n",
              "       [100184.11324579],\n",
              "       [100095.06935095],\n",
              "       [100006.02545611],\n",
              "       [ 99916.98156126],\n",
              "       [ 99827.93766642],\n",
              "       [ 99738.89377158],\n",
              "       [ 99649.84987673],\n",
              "       [ 99560.80598189],\n",
              "       [ 99471.76208705],\n",
              "       [ 99382.71819221],\n",
              "       [ 99293.67429736],\n",
              "       [ 99204.63040252],\n",
              "       [ 99115.58650768],\n",
              "       [ 99026.54261283],\n",
              "       [ 98937.49871799],\n",
              "       [ 98848.45482315],\n",
              "       [ 98759.4109283 ],\n",
              "       [ 98670.36703346],\n",
              "       [ 98581.32313862],\n",
              "       [ 98492.27924377],\n",
              "       [ 98403.23534893],\n",
              "       [ 98314.19145409],\n",
              "       [ 98225.14755925],\n",
              "       [ 98136.1036644 ],\n",
              "       [ 98047.05976956],\n",
              "       [ 97958.01587472],\n",
              "       [ 97868.97197987],\n",
              "       [ 97779.92808503],\n",
              "       [ 97690.88419019],\n",
              "       [ 97601.84029534],\n",
              "       [ 97512.7964005 ],\n",
              "       [ 97423.75250566],\n",
              "       [ 97334.70861081],\n",
              "       [ 97245.66471597],\n",
              "       [ 97156.62082113],\n",
              "       [ 97067.57692629],\n",
              "       [ 96978.53303144],\n",
              "       [ 96889.4891366 ],\n",
              "       [ 96800.44524176],\n",
              "       [ 96711.40134691],\n",
              "       [ 96622.35745207],\n",
              "       [ 96533.31355723],\n",
              "       [ 96444.26966238],\n",
              "       [ 96355.22576754],\n",
              "       [ 96266.1818727 ],\n",
              "       [ 96177.13797785],\n",
              "       [ 96088.09408301],\n",
              "       [ 95999.05018817],\n",
              "       [ 95910.00629332],\n",
              "       [ 95820.96239848],\n",
              "       [ 95731.91850364],\n",
              "       [ 95642.8746088 ],\n",
              "       [ 95553.83071395],\n",
              "       [ 95464.78681911],\n",
              "       [ 95375.74292427],\n",
              "       [ 95286.69902942],\n",
              "       [ 95197.65513458],\n",
              "       [ 95108.61123974],\n",
              "       [ 95019.56734489],\n",
              "       [ 94930.52345005],\n",
              "       [ 94841.47955521],\n",
              "       [ 94752.43566036],\n",
              "       [ 94663.39176552],\n",
              "       [ 94574.34787068],\n",
              "       [ 94485.30397584],\n",
              "       [ 94396.26008099],\n",
              "       [ 94307.21618615],\n",
              "       [ 94218.17229131],\n",
              "       [ 94129.12839646],\n",
              "       [ 94040.08450162],\n",
              "       [ 93951.04060678],\n",
              "       [ 93861.99671193],\n",
              "       [ 93772.95281709],\n",
              "       [ 93683.90892225],\n",
              "       [ 93594.8650274 ],\n",
              "       [ 93505.82113256],\n",
              "       [ 93416.77723772],\n",
              "       [ 93327.73334288],\n",
              "       [ 93238.68944803],\n",
              "       [ 93149.64555319],\n",
              "       [ 93060.60165835],\n",
              "       [ 92971.5577635 ],\n",
              "       [ 92882.51386866],\n",
              "       [ 92793.46997382],\n",
              "       [ 92704.42607897],\n",
              "       [ 92615.38218413],\n",
              "       [ 92526.33828929],\n",
              "       [ 92437.29439444],\n",
              "       [ 92348.2504996 ],\n",
              "       [ 92259.20660476],\n",
              "       [ 92170.16270992],\n",
              "       [ 92081.11881507],\n",
              "       [ 91992.07492023],\n",
              "       [ 91903.03102539],\n",
              "       [ 91813.98713054],\n",
              "       [ 91724.9432357 ],\n",
              "       [ 91635.89934086],\n",
              "       [ 91546.85544601],\n",
              "       [ 91457.81155117],\n",
              "       [ 91368.76765633],\n",
              "       [ 91279.72376148],\n",
              "       [ 91190.67986664],\n",
              "       [ 91101.6359718 ],\n",
              "       [ 91012.59207696],\n",
              "       [ 90923.54818211],\n",
              "       [ 90834.50428727],\n",
              "       [ 90745.46039243],\n",
              "       [ 90656.41649758],\n",
              "       [ 90567.37260274],\n",
              "       [ 90478.3287079 ],\n",
              "       [ 90389.28481305],\n",
              "       [ 90300.24091821],\n",
              "       [ 90211.19702337],\n",
              "       [ 90122.15312852],\n",
              "       [ 90033.10923368],\n",
              "       [ 89944.06533884],\n",
              "       [ 89855.021444  ],\n",
              "       [ 89765.97754915],\n",
              "       [ 89676.93365431],\n",
              "       [ 89587.88975947],\n",
              "       [ 89498.84586462],\n",
              "       [ 89409.80196978],\n",
              "       [ 89320.75807494],\n",
              "       [ 89231.71418009],\n",
              "       [ 89142.67028525],\n",
              "       [ 89053.62639041],\n",
              "       [ 88964.58249556],\n",
              "       [ 88875.53860072],\n",
              "       [ 88786.49470588],\n",
              "       [ 88697.45081103],\n",
              "       [ 88608.40691619],\n",
              "       [ 88519.36302135],\n",
              "       [ 88430.31912651],\n",
              "       [ 88341.27523166],\n",
              "       [ 88252.23133682],\n",
              "       [ 88163.18744198],\n",
              "       [ 88074.14354713],\n",
              "       [ 87985.09965229],\n",
              "       [ 87896.05575745],\n",
              "       [ 87807.0118626 ],\n",
              "       [ 87717.96796776],\n",
              "       [ 87628.92407292],\n",
              "       [ 87539.88017807],\n",
              "       [ 87450.83628323],\n",
              "       [ 87361.79238839],\n",
              "       [ 87272.74849355],\n",
              "       [ 87183.7045987 ],\n",
              "       [ 87094.66070386],\n",
              "       [ 87005.61680902],\n",
              "       [ 86916.57291417],\n",
              "       [ 86827.52901933],\n",
              "       [ 86738.48512449],\n",
              "       [ 86649.44122964],\n",
              "       [ 86560.3973348 ],\n",
              "       [ 86471.35343996],\n",
              "       [ 86382.30954511],\n",
              "       [ 86293.26565027],\n",
              "       [ 86204.22175543],\n",
              "       [ 86115.17786059],\n",
              "       [ 86026.13396574],\n",
              "       [ 85937.0900709 ],\n",
              "       [ 85848.04617606],\n",
              "       [ 85759.00228121],\n",
              "       [ 85669.95838637],\n",
              "       [ 85580.91449153],\n",
              "       [ 85491.87059668],\n",
              "       [ 85402.82670184],\n",
              "       [ 85313.782807  ],\n",
              "       [ 85224.73891215],\n",
              "       [ 85135.69501731],\n",
              "       [ 85046.65112247],\n",
              "       [ 84957.60722763],\n",
              "       [ 84868.56333278],\n",
              "       [ 84779.51943794],\n",
              "       [ 84690.4755431 ],\n",
              "       [ 84601.43164825],\n",
              "       [ 84512.38775341],\n",
              "       [ 84423.34385857],\n",
              "       [ 84334.29996372],\n",
              "       [ 84245.25606888],\n",
              "       [ 84156.21217404],\n",
              "       [ 84067.16827919],\n",
              "       [ 83978.12438435],\n",
              "       [ 83889.08048951],\n",
              "       [ 83800.03659467],\n",
              "       [ 83710.99269982],\n",
              "       [ 83621.94880498],\n",
              "       [ 83532.90491014],\n",
              "       [ 83443.86101529],\n",
              "       [ 83354.81712045],\n",
              "       [ 83265.77322561],\n",
              "       [ 83176.72933076],\n",
              "       [ 83087.68543592],\n",
              "       [ 82998.64154108],\n",
              "       [ 82909.59764623],\n",
              "       [ 82820.55375139],\n",
              "       [ 82731.50985655],\n",
              "       [ 82642.46596171],\n",
              "       [ 82553.42206686],\n",
              "       [ 82464.37817202],\n",
              "       [ 82375.33427718],\n",
              "       [ 82286.29038233],\n",
              "       [ 82197.24648749],\n",
              "       [ 82108.20259265],\n",
              "       [ 82019.1586978 ],\n",
              "       [ 81930.11480296],\n",
              "       [ 81841.07090812],\n",
              "       [ 81752.02701327],\n",
              "       [ 81662.98311843],\n",
              "       [ 81573.93922359],\n",
              "       [ 81484.89532874],\n",
              "       [ 81395.8514339 ],\n",
              "       [ 81306.80753906],\n",
              "       [ 81217.76364422],\n",
              "       [ 81128.71974937],\n",
              "       [ 81039.67585453],\n",
              "       [ 80950.63195969],\n",
              "       [ 80861.58806484],\n",
              "       [ 80772.54417   ],\n",
              "       [ 80683.50027516],\n",
              "       [ 80594.45638031],\n",
              "       [ 80505.41248547],\n",
              "       [ 80416.36859063],\n",
              "       [ 80327.32469578],\n",
              "       [ 80238.28080094],\n",
              "       [ 80149.2369061 ],\n",
              "       [ 80060.19301126],\n",
              "       [ 79971.14911641],\n",
              "       [ 79882.10522157],\n",
              "       [ 79793.06132673],\n",
              "       [ 79704.01743188],\n",
              "       [ 79614.97353704],\n",
              "       [ 79525.9296422 ],\n",
              "       [ 79436.88574735],\n",
              "       [ 79347.84185251],\n",
              "       [ 79258.79795767],\n",
              "       [ 79169.75406282],\n",
              "       [ 79080.71016798],\n",
              "       [ 78991.66627314],\n",
              "       [ 78902.6223783 ],\n",
              "       [ 78813.57848345],\n",
              "       [ 78724.53458861],\n",
              "       [ 78635.49069377],\n",
              "       [ 78546.44679892],\n",
              "       [ 78457.40290408],\n",
              "       [ 78368.35900924],\n",
              "       [ 78279.31511439],\n",
              "       [ 78190.27121955],\n",
              "       [ 78101.22732471],\n",
              "       [ 78012.18342986],\n",
              "       [ 77923.13953502],\n",
              "       [ 77834.09564018],\n",
              "       [ 77745.05174534],\n",
              "       [ 77656.00785049],\n",
              "       [ 77566.96395565],\n",
              "       [ 77477.92006081],\n",
              "       [ 77388.87616596],\n",
              "       [ 77299.83227112],\n",
              "       [ 77210.78837628],\n",
              "       [ 77121.74448143],\n",
              "       [ 77032.70058659],\n",
              "       [ 76943.65669175],\n",
              "       [ 76854.6127969 ],\n",
              "       [ 76765.56890206],\n",
              "       [ 76676.52500722],\n",
              "       [ 76587.48111238],\n",
              "       [ 76498.43721753],\n",
              "       [ 76409.39332269],\n",
              "       [ 76320.34942785],\n",
              "       [ 76231.305533  ],\n",
              "       [ 76142.26163816],\n",
              "       [ 76053.21774332],\n",
              "       [ 75964.17384847],\n",
              "       [ 75875.12995363],\n",
              "       [ 75786.08605879],\n",
              "       [ 75697.04216394],\n",
              "       [ 75607.9982691 ],\n",
              "       [ 75518.95437426],\n",
              "       [ 75429.91047942],\n",
              "       [ 75340.86658457],\n",
              "       [ 75251.82268973],\n",
              "       [ 75162.77879489],\n",
              "       [ 75073.73490004],\n",
              "       [ 74984.6910052 ],\n",
              "       [ 74895.64711036],\n",
              "       [ 74806.60321551],\n",
              "       [ 74717.55932067],\n",
              "       [ 74628.51542583],\n",
              "       [ 74539.47153098],\n",
              "       [ 74450.42763614],\n",
              "       [ 74361.3837413 ]])"
            ]
          },
          "metadata": {},
          "execution_count": 52
        }
      ]
    },
    {
      "cell_type": "code",
      "metadata": {
        "colab": {
          "base_uri": "https://localhost:8080/",
          "height": 265
        },
        "id": "MLsYo63wnf_I",
        "outputId": "39326d20-de35-4f34-b060-bf4ff9180157"
      },
      "source": [
        "plt.scatter(x,y)\n",
        "plt.plot(x,Yp)\n",
        "plt.show()"
      ],
      "execution_count": 53,
      "outputs": [
        {
          "output_type": "display_data",
          "data": {
            "image/png": "[encoded data removed]",
            "text/plain": [
              "<Figure size 432x288 with 1 Axes>"
            ]
          },
          "metadata": {
            "needs_background": "light"
          }
        }
      ]
    },
    {
      "cell_type": "code",
      "metadata": {
        "colab": {
          "base_uri": "https://localhost:8080/"
        },
        "id": "MFXH_uvpoOyZ",
        "outputId": "9cd656d3-e6c3-4da6-8890-317e04daf1de"
      },
      "source": [
        "regressor.score(x,y)*100"
      ],
      "execution_count": 54,
      "outputs": [
        {
          "output_type": "execute_result",
          "data": {
            "text/plain": [
              "1.0105833738491499"
            ]
          },
          "metadata": {},
          "execution_count": 54
        }
      ]
    },
    {
      "cell_type": "code",
      "metadata": {
        "colab": {
          "base_uri": "https://localhost:8080/"
        },
        "id": "FV5qhcVYohr7",
        "outputId": "11a83556-e897-4586-c04f-7ee50b40e06e"
      },
      "source": [
        "regressor.intercept_"
      ],
      "execution_count": 55,
      "outputs": [
        {
          "output_type": "execute_result",
          "data": {
            "text/plain": [
              "array([106773.36146418])"
            ]
          },
          "metadata": {},
          "execution_count": 55
        }
      ]
    },
    {
      "cell_type": "code",
      "metadata": {
        "colab": {
          "base_uri": "https://localhost:8080/"
        },
        "id": "9ev9hlAGomqf",
        "outputId": "e4718dd0-8256-4dfc-e6e8-fef9087dbe83"
      },
      "source": [
        "regressor.coef_"
      ],
      "execution_count": 56,
      "outputs": [
        {
          "output_type": "execute_result",
          "data": {
            "text/plain": [
              "array([[-89.04389484]])"
            ]
          },
          "metadata": {},
          "execution_count": 56
        }
      ]
    },
    {
      "cell_type": "markdown",
      "metadata": {
        "id": "G6fJ38mPqgg3"
      },
      "source": [
        "**Predication Using Polynomial Regression**"
      ]
    },
    {
      "cell_type": "code",
      "metadata": {
        "colab": {
          "base_uri": "https://localhost:8080/"
        },
        "id": "qo4z-zdioqzK",
        "outputId": "e02b71bf-aba0-49b4-c072-b47626482f24"
      },
      "source": [
        "from sklearn.preprocessing import PolynomialFeatures\n",
        "Poly=PolynomialFeatures(degree=7)\n",
        "X=Poly.fit_transform(x)\n",
        "X"
      ],
      "execution_count": 121,
      "outputs": [
        {
          "output_type": "execute_result",
          "data": {
            "text/plain": [
              "array([[1.00000000e+00, 0.00000000e+00, 0.00000000e+00, ...,\n",
              "        0.00000000e+00, 0.00000000e+00, 0.00000000e+00],\n",
              "       [1.00000000e+00, 1.00000000e+00, 1.00000000e+00, ...,\n",
              "        1.00000000e+00, 1.00000000e+00, 1.00000000e+00],\n",
              "       [1.00000000e+00, 2.00000000e+00, 4.00000000e+00, ...,\n",
              "        3.20000000e+01, 6.40000000e+01, 1.28000000e+02],\n",
              "       ...,\n",
              "       [1.00000000e+00, 3.62000000e+02, 1.31044000e+05, ...,\n",
              "        6.21645584e+12, 2.25035701e+15, 8.14629239e+17],\n",
              "       [1.00000000e+00, 3.63000000e+02, 1.31769000e+05, ...,\n",
              "        6.30279418e+12, 2.28791429e+15, 8.30512886e+17],\n",
              "       [1.00000000e+00, 3.64000000e+02, 1.32496000e+05, ...,\n",
              "        6.39008917e+12, 2.32599246e+15, 8.46661254e+17]])"
            ]
          },
          "metadata": {},
          "execution_count": 121
        }
      ]
    },
    {
      "cell_type": "code",
      "metadata": {
        "colab": {
          "base_uri": "https://localhost:8080/",
          "height": 417
        },
        "id": "5JHuFz1Jr6hP",
        "outputId": "f2ac3ef0-8dad-45a9-92f8-11775c6c0107"
      },
      "source": [
        "pd.DataFrame(X)"
      ],
      "execution_count": 122,
      "outputs": [
        {
          "output_type": "execute_result",
          "data": {
            "text/html": [
              "<div>\n",
              "<style scoped>\n",
              "    .dataframe tbody tr th:only-of-type {\n",
              "        vertical-align: middle;\n",
              "    }\n",
              "\n",
              "    .dataframe tbody tr th {\n",
              "        vertical-align: top;\n",
              "    }\n",
              "\n",
              "    .dataframe thead th {\n",
              "        text-align: right;\n",
              "    }\n",
              "</style>\n",
              "<table border=\"1\" class=\"dataframe\">\n",
              "  <thead>\n",
              "    <tr style=\"text-align: right;\">\n",
              "      <th></th>\n",
              "      <th>0</th>\n",
              "      <th>1</th>\n",
              "      <th>2</th>\n",
              "      <th>3</th>\n",
              "      <th>4</th>\n",
              "      <th>5</th>\n",
              "      <th>6</th>\n",
              "      <th>7</th>\n",
              "    </tr>\n",
              "  </thead>\n",
              "  <tbody>\n",
              "    <tr>\n",
              "      <th>0</th>\n",
              "      <td>1.0</td>\n",
              "      <td>0.0</td>\n",
              "      <td>0.0</td>\n",
              "      <td>0.0</td>\n",
              "      <td>0.000000e+00</td>\n",
              "      <td>0.000000e+00</td>\n",
              "      <td>0.000000e+00</td>\n",
              "      <td>0.000000e+00</td>\n",
              "    </tr>\n",
              "    <tr>\n",
              "      <th>1</th>\n",
              "      <td>1.0</td>\n",
              "      <td>1.0</td>\n",
              "      <td>1.0</td>\n",
              "      <td>1.0</td>\n",
              "      <td>1.000000e+00</td>\n",
              "      <td>1.000000e+00</td>\n",
              "      <td>1.000000e+00</td>\n",
              "      <td>1.000000e+00</td>\n",
              "    </tr>\n",
              "    <tr>\n",
              "      <th>2</th>\n",
              "      <td>1.0</td>\n",
              "      <td>2.0</td>\n",
              "      <td>4.0</td>\n",
              "      <td>8.0</td>\n",
              "      <td>1.600000e+01</td>\n",
              "      <td>3.200000e+01</td>\n",
              "      <td>6.400000e+01</td>\n",
              "      <td>1.280000e+02</td>\n",
              "    </tr>\n",
              "    <tr>\n",
              "      <th>3</th>\n",
              "      <td>1.0</td>\n",
              "      <td>3.0</td>\n",
              "      <td>9.0</td>\n",
              "      <td>27.0</td>\n",
              "      <td>8.100000e+01</td>\n",
              "      <td>2.430000e+02</td>\n",
              "      <td>7.290000e+02</td>\n",
              "      <td>2.187000e+03</td>\n",
              "    </tr>\n",
              "    <tr>\n",
              "      <th>4</th>\n",
              "      <td>1.0</td>\n",
              "      <td>4.0</td>\n",
              "      <td>16.0</td>\n",
              "      <td>64.0</td>\n",
              "      <td>2.560000e+02</td>\n",
              "      <td>1.024000e+03</td>\n",
              "      <td>4.096000e+03</td>\n",
              "      <td>1.638400e+04</td>\n",
              "    </tr>\n",
              "    <tr>\n",
              "      <th>...</th>\n",
              "      <td>...</td>\n",
              "      <td>...</td>\n",
              "      <td>...</td>\n",
              "      <td>...</td>\n",
              "      <td>...</td>\n",
              "      <td>...</td>\n",
              "      <td>...</td>\n",
              "      <td>...</td>\n",
              "    </tr>\n",
              "    <tr>\n",
              "      <th>360</th>\n",
              "      <td>1.0</td>\n",
              "      <td>360.0</td>\n",
              "      <td>129600.0</td>\n",
              "      <td>46656000.0</td>\n",
              "      <td>1.679616e+10</td>\n",
              "      <td>6.046618e+12</td>\n",
              "      <td>2.176782e+15</td>\n",
              "      <td>7.836416e+17</td>\n",
              "    </tr>\n",
              "    <tr>\n",
              "      <th>361</th>\n",
              "      <td>1.0</td>\n",
              "      <td>361.0</td>\n",
              "      <td>130321.0</td>\n",
              "      <td>47045881.0</td>\n",
              "      <td>1.698356e+10</td>\n",
              "      <td>6.131066e+12</td>\n",
              "      <td>2.213315e+15</td>\n",
              "      <td>7.990067e+17</td>\n",
              "    </tr>\n",
              "    <tr>\n",
              "      <th>362</th>\n",
              "      <td>1.0</td>\n",
              "      <td>362.0</td>\n",
              "      <td>131044.0</td>\n",
              "      <td>47437928.0</td>\n",
              "      <td>1.717253e+10</td>\n",
              "      <td>6.216456e+12</td>\n",
              "      <td>2.250357e+15</td>\n",
              "      <td>8.146292e+17</td>\n",
              "    </tr>\n",
              "    <tr>\n",
              "      <th>363</th>\n",
              "      <td>1.0</td>\n",
              "      <td>363.0</td>\n",
              "      <td>131769.0</td>\n",
              "      <td>47832147.0</td>\n",
              "      <td>1.736307e+10</td>\n",
              "      <td>6.302794e+12</td>\n",
              "      <td>2.287914e+15</td>\n",
              "      <td>8.305129e+17</td>\n",
              "    </tr>\n",
              "    <tr>\n",
              "      <th>364</th>\n",
              "      <td>1.0</td>\n",
              "      <td>364.0</td>\n",
              "      <td>132496.0</td>\n",
              "      <td>48228544.0</td>\n",
              "      <td>1.755519e+10</td>\n",
              "      <td>6.390089e+12</td>\n",
              "      <td>2.325992e+15</td>\n",
              "      <td>8.466613e+17</td>\n",
              "    </tr>\n",
              "  </tbody>\n",
              "</table>\n",
              "<p>365 rows × 8 columns</p>\n",
              "</div>"
            ],
            "text/plain": [
              "       0      1         2  ...             5             6             7\n",
              "0    1.0    0.0       0.0  ...  0.000000e+00  0.000000e+00  0.000000e+00\n",
              "1    1.0    1.0       1.0  ...  1.000000e+00  1.000000e+00  1.000000e+00\n",
              "2    1.0    2.0       4.0  ...  3.200000e+01  6.400000e+01  1.280000e+02\n",
              "3    1.0    3.0       9.0  ...  2.430000e+02  7.290000e+02  2.187000e+03\n",
              "4    1.0    4.0      16.0  ...  1.024000e+03  4.096000e+03  1.638400e+04\n",
              "..   ...    ...       ...  ...           ...           ...           ...\n",
              "360  1.0  360.0  129600.0  ...  6.046618e+12  2.176782e+15  7.836416e+17\n",
              "361  1.0  361.0  130321.0  ...  6.131066e+12  2.213315e+15  7.990067e+17\n",
              "362  1.0  362.0  131044.0  ...  6.216456e+12  2.250357e+15  8.146292e+17\n",
              "363  1.0  363.0  131769.0  ...  6.302794e+12  2.287914e+15  8.305129e+17\n",
              "364  1.0  364.0  132496.0  ...  6.390089e+12  2.325992e+15  8.466613e+17\n",
              "\n",
              "[365 rows x 8 columns]"
            ]
          },
          "metadata": {},
          "execution_count": 122
        }
      ]
    },
    {
      "cell_type": "code",
      "metadata": {
        "colab": {
          "base_uri": "https://localhost:8080/"
        },
        "id": "aoXChj5zsBxF",
        "outputId": "c3058e09-b74c-41ae-c6c0-6837cb194a82"
      },
      "source": [
        "\n",
        "\n",
        "from sklearn.linear_model import LinearRegression\n",
        "reg=LinearRegression()\n",
        "reg.fit(X,y)"
      ],
      "execution_count": 123,
      "outputs": [
        {
          "output_type": "execute_result",
          "data": {
            "text/plain": [
              "LinearRegression(copy_X=True, fit_intercept=True, n_jobs=None, normalize=False)"
            ]
          },
          "metadata": {},
          "execution_count": 123
        }
      ]
    },
    {
      "cell_type": "code",
      "metadata": {
        "colab": {
          "base_uri": "https://localhost:8080/"
        },
        "id": "Rxf7VNP2sfBp",
        "outputId": "be6c093f-0cef-4a62-eb37-1e36cdf949e6"
      },
      "source": [
        "reg.intercept_"
      ],
      "execution_count": 124,
      "outputs": [
        {
          "output_type": "execute_result",
          "data": {
            "text/plain": [
              "array([21049.79604431])"
            ]
          },
          "metadata": {},
          "execution_count": 124
        }
      ]
    },
    {
      "cell_type": "code",
      "metadata": {
        "colab": {
          "base_uri": "https://localhost:8080/"
        },
        "id": "cB6TNX2AslkJ",
        "outputId": "c8bf8a13-60b1-4c6e-aa3a-96109cbb7ef9"
      },
      "source": [
        "reg.coef_"
      ],
      "execution_count": 125,
      "outputs": [
        {
          "output_type": "execute_result",
          "data": {
            "text/plain": [
              "array([[ 0.00000000e+00, -1.98337736e+00, -1.16860328e+02,\n",
              "         3.88295126e+00, -4.08967664e-02,  1.92959221e-04,\n",
              "        -4.25025008e-07,  3.56494834e-10]])"
            ]
          },
          "metadata": {},
          "execution_count": 125
        }
      ]
    },
    {
      "cell_type": "code",
      "metadata": {
        "colab": {
          "base_uri": "https://localhost:8080/"
        },
        "id": "yOBL-PNQsrJW",
        "outputId": "50a033ea-2758-4a21-dd70-b294e46e7086"
      },
      "source": [
        "pyp = reg.predict(X)\n",
        "pyp\n"
      ],
      "execution_count": 126,
      "outputs": [
        {
          "output_type": "execute_result",
          "data": {
            "text/plain": [
              "array([[ 21049.79604431],\n",
              "       [ 20934.7945858 ],\n",
              "       [ 20608.80338627],\n",
              "       [ 20093.67658473],\n",
              "       [ 19410.33244794],\n",
              "       [ 18578.77576653],\n",
              "       [ 17618.11995033],\n",
              "       [ 16546.60882504],\n",
              "       [ 15381.63813175],\n",
              "       [ 14139.77673126],\n",
              "       [ 12836.78751497],\n",
              "       [ 11487.64802411],\n",
              "       [ 10106.57077912],\n",
              "       [  8707.02332101],\n",
              "       [  7301.74796641],\n",
              "       [  5902.78127821],\n",
              "       [  4521.47325356],\n",
              "       [  3168.5062309 ],\n",
              "       [  1853.91351804],\n",
              "       [   587.09774294],\n",
              "       [  -623.15107103],\n",
              "       [ -1768.6377035 ],\n",
              "       [ -2841.74420729],\n",
              "       [ -3835.41264882],\n",
              "       [ -4743.12811675],\n",
              "       [ -5558.90199707],\n",
              "       [ -6277.25551292],\n",
              "       [ -6893.20352735],\n",
              "       [ -7402.23860709],\n",
              "       [ -7800.31534569],\n",
              "       [ -8083.83494414],\n",
              "       [ -8249.6300472 ],\n",
              "       [ -8294.94983364],\n",
              "       [ -8217.44535863],\n",
              "       [ -8015.15514638],\n",
              "       [ -7686.4910314 ],\n",
              "       [ -7230.22424638],\n",
              "       [ -6645.47175505],\n",
              "       [ -5931.68282822],\n",
              "       [ -5088.62586105],\n",
              "       [ -4116.37542995],\n",
              "       [ -3015.29958719],\n",
              "       [ -1786.04739143],\n",
              "       [  -429.53667243],\n",
              "       [  1053.05797187],\n",
              "       [  2660.3169478 ],\n",
              "       [  4390.58720951],\n",
              "       [  6241.99357572],\n",
              "       [  8212.44982117],\n",
              "       [ 10299.6695448 ],\n",
              "       [ 12501.17681628],\n",
              "       [ 14814.31660282],\n",
              "       [ 17236.26497798],\n",
              "       [ 19764.03911429],\n",
              "       [ 22394.50706154],\n",
              "       [ 25124.39731237],\n",
              "       [ 27950.30815721],\n",
              "       [ 30868.7168301 ],\n",
              "       [ 33875.98844739],\n",
              "       [ 36968.38474102],\n",
              "       [ 40142.07258817],\n",
              "       [ 43393.13233915],\n",
              "       [ 46717.56594525],\n",
              "       [ 50111.30488835],\n",
              "       [ 53570.21791416],\n",
              "       [ 57090.11857084],\n",
              "       [ 60666.77255476],\n",
              "       [ 64295.90486524],\n",
              "       [ 67973.20677009],\n",
              "       [ 71694.34258369],\n",
              "       [ 75454.95625943],\n",
              "       [ 79250.67779833],\n",
              "       [ 83077.12947563],\n",
              "       [ 86929.93188704],\n",
              "       [ 90804.7098167 ],\n",
              "       [ 94697.09792833],\n",
              "       [ 98602.7462816 ],\n",
              "       [102517.32567547],\n",
              "       [106436.53282019],\n",
              "       [110356.09533987],\n",
              "       [114271.77660741],\n",
              "       [118179.38041352],\n",
              "       [122074.75547164],\n",
              "       [125953.79976067],\n",
              "       [129812.4647071 ],\n",
              "       [133646.75920859],\n",
              "       [137452.7535005 ],\n",
              "       [141226.58286749],\n",
              "       [144964.4512017 ],\n",
              "       [148662.63440952],\n",
              "       [152317.48366855],\n",
              "       [155925.42853682],\n",
              "       [159482.9799157 ],\n",
              "       [162986.73286869],\n",
              "       [166433.36929755],\n",
              "       [169819.66047777],\n",
              "       [173142.46945517],\n",
              "       [176398.75330524],\n",
              "       [179585.56525731],\n",
              "       [182700.05668504],\n",
              "       [185739.47896532],\n",
              "       [188701.18520709],\n",
              "       [191582.63185214],\n",
              "       [194381.38014947],\n",
              "       [197095.09750517],\n",
              "       [199721.55870954],\n",
              "       [202258.64704317],\n",
              "       [204704.35526403],\n",
              "       [207056.78647701],\n",
              "       [209314.15488803],\n",
              "       [211474.78644435],\n",
              "       [213537.11936287],\n",
              "       [215499.70454829],\n",
              "       [217361.20590288],\n",
              "       [219120.40052972],\n",
              "       [220776.17883105],\n",
              "       [222327.54450374],\n",
              "       [223773.6144335 ],\n",
              "       [225113.61848973],\n",
              "       [226346.89922278],\n",
              "       [227472.91146535],\n",
              "       [228491.22183999],\n",
              "       [229401.50817429],\n",
              "       [230203.55882572],\n",
              "       [230897.27191783],\n",
              "       [231482.65448966],\n",
              "       [231959.82156013],\n",
              "       [232328.99510914],\n",
              "       [232590.50297734],\n",
              "       [232744.77768621],\n",
              "       [232792.35518033],\n",
              "       [232733.87349358],\n",
              "       [232570.0713412 ],\n",
              "       [232301.78663924],\n",
              "       [231929.95495353],\n",
              "       [231455.60787968],\n",
              "       [230879.87135614],\n",
              "       [230203.96391187],\n",
              "       [229429.1948507 ],\n",
              "       [228556.96237387],\n",
              "       [227588.75164285],\n",
              "       [226526.13278399],\n",
              "       [225370.75883697],\n",
              "       [224124.3636487 ],\n",
              "       [222788.75971461],\n",
              "       [221365.83596899],\n",
              "       [219857.55552636],\n",
              "       [218265.9533754 ],\n",
              "       [216593.13402749],\n",
              "       [214841.26912155],\n",
              "       [213012.59498695],\n",
              "       [211109.4101663 ],\n",
              "       [209134.07290002],\n",
              "       [207088.99857429],\n",
              "       [204976.6571344 ],\n",
              "       [202799.57046509],\n",
              "       [200560.30973985],\n",
              "       [198261.49274081],\n",
              "       [195905.78115125],\n",
              "       [193495.87782218],\n",
              "       [191034.52401519],\n",
              "       [188524.49662302],\n",
              "       [185968.60536989],\n",
              "       [183369.68999324],\n",
              "       [180730.61740868],\n",
              "       [178054.27886016],\n",
              "       [175343.58705678],\n",
              "       [172601.47329834],\n",
              "       [169830.88459143],\n",
              "       [167034.7807576 ],\n",
              "       [164216.1315356 ],\n",
              "       [161377.9136796 ],\n",
              "       [158523.10805478],\n",
              "       [155654.69673263],\n",
              "       [152775.66008724],\n",
              "       [149888.97389479],\n",
              "       [146997.60643766],\n",
              "       [144104.5156154 ],\n",
              "       [141212.64606388],\n",
              "       [138324.9262848 ],\n",
              "       [135444.26578713],\n",
              "       [132573.55224234],\n",
              "       [129715.6486553 ],\n",
              "       [126873.39055258],\n",
              "       [124049.58318973],\n",
              "       [121246.99877988],\n",
              "       [118468.37374491],\n",
              "       [115716.40599111],\n",
              "       [112993.75221158],\n",
              "       [110303.02521639],\n",
              "       [107646.79129303],\n",
              "       [105027.56759838],\n",
              "       [102447.81958443],\n",
              "       [ 99909.95845937],\n",
              "       [ 97416.33868552],\n",
              "       [ 94969.25551673],\n",
              "       [ 92570.94257611],\n",
              "       [ 90223.56947646],\n",
              "       [ 87929.23948507],\n",
              "       [ 85689.98723464],\n",
              "       [ 83507.77648212],\n",
              "       [ 81384.4979173 ],\n",
              "       [ 79321.9670229 ],\n",
              "       [ 77321.92198809],\n",
              "       [ 75386.02167696],\n",
              "       [ 73515.84365413],\n",
              "       [ 71712.8822689 ],\n",
              "       [ 69978.54679987],\n",
              "       [ 68314.1596623 ],\n",
              "       [ 66720.95467894],\n",
              "       [ 65200.07541721],\n",
              "       [ 63752.57359399],\n",
              "       [ 62379.40754988],\n",
              "       [ 61081.44079461],\n",
              "       [ 59859.44062596],\n",
              "       [ 58714.07682305],\n",
              "       [ 57645.92041664],\n",
              "       [ 56655.44253798],\n",
              "       [ 55743.01334759],\n",
              "       [ 54908.9010463 ],\n",
              "       [ 54153.27097051],\n",
              "       [ 53476.18477248],\n",
              "       [ 52877.59968852],\n",
              "       [ 52357.36789625],\n",
              "       [ 51915.23596313],\n",
              "       [ 51550.84438773],\n",
              "       [ 51263.7272354 ],\n",
              "       [ 51053.31187089],\n",
              "       [ 50918.91878878],\n",
              "       [ 50859.76154431],\n",
              "       [ 50874.94678565],\n",
              "       [ 50963.47439017],\n",
              "       [ 51124.23770602],\n",
              "       [ 51356.02390086],\n",
              "       [ 51657.51441963],\n",
              "       [ 52027.28555347],\n",
              "       [ 52463.80912038],\n",
              "       [ 52965.45326169],\n",
              "       [ 53530.48335346],\n",
              "       [ 54157.06303628],\n",
              "       [ 54843.25536557],\n",
              "       [ 55587.0240822 ],\n",
              "       [ 56386.23500775],\n",
              "       [ 57238.65756412],\n",
              "       [ 58141.96642067],\n",
              "       [ 59093.7432697 ],\n",
              "       [ 60091.47873296],\n",
              "       [ 61132.57440009],\n",
              "       [ 62214.34500184],\n",
              "       [ 63334.02071839],\n",
              "       [ 64488.7496266 ],\n",
              "       [ 65675.60028555],\n",
              "       [ 66891.56446477],\n",
              "       [ 68133.56001427],\n",
              "       [ 69398.43388077],\n",
              "       [ 70682.96526982],\n",
              "       [ 71983.86895706],\n",
              "       [ 73297.79874935],\n",
              "       [ 74621.35109838],\n",
              "       [ 75951.068868  ],\n",
              "       [ 77283.44525768],\n",
              "       [ 78614.92788281],\n",
              "       [ 79941.92301514],\n",
              "       [ 81260.79998406],\n",
              "       [ 82567.89574017],\n",
              "       [ 83859.51958468],\n",
              "       [ 85131.95806458],\n",
              "       [ 86381.48003628],\n",
              "       [ 87604.34189959],\n",
              "       [ 88796.79300322],\n",
              "       [ 89955.08122452],\n",
              "       [ 91075.4587241 ],\n",
              "       [ 92154.18787821],\n",
              "       [ 93187.54739018],\n",
              "       [ 94171.83858271],\n",
              "       [ 95103.39187237],\n",
              "       [ 95978.57342972],\n",
              "       [ 96793.79202421],\n",
              "       [ 97545.50605877],\n",
              "       [ 98230.23079308],\n",
              "       [ 98844.54575862],\n",
              "       [ 99385.10236849],\n",
              "       [ 99848.63172038],\n",
              "       [100231.95259841],\n",
              "       [100531.97967299],\n",
              "       [100745.73190149],\n",
              "       [100870.34113147],\n",
              "       [100903.0609081 ],\n",
              "       [100841.27548726],\n",
              "       [100682.50905748],\n",
              "       [100424.43517037],\n",
              "       [100064.88638325],\n",
              "       [ 99601.86411472],\n",
              "       [ 99033.54871507],\n",
              "       [ 98358.30975457],\n",
              "       [ 97574.71652861],\n",
              "       [ 96681.54878481],\n",
              "       [ 95677.80767186],\n",
              "       [ 94562.7269115 ],\n",
              "       [ 93335.7841986 ],\n",
              "       [ 91996.71282597],\n",
              "       [ 90545.5135407 ],\n",
              "       [ 88982.46663078],\n",
              "       [ 87308.14424523],\n",
              "       [ 85523.42294796],\n",
              "       [ 83629.49650999],\n",
              "       [ 81627.88893863],\n",
              "       [ 79520.46774669],\n",
              "       [ 77309.45746537],\n",
              "       [ 74997.45339938],\n",
              "       [ 72587.43562766],\n",
              "       [ 70082.78325256],\n",
              "       [ 67487.28889724],\n",
              "       [ 64805.17345401],\n",
              "       [ 62041.10108658],\n",
              "       [ 59200.1944855 ],\n",
              "       [ 56288.05038043],\n",
              "       [ 53310.75531157],\n",
              "       [ 50274.90165814],\n",
              "       [ 47187.60393341],\n",
              "       [ 44056.5153379 ],\n",
              "       [ 40889.84458204],\n",
              "       [ 37696.37297364],\n",
              "       [ 34485.47177549],\n",
              "       [ 31267.11983355],\n",
              "       [ 28051.92147656],\n",
              "       [ 24851.12469121],\n",
              "       [ 21676.63957365],\n",
              "       [ 18541.05705734],\n",
              "       [ 15457.66792234],\n",
              "       [ 12440.48208507],\n",
              "       [  9504.24817129],\n",
              "       [  6664.47337504],\n",
              "       [  3937.44360491],\n",
              "       [  1340.24391599],\n",
              "       [ -1109.2207642 ],\n",
              "       [ -3392.20461873],\n",
              "       [ -5489.0996304 ],\n",
              "       [ -7379.41397528],\n",
              "       [ -9041.75011806],\n",
              "       [-10453.78260831],\n",
              "       [-11592.23557381],\n",
              "       [-12432.85991387],\n",
              "       [-12950.41018562],\n",
              "       [-13118.6211832 ],\n",
              "       [-12910.18421082],\n",
              "       [-12296.72304253],\n",
              "       [-11248.76957301],\n",
              "       [ -9735.73915199],\n",
              "       [ -7725.90560464],\n",
              "       [ -5186.37593369],\n",
              "       [ -2083.06470303],\n",
              "       [  1619.33190223],\n",
              "       [  5957.36233326],\n",
              "       [ 10968.84626575],\n",
              "       [ 16692.9015102 ],\n",
              "       [ 23169.97125264],\n",
              "       [ 30441.85162493],\n",
              "       [ 38551.71960541],\n",
              "       [ 47544.16125627],\n",
              "       [ 57465.20029302],\n",
              "       [ 68362.32699414],\n",
              "       [ 80284.52744599],\n",
              "       [ 93282.3131332 ],\n",
              "       [107407.75086733]])"
            ]
          },
          "metadata": {},
          "execution_count": 126
        }
      ]
    },
    {
      "cell_type": "code",
      "metadata": {
        "colab": {
          "base_uri": "https://localhost:8080/",
          "height": 265
        },
        "id": "j-mfaEo2tGtz",
        "outputId": "26a16785-806f-488f-de17-1da230c28a19"
      },
      "source": [
        "plt.scatter(x,y)\n",
        "plt.plot(x,Yp,color='k')\n",
        "plt.show()"
      ],
      "execution_count": 127,
      "outputs": [
        {
          "output_type": "display_data",
          "data": {
            "image/png": "[encoded data removed]",
            "text/plain": [
              "<Figure size 432x288 with 1 Axes>"
            ]
          },
          "metadata": {
            "needs_background": "light"
          }
        }
      ]
    },
    {
      "cell_type": "code",
      "metadata": {
        "colab": {
          "base_uri": "https://localhost:8080/"
        },
        "id": "b3V4dksstYJM",
        "outputId": "8ac17f5f-47e9-4dd2-9f9f-0952f9e4ecd0"
      },
      "source": [
        "reg.score(X,y)*100"
      ],
      "execution_count": 128,
      "outputs": [
        {
          "output_type": "execute_result",
          "data": {
            "text/plain": [
              "62.40952525850585"
            ]
          },
          "metadata": {},
          "execution_count": 128
        }
      ]
    },
    {
      "cell_type": "code",
      "metadata": {
        "colab": {
          "base_uri": "https://localhost:8080/",
          "height": 162
        },
        "id": "YPpT_5Attjmu",
        "outputId": "96dd17b6-b08d-4e1e-c0d2-0f362fa7e138"
      },
      "source": [
        "reg.predict(Poly.transform[[122]])\n",
        "   "
      ],
      "execution_count": 131,
      "outputs": [
        {
          "output_type": "error",
          "ename": "TypeError",
          "evalue": "ignored",
          "traceback": [
            "\u001b[0;31m---------------------------------------------------------------------------\u001b[0m",
            "\u001b[0;31mTypeError\u001b[0m                                 Traceback (most recent call last)",
            "\u001b[0;32m<ipython-input-131-9f23fed6da23>\u001b[0m in \u001b[0;36m<module>\u001b[0;34m()\u001b[0m\n\u001b[0;32m----> 1\u001b[0;31m \u001b[0mreg\u001b[0m\u001b[0;34m.\u001b[0m\u001b[0mpredict\u001b[0m\u001b[0;34m(\u001b[0m\u001b[0mPoly\u001b[0m\u001b[0;34m.\u001b[0m\u001b[0mtransform\u001b[0m\u001b[0;34m[\u001b[0m\u001b[0;34m[\u001b[0m\u001b[0;36m122\u001b[0m\u001b[0;34m]\u001b[0m\u001b[0;34m]\u001b[0m\u001b[0;34m)\u001b[0m\u001b[0;34m\u001b[0m\u001b[0;34m\u001b[0m\u001b[0m\n\u001b[0m",
            "\u001b[0;31mTypeError\u001b[0m: 'method' object is not subscriptable"
          ]
        }
      ]
    },
    {
      "cell_type": "markdown",
      "metadata": {
        "id": "W2w7u0Bixjfg"
      },
      "source": [
        "**Pridication Using Support Vector Mechanism**"
      ]
    },
    {
      "cell_type": "code",
      "metadata": {
        "id": "3IaJdHg50fUp"
      },
      "source": [
        "y=y.reshape(-1,1)"
      ],
      "execution_count": 137,
      "outputs": []
    },
    {
      "cell_type": "code",
      "metadata": {
        "id": "TZ_WPoRWvAic"
      },
      "source": [
        "from sklearn.preprocessing import StandardScaler\n",
        "sc_x=StandardScaler()\n",
        "sc_y=StandardScaler()"
      ],
      "execution_count": 138,
      "outputs": []
    },
    {
      "cell_type": "code",
      "metadata": {
        "id": "8vmTfEogxhFw"
      },
      "source": [
        "\n",
        "Sx=sc_x.fit_transform(x)\n",
        "Sy=sc_y.fit_transform(y)"
      ],
      "execution_count": 139,
      "outputs": []
    },
    {
      "cell_type": "code",
      "metadata": {
        "colab": {
          "base_uri": "https://localhost:8080/"
        },
        "id": "BvGAqtf-05or",
        "outputId": "ba285545-e95c-4a98-adb0-35fe91a33213"
      },
      "source": [
        "from sklearn.svm import SVR\n",
        "reg1=SVR(kernel='rbf')\n",
        "reg1.fit(Sx,Sy)"
      ],
      "execution_count": 140,
      "outputs": [
        {
          "output_type": "stream",
          "name": "stderr",
          "text": [
            "/usr/local/lib/python3.7/dist-packages/sklearn/utils/validation.py:760: DataConversionWarning: A column-vector y was passed when a 1d array was expected. Please change the shape of y to (n_samples, ), for example using ravel().\n",
            "  y = column_or_1d(y, warn=True)\n"
          ]
        },
        {
          "output_type": "execute_result",
          "data": {
            "text/plain": [
              "SVR(C=1.0, cache_size=200, coef0=0.0, degree=3, epsilon=0.1, gamma='scale',\n",
              "    kernel='rbf', max_iter=-1, shrinking=True, tol=0.001, verbose=False)"
            ]
          },
          "metadata": {},
          "execution_count": 140
        }
      ]
    },
    {
      "cell_type": "code",
      "metadata": {
        "colab": {
          "base_uri": "https://localhost:8080/"
        },
        "id": "aFukmlJg1m4i",
        "outputId": "0bb9fd10-6f43-47f9-8ccd-bfcb06557138"
      },
      "source": [
        "reg1.score(Sx,Sy)*100"
      ],
      "execution_count": 141,
      "outputs": [
        {
          "output_type": "execute_result",
          "data": {
            "text/plain": [
              "55.62272980022755"
            ]
          },
          "metadata": {},
          "execution_count": 141
        }
      ]
    },
    {
      "cell_type": "code",
      "metadata": {
        "colab": {
          "base_uri": "https://localhost:8080/",
          "height": 265
        },
        "id": "6fr93hi_1z-W",
        "outputId": "ea3abc0f-83f1-4eb0-b79a-4fc606fedc04"
      },
      "source": [
        "plt.scatter(Sx,Sy)\n",
        "plt.plot(Sx,reg1.predict(Sx),color='k')\n",
        "plt.show()"
      ],
      "execution_count": 145,
      "outputs": [
        {
          "output_type": "display_data",
          "data": {
            "image/png": "[encoded data removed]",
            "text/plain": [
              "<Figure size 432x288 with 1 Axes>"
            ]
          },
          "metadata": {
            "needs_background": "light"
          }
        }
      ]
    },
    {
      "cell_type": "markdown",
      "metadata": {
        "id": "3GvBgfgp6HU5"
      },
      "source": [
        "**Decision Tree Regression**"
      ]
    },
    {
      "cell_type": "code",
      "metadata": {
        "colab": {
          "base_uri": "https://localhost:8080/"
        },
        "id": "LAXiSqPi3mbA",
        "outputId": "86b714d3-ffa9-4e75-faad-6a3fc3fbb4d0"
      },
      "source": [
        "from sklearn.tree import DecisionTreeRegressor\n",
        "reg2=DecisionTreeRegressor()\n",
        "reg2.fit(x,y)"
      ],
      "execution_count": 146,
      "outputs": [
        {
          "output_type": "execute_result",
          "data": {
            "text/plain": [
              "DecisionTreeRegressor(ccp_alpha=0.0, criterion='mse', max_depth=None,\n",
              "                      max_features=None, max_leaf_nodes=None,\n",
              "                      min_impurity_decrease=0.0, min_impurity_split=None,\n",
              "                      min_samples_leaf=1, min_samples_split=2,\n",
              "                      min_weight_fraction_leaf=0.0, presort='deprecated',\n",
              "                      random_state=None, splitter='best')"
            ]
          },
          "metadata": {},
          "execution_count": 146
        }
      ]
    },
    {
      "cell_type": "code",
      "metadata": {
        "colab": {
          "base_uri": "https://localhost:8080/"
        },
        "id": "qxbEDt7W-G0z",
        "outputId": "1c44b70c-30b6-4335-a895-56fb08f1d1b8"
      },
      "source": [
        "Dyp=reg2.predict(x)\n",
        "Dyp"
      ],
      "execution_count": 148,
      "outputs": [
        {
          "output_type": "execute_result",
          "data": {
            "text/plain": [
              "array([ 20159.,  18144.,  16678.,  16278.,  17909.,  20472.,  18123.,\n",
              "        18453.,  18820.,  16086.,  12481.,  15903.,  17015.,  15677.,\n",
              "        15155.,  15050.,  13962.,   9987.,  13787.,  15279.,  14495.,\n",
              "        14323.,  14896.,  13232.,   9098.,  12733.,  11556.,  18912.,\n",
              "        13054.,  13073.,  11527.,   8579.,  11001.,  12925.,  12401.,\n",
              "        11711.,  12069.,  11786.,   8715.,  10731.,  12539.,   9353.,\n",
              "        12137.,  12198.,  11706.,   9086.,  11592.,  12862.,  13238.,\n",
              "        13914.,  13919.,  14278.,  10494.,  13682.,  16930.,  16599.,\n",
              "        16562.,  16805.,  15614.,  12270.,  14998.,  17425.,  16829.,\n",
              "        18325.,  18724.,  18652.,  15353.,  17877.,  22855.,  23306.,\n",
              "        24849.,  25160.,  26524.,  24445.,  28881.,  35852.,  39709.,\n",
              "        40927.,  43867.,  47076.,  40695.,  47321.,  53482.,  59160.,\n",
              "        62334.,  62772.,  68329.,  56258.,  53415.,  72421.,  81821.,\n",
              "        89508.,  93550., 104370.,  97169., 115797., 126846., 132441.,\n",
              "       145809., 153435., 170768., 161612., 186549., 200615., 217722.,\n",
              "       235063., 261817., 276453., 258596., 295617., 317289., 333823.,\n",
              "       346963., 350404., 356493., 321078., 364481., 381305., 388478.,\n",
              "       403816., 394972., 372654., 358721., 386503., 415595., 417882.,\n",
              "       410245., 407147., 369630., 333802., 352147., 366194., 346731.,\n",
              "       330247., 314565., 286631., 268070., 271874., 282341., 264962.,\n",
              "       263322., 247433., 229499., 202968., 215406., 217417., 193321.,\n",
              "       181337., 173420., 161760., 135672., 140876., 142856., 142112.,\n",
              "       130301., 123960., 111617.,  96686., 101323., 103864., 103005.,\n",
              "        95709.,  91831.,  83040.,  71412.,  72249.,  78374.,  75544.,\n",
              "        74594.,  73355.,  68896.,  57834.,  64377.,  69965.,  68527.,\n",
              "        66973.,  68099.,  66665.,  56680.,  64443.,  66861.,  66211.,\n",
              "        66134.,  65745.,  64168.,  57968.,  66464.,  68849.,  69065.,\n",
              "        68450.,  69243.,  65408.,  59924.,  68492.,  71676.,  71678.,\n",
              "        73585.,  76107.,  75741.,  69655.,  78934.,  80857.,  80464.,\n",
              "        87944.,  89174.,  88251.,  79752.,  89455.,  92796.,  97150.,\n",
              "        96467.,  99429.,  95746.,  82757.,  93021.,  94079., 101631.,\n",
              "       100875., 100523., 101192.,  89545.,  91396., 102838., 107147.,\n",
              "       102902., 101745.,  97231.,  82792.,  89506., 101526., 105796.,\n",
              "       102826., 100052.,  95487.,  86543.,  97435., 113002., 120545.,\n",
              "       123633., 121721., 121853., 109709., 111839., 124143., 128489.,\n",
              "       126826., 129714., 130143., 121889.,  75015.,  89855.,  95536.,\n",
              "        96762.,  97655.,  94414.,  93220.,  81909.,  91097.,  97860.,\n",
              "        96787.,  92973.,  92574.,  87395.,  74493.,  83362.,  86703.,\n",
              "        85921.,  85717.,  88759.,  82770.,  69669.,  80500.,  86748.,\n",
              "        81785.,  79885.,  75479.,  74770.,  60130.,  71869.,  78809.,\n",
              "        70798.,  73305.,  74418.,  67789.,  54262.,  63717.,  67811.,\n",
              "        63441.,  62304.,  61893.,  56519.,  45506.,  54348.,  56264.,\n",
              "        54371.,  53931.,  50366.,  45922.,  36104.,  43036.,  50188.,\n",
              "        48765.,  48117.,  47228.,  45928.,  37592.,  46027.,  50465.,\n",
              "        47628.,  50359.,  45811.,  46707.,  37119.,  44724.,  48285.,\n",
              "        44584.,  44620.,  41692.,  30681.,  28609.,  38548.,  45366.,\n",
              "        46185.,  46283.,  45301.,  44404.,  37441.,  44245.,  44699.,\n",
              "        43174.,  41353.,  41815.,  39036.,  31179.,  36474.,  35506.,\n",
              "        36574.,  36711.,  36010.,  33178.,  26227.,  32083.,  31637.,\n",
              "        29411.,  29961.,  30354.,  27336.,  21941.,  26251.,  18172.,\n",
              "        26754.,  26991.,  26834.,  24622.,  19147.,  23880.,  24716.,\n",
              "        23444.,  22349.,  18575.,  20333.,  16072.,  20542.,  21945.,\n",
              "        19026.])"
            ]
          },
          "metadata": {},
          "execution_count": 148
        }
      ]
    },
    {
      "cell_type": "code",
      "metadata": {
        "colab": {
          "base_uri": "https://localhost:8080/",
          "height": 265
        },
        "id": "HZToTQ9w-VS5",
        "outputId": "b61b9017-f508-4b76-fac2-11ddc78df83d"
      },
      "source": [
        "plt.scatter(x,y)\n",
        "plt.plot(x,Dyp,color='k',linewidth=4)\n",
        "plt.show()"
      ],
      "execution_count": 150,
      "outputs": [
        {
          "output_type": "display_data",
          "data": {
            "image/png": "[encoded data removed]",
            "text/plain": [
              "<Figure size 432x288 with 1 Axes>"
            ]
          },
          "metadata": {
            "needs_background": "light"
          }
        }
      ]
    },
    {
      "cell_type": "code",
      "metadata": {
        "colab": {
          "base_uri": "https://localhost:8080/"
        },
        "id": "OovbwkBF-sbp",
        "outputId": "0140f65f-8f02-4600-dc45-a47f11822ec0"
      },
      "source": [
        "reg2.score(x,y)*100"
      ],
      "execution_count": 152,
      "outputs": [
        {
          "output_type": "execute_result",
          "data": {
            "text/plain": [
              "100.0"
            ]
          },
          "metadata": {},
          "execution_count": 152
        }
      ]
    },
    {
      "cell_type": "code",
      "metadata": {
        "colab": {
          "base_uri": "https://localhost:8080/"
        },
        "id": "hw61hBLt-9yW",
        "outputId": "5de8cbd2-4fff-4159-d804-1a856bebf979"
      },
      "source": [
        "y[364]"
      ],
      "execution_count": 153,
      "outputs": [
        {
          "output_type": "execute_result",
          "data": {
            "text/plain": [
              "array([19026.])"
            ]
          },
          "metadata": {},
          "execution_count": 153
        }
      ]
    },
    {
      "cell_type": "code",
      "metadata": {
        "colab": {
          "base_uri": "https://localhost:8080/"
        },
        "id": "MQXEiEv4Amb5",
        "outputId": "999bb8ab-d5a8-458b-cd5e-12a18f0a0867"
      },
      "source": [
        "reg2.predict([[300]])"
      ],
      "execution_count": 164,
      "outputs": [
        {
          "output_type": "execute_result",
          "data": {
            "text/plain": [
              "array([50188.])"
            ]
          },
          "metadata": {},
          "execution_count": 164
        }
      ]
    },
    {
      "cell_type": "code",
      "metadata": {
        "colab": {
          "base_uri": "https://localhost:8080/"
        },
        "id": "gLvMcs6U_Khm",
        "outputId": "7732db79-b4ea-4375-e65e-90153e80bbbe"
      },
      "source": [
        "reg2.predict([[248]])"
      ],
      "execution_count": 155,
      "outputs": [
        {
          "output_type": "execute_result",
          "data": {
            "text/plain": [
              "array([121889.])"
            ]
          },
          "metadata": {},
          "execution_count": 155
        }
      ]
    },
    {
      "cell_type": "code",
      "metadata": {
        "colab": {
          "base_uri": "https://localhost:8080/"
        },
        "id": "3o1cY56wANrE",
        "outputId": "c63fd1a7-098e-41b1-ac29-acf88e1f8862"
      },
      "source": [
        "y[248]"
      ],
      "execution_count": 156,
      "outputs": [
        {
          "output_type": "execute_result",
          "data": {
            "text/plain": [
              "array([121889.])"
            ]
          },
          "metadata": {},
          "execution_count": 156
        }
      ]
    },
    {
      "cell_type": "code",
      "metadata": {
        "colab": {
          "base_uri": "https://localhost:8080/"
        },
        "id": "gGbny_TgAf06",
        "outputId": "7c13c225-25f4-4851-d2c5-4fd76b023a63"
      },
      "source": [
        "y[300]"
      ],
      "execution_count": 165,
      "outputs": [
        {
          "output_type": "execute_result",
          "data": {
            "text/plain": [
              "array([50188.])"
            ]
          },
          "metadata": {},
          "execution_count": 165
        }
      ]
    },
    {
      "cell_type": "code",
      "metadata": {
        "id": "hM8ZseQgAkJH"
      },
      "source": [
        ""
      ],
      "execution_count": null,
      "outputs": []
    }
  ]
}